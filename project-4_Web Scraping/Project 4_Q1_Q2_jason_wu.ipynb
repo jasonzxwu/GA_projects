{
 "cells": [
  {
   "cell_type": "markdown",
   "metadata": {},
   "source": [
    "# DSI Project 4 – Web Scraping of Job Posting \n",
    "## Executive Summary\n",
    "\n",
    "Project 4 provides an opportunity to practice all the knowledge we have learnt so far, with a good mix of data processing, web scraping as well as NLP. The project requires student to scrape job information pertaining to data science and affiliated roles from career site based our choice. I chose Indeed.co.uk as I think majority of the students scrape US or Singapore data science career information, and I think it’s worth to look at the UK data. Initially, accessing individual webpage is planned, however, due to the challenges and extremely slow processing, the decision is decided to scrape only information available on the search page instead. The final processed data frame with salary status is shown below. The salary data has its own flaws as the total scraped entries are around 8000 , and this is not even 30% of it. However, with this, we still can obtain some insights.<br>\n",
    "\n",
    "There are:\n",
    "- total of 2848 entries\n",
    "- 1920 permanent data related jobs and 928 fulltime data related jobs\n",
    "- 604 data engineer, 593 business intelligence, 590 analytics, 546 data analyst, 515 research scientist , surprisingly no search result with job tag ‘data scientist’ has salary information. Interestingly, I get roughly the same amount of entries for each job search tag.\n",
    "- Job posted more than 1 month has the largest number which is 759, the rest are quite low.\n",
    "- ‘harnham’ is the company that provides the most number of data related jobs. From the total extracted data, ‘harnham’ is still the top employer. However, PCW become second, probably it does not like to disclose the salary when it hires. \n",
    "- London is the top city that has most data related jobs, and accounts for nearly 30% of the total job posts.\n",
    "\n",
    "The salary data has its own flaws as the total scraped entries are around 8000 , and this is not even 30% of it. However, with this, we still can obtain some insights. Especially, the large number of outliers in salary is affecting the classification. The numerical values here, such as post_time (duration of job being posted) as well we no_of_review (number of people who reviewed jobs) has no clear relation with annual salary at all. Therefore, other features with texts are considered and thus the application of NLP. <br>\n",
    "\n",
    "Logistic regression is used, as mentioned earlier, the numerical values are totally hopeless and could not establish clear relationship. Thus, NLP is a good application. In addition, I have classified the annual salary as high (1) or low (0), which is a binary outcome, and a perfect use case for logistic regression. The first classificaiton model is using logistic regression and Scikit Learn libirary packages. More sepecifically, the TfidfVectorizer as we are using the TF-IDF bag of n-grams approach. This is because we are using bag of words modeling, it is straightforward yet powerful.TF-IDF weight is a statistical measure used to evaluate how important a word is to a document in a collection or corpus. The importance increases proportionally to the number of times a word appears in the document but is offset by the frequency of the word in the corpus.<br>\n",
    "\n",
    "\n",
    "A decision tree estimator is used to find out the important features. The job titles do have a significant importance compared to the other two features. However, it is still difficult to conclude which feature has importance to predict salary. A little bit insight is probably that titles with analyst, data scientist and data engineer are more important.<br>\n",
    "\n",
    "\n",
    "When location data is added, it seems that now London and graduate has more impact. Apparently, from the EDA we can already tell that London has the highest number of jobs available for data related business. <br>\n",
    "\n",
    "\n",
    "Interestingly, decision tree gives us the most important feature for the combined data is now 'engineer' and second by 'scientist'. Perhaps, the demand for data engineer or machine learning engineer is increasing. It seems these two models are not very good as the results are not consisten. As our baseline model says the top 2 important features are : location (london) and job title(graduate), and now the final model says the top 2 important features are both from job summary: engineer and scientist.\n",
    "\n"
   ]
  },
  {
   "cell_type": "markdown",
   "metadata": {},
   "source": [
    "QUESTION 1: Factors that impact salary\n",
    "\n",
    "To predict salary you will be building either a classification or regression model, using features like the location, title, and summary of the job. If framing this as a regression problem, you will be estimating the listed salary amounts. You may instead choose to frame this as a classification problem, in which case you will create labels from these salaries (high vs. low salary, for example) according to thresholds (such as median salary).\n",
    "\n",
    "You have learned a variety of new skills and models that may be useful for this problem:\n",
    "\n",
    "    NLP\n",
    "    Unsupervised learning and dimensionality reduction techniques (PCA, clustering)\n",
    "    Ensemble methods and decision tree models\n",
    "    SVM models\n",
    "\n",
    "Whatever you decide to use, the most important thing is to justify your choices and interpret your results. Communication of your process is key. Note that most listings DO NOT come with salary information. You'll need to able to extrapolate or predict the expected salaries for these listings."
   ]
  },
  {
   "cell_type": "code",
   "execution_count": 1,
   "metadata": {},
   "outputs": [],
   "source": [
    "import pandas as pd\n",
    "import numpy as np\n",
    "import matplotlib.pyplot as plt\n",
    "import seaborn as sns\n",
    "import re\n",
    "\n",
    "import sklearn\n",
    "from sklearn.linear_model import LogisticRegression\n",
    "from sklearn.feature_extraction.text import CountVectorizer\n",
    "from sklearn.metrics import confusion_matrix, classification_report\n",
    "from sklearn.metrics import roc_curve, auc\n",
    "\n",
    "%matplotlib inline"
   ]
  },
  {
   "cell_type": "code",
   "execution_count": 2,
   "metadata": {},
   "outputs": [
    {
     "data": {
      "text/html": [
       "<div>\n",
       "<style scoped>\n",
       "    .dataframe tbody tr th:only-of-type {\n",
       "        vertical-align: middle;\n",
       "    }\n",
       "\n",
       "    .dataframe tbody tr th {\n",
       "        vertical-align: top;\n",
       "    }\n",
       "\n",
       "    .dataframe thead th {\n",
       "        text-align: right;\n",
       "    }\n",
       "</style>\n",
       "<table border=\"1\" class=\"dataframe\">\n",
       "  <thead>\n",
       "    <tr style=\"text-align: right;\">\n",
       "      <th></th>\n",
       "      <th>Unnamed: 0</th>\n",
       "      <th>Unnamed: 0.1</th>\n",
       "      <th>job_id</th>\n",
       "      <th>job_types</th>\n",
       "      <th>job_tag</th>\n",
       "      <th>post_time</th>\n",
       "      <th>job_title</th>\n",
       "      <th>company</th>\n",
       "      <th>salary</th>\n",
       "      <th>location</th>\n",
       "      <th>no_of_review</th>\n",
       "      <th>job_summary</th>\n",
       "    </tr>\n",
       "  </thead>\n",
       "  <tbody>\n",
       "    <tr>\n",
       "      <th>0</th>\n",
       "      <td>0</td>\n",
       "      <td>0</td>\n",
       "      <td>jl_aefa77662d5bfc1d</td>\n",
       "      <td>fulltime</td>\n",
       "      <td>analytics</td>\n",
       "      <td>6 days ago</td>\n",
       "      <td>Head of Customer Insight &amp; Analytics</td>\n",
       "      <td>Rank Group</td>\n",
       "      <td>NaN</td>\n",
       "      <td>Maidenhead</td>\n",
       "      <td>18 reviews</td>\n",
       "      <td>� Responsible for leading a team of Analysts a...</td>\n",
       "    </tr>\n",
       "    <tr>\n",
       "      <th>1</th>\n",
       "      <td>1</td>\n",
       "      <td>1</td>\n",
       "      <td>jl_719d91b70ae97f1c</td>\n",
       "      <td>fulltime</td>\n",
       "      <td>analytics</td>\n",
       "      <td>1 day ago</td>\n",
       "      <td>Head of Performance &amp; Analytics</td>\n",
       "      <td>Barnet Clinical Commissioning Group</td>\n",
       "      <td>£63,754 - £75,907 a year</td>\n",
       "      <td>Barnet</td>\n",
       "      <td>NaN</td>\n",
       "      <td>Reporting to the Director of QIPP, Planning an...</td>\n",
       "    </tr>\n",
       "    <tr>\n",
       "      <th>2</th>\n",
       "      <td>2</td>\n",
       "      <td>2</td>\n",
       "      <td>jl_d123655931ba246c</td>\n",
       "      <td>fulltime</td>\n",
       "      <td>analytics</td>\n",
       "      <td>43 minutes ago</td>\n",
       "      <td>Insights &amp; Analytics Intern | 8 week summer pl...</td>\n",
       "      <td>Asos.com</td>\n",
       "      <td>NaN</td>\n",
       "      <td>London</td>\n",
       "      <td>233 reviews</td>\n",
       "      <td>Developing a great understanding of modern ana...</td>\n",
       "    </tr>\n",
       "    <tr>\n",
       "      <th>3</th>\n",
       "      <td>3</td>\n",
       "      <td>3</td>\n",
       "      <td>jl_72f97ac8201bc2a2</td>\n",
       "      <td>fulltime</td>\n",
       "      <td>analytics</td>\n",
       "      <td>30+ days ago</td>\n",
       "      <td>Intern (Data Analytics)</td>\n",
       "      <td>Keppel Corporation</td>\n",
       "      <td>NaN</td>\n",
       "      <td>Keppel</td>\n",
       "      <td>3 reviews</td>\n",
       "      <td>Supports the Data Analytics team on project ba...</td>\n",
       "    </tr>\n",
       "    <tr>\n",
       "      <th>4</th>\n",
       "      <td>4</td>\n",
       "      <td>4</td>\n",
       "      <td>jl_bbd4d855dae0fede</td>\n",
       "      <td>fulltime</td>\n",
       "      <td>analytics</td>\n",
       "      <td>19 hours ago</td>\n",
       "      <td>Data &amp; Analytics Analyst</td>\n",
       "      <td>RBS</td>\n",
       "      <td>NaN</td>\n",
       "      <td>Belfast</td>\n",
       "      <td>2,920 reviews</td>\n",
       "      <td>Strong analytic and problem solving abilities....</td>\n",
       "    </tr>\n",
       "  </tbody>\n",
       "</table>\n",
       "</div>"
      ],
      "text/plain": [
       "   Unnamed: 0  Unnamed: 0.1               job_id job_types    job_tag  \\\n",
       "0           0             0  jl_aefa77662d5bfc1d  fulltime  analytics   \n",
       "1           1             1  jl_719d91b70ae97f1c  fulltime  analytics   \n",
       "2           2             2  jl_d123655931ba246c  fulltime  analytics   \n",
       "3           3             3  jl_72f97ac8201bc2a2  fulltime  analytics   \n",
       "4           4             4  jl_bbd4d855dae0fede  fulltime  analytics   \n",
       "\n",
       "        post_time                                          job_title  \\\n",
       "0      6 days ago               Head of Customer Insight & Analytics   \n",
       "1       1 day ago                    Head of Performance & Analytics   \n",
       "2  43 minutes ago  Insights & Analytics Intern | 8 week summer pl...   \n",
       "3    30+ days ago                            Intern (Data Analytics)   \n",
       "4    19 hours ago                           Data & Analytics Analyst   \n",
       "\n",
       "                               company                    salary    location  \\\n",
       "0                           Rank Group                       NaN  Maidenhead   \n",
       "1  Barnet Clinical Commissioning Group  £63,754 - £75,907 a year      Barnet   \n",
       "2                             Asos.com                       NaN      London   \n",
       "3                   Keppel Corporation                       NaN      Keppel   \n",
       "4                                  RBS                       NaN     Belfast   \n",
       "\n",
       "    no_of_review                                        job_summary  \n",
       "0     18 reviews  � Responsible for leading a team of Analysts a...  \n",
       "1            NaN  Reporting to the Director of QIPP, Planning an...  \n",
       "2    233 reviews  Developing a great understanding of modern ana...  \n",
       "3      3 reviews  Supports the Data Analytics team on project ba...  \n",
       "4  2,920 reviews  Strong analytic and problem solving abilities....  "
      ]
     },
     "execution_count": 2,
     "metadata": {},
     "output_type": "execute_result"
    }
   ],
   "source": [
    "#import scraped data\n",
    "df_raw=pd.read_csv('combined.csv')\n",
    "df_raw.head()"
   ]
  },
  {
   "cell_type": "code",
   "execution_count": 3,
   "metadata": {},
   "outputs": [],
   "source": [
    "df=df_raw.copy()"
   ]
  },
  {
   "cell_type": "code",
   "execution_count": 4,
   "metadata": {},
   "outputs": [],
   "source": [
    "df.drop('Unnamed: 0',axis=1, inplace=True)"
   ]
  },
  {
   "cell_type": "code",
   "execution_count": 5,
   "metadata": {},
   "outputs": [],
   "source": [
    "df.drop('Unnamed: 0.1',axis=1,inplace=True)"
   ]
  },
  {
   "cell_type": "code",
   "execution_count": 6,
   "metadata": {},
   "outputs": [
    {
     "data": {
      "text/html": [
       "<div>\n",
       "<style scoped>\n",
       "    .dataframe tbody tr th:only-of-type {\n",
       "        vertical-align: middle;\n",
       "    }\n",
       "\n",
       "    .dataframe tbody tr th {\n",
       "        vertical-align: top;\n",
       "    }\n",
       "\n",
       "    .dataframe thead th {\n",
       "        text-align: right;\n",
       "    }\n",
       "</style>\n",
       "<table border=\"1\" class=\"dataframe\">\n",
       "  <thead>\n",
       "    <tr style=\"text-align: right;\">\n",
       "      <th></th>\n",
       "      <th>job_id</th>\n",
       "      <th>job_types</th>\n",
       "      <th>job_tag</th>\n",
       "      <th>post_time</th>\n",
       "      <th>job_title</th>\n",
       "      <th>company</th>\n",
       "      <th>salary</th>\n",
       "      <th>location</th>\n",
       "      <th>no_of_review</th>\n",
       "      <th>job_summary</th>\n",
       "    </tr>\n",
       "  </thead>\n",
       "  <tbody>\n",
       "    <tr>\n",
       "      <th>0</th>\n",
       "      <td>jl_aefa77662d5bfc1d</td>\n",
       "      <td>fulltime</td>\n",
       "      <td>analytics</td>\n",
       "      <td>6 days ago</td>\n",
       "      <td>Head of Customer Insight &amp; Analytics</td>\n",
       "      <td>Rank Group</td>\n",
       "      <td>NaN</td>\n",
       "      <td>Maidenhead</td>\n",
       "      <td>18 reviews</td>\n",
       "      <td>� Responsible for leading a team of Analysts a...</td>\n",
       "    </tr>\n",
       "    <tr>\n",
       "      <th>1</th>\n",
       "      <td>jl_719d91b70ae97f1c</td>\n",
       "      <td>fulltime</td>\n",
       "      <td>analytics</td>\n",
       "      <td>1 day ago</td>\n",
       "      <td>Head of Performance &amp; Analytics</td>\n",
       "      <td>Barnet Clinical Commissioning Group</td>\n",
       "      <td>£63,754 - £75,907 a year</td>\n",
       "      <td>Barnet</td>\n",
       "      <td>NaN</td>\n",
       "      <td>Reporting to the Director of QIPP, Planning an...</td>\n",
       "    </tr>\n",
       "    <tr>\n",
       "      <th>2</th>\n",
       "      <td>jl_d123655931ba246c</td>\n",
       "      <td>fulltime</td>\n",
       "      <td>analytics</td>\n",
       "      <td>43 minutes ago</td>\n",
       "      <td>Insights &amp; Analytics Intern | 8 week summer pl...</td>\n",
       "      <td>Asos.com</td>\n",
       "      <td>NaN</td>\n",
       "      <td>London</td>\n",
       "      <td>233 reviews</td>\n",
       "      <td>Developing a great understanding of modern ana...</td>\n",
       "    </tr>\n",
       "    <tr>\n",
       "      <th>3</th>\n",
       "      <td>jl_72f97ac8201bc2a2</td>\n",
       "      <td>fulltime</td>\n",
       "      <td>analytics</td>\n",
       "      <td>30+ days ago</td>\n",
       "      <td>Intern (Data Analytics)</td>\n",
       "      <td>Keppel Corporation</td>\n",
       "      <td>NaN</td>\n",
       "      <td>Keppel</td>\n",
       "      <td>3 reviews</td>\n",
       "      <td>Supports the Data Analytics team on project ba...</td>\n",
       "    </tr>\n",
       "    <tr>\n",
       "      <th>4</th>\n",
       "      <td>jl_bbd4d855dae0fede</td>\n",
       "      <td>fulltime</td>\n",
       "      <td>analytics</td>\n",
       "      <td>19 hours ago</td>\n",
       "      <td>Data &amp; Analytics Analyst</td>\n",
       "      <td>RBS</td>\n",
       "      <td>NaN</td>\n",
       "      <td>Belfast</td>\n",
       "      <td>2,920 reviews</td>\n",
       "      <td>Strong analytic and problem solving abilities....</td>\n",
       "    </tr>\n",
       "    <tr>\n",
       "      <th>5</th>\n",
       "      <td>jl_e9ea6c3d4fca065a</td>\n",
       "      <td>fulltime</td>\n",
       "      <td>analytics</td>\n",
       "      <td>30+ days ago</td>\n",
       "      <td>Analytics Graduate Programme 2019-2020</td>\n",
       "      <td>Accenture</td>\n",
       "      <td>NaN</td>\n",
       "      <td>London</td>\n",
       "      <td>14,997 reviews</td>\n",
       "      <td>Analytics Graduate Programme. The answer is An...</td>\n",
       "    </tr>\n",
       "    <tr>\n",
       "      <th>6</th>\n",
       "      <td>jl_cee98ab894ae35fa</td>\n",
       "      <td>fulltime</td>\n",
       "      <td>analytics</td>\n",
       "      <td>2 days ago</td>\n",
       "      <td>Reporting Analytics Manager</td>\n",
       "      <td>Homes England</td>\n",
       "      <td>£30,300 - £58,580 a year</td>\n",
       "      <td>Birmingham B3</td>\n",
       "      <td>2 reviews</td>\n",
       "      <td>The Reporting and Analytics Manager will repor...</td>\n",
       "    </tr>\n",
       "    <tr>\n",
       "      <th>7</th>\n",
       "      <td>jl_b31a196a2fff5772</td>\n",
       "      <td>fulltime</td>\n",
       "      <td>analytics</td>\n",
       "      <td>1 day ago</td>\n",
       "      <td>Advanced Analytics Consultant (Predictive, AI,...</td>\n",
       "      <td>Capita Plc</td>\n",
       "      <td>NaN</td>\n",
       "      <td>Edinburgh</td>\n",
       "      <td>2,018 reviews</td>\n",
       "      <td>Become an Advanced Analytics Consultant with B...</td>\n",
       "    </tr>\n",
       "    <tr>\n",
       "      <th>8</th>\n",
       "      <td>jl_075807601f30181b</td>\n",
       "      <td>fulltime</td>\n",
       "      <td>analytics</td>\n",
       "      <td>6 hours ago</td>\n",
       "      <td>Innovus Summer Intern</td>\n",
       "      <td>Cadence Design Systems</td>\n",
       "      <td>NaN</td>\n",
       "      <td>Cambridge</td>\n",
       "      <td>147 reviews</td>\n",
       "      <td>O Excellent Creative Analytic Problem Solving ...</td>\n",
       "    </tr>\n",
       "    <tr>\n",
       "      <th>9</th>\n",
       "      <td>jl_6ee1d3010e922914</td>\n",
       "      <td>fulltime</td>\n",
       "      <td>analytics</td>\n",
       "      <td>1 day ago</td>\n",
       "      <td>Segment Analytics Lead</td>\n",
       "      <td>BP</td>\n",
       "      <td>NaN</td>\n",
       "      <td>Sunbury</td>\n",
       "      <td>2,512 reviews</td>\n",
       "      <td>People Analytics experience. To build HR analy...</td>\n",
       "    </tr>\n",
       "    <tr>\n",
       "      <th>10</th>\n",
       "      <td>jl_049ccf52f0ad0d2b</td>\n",
       "      <td>fulltime</td>\n",
       "      <td>analytics</td>\n",
       "      <td>6 days ago</td>\n",
       "      <td>Analyst, Capital Analytics</td>\n",
       "      <td>RBS</td>\n",
       "      <td>NaN</td>\n",
       "      <td>Birmingham</td>\n",
       "      <td>2,920 reviews</td>\n",
       "      <td>We're looking for an Analyst to join the Capit...</td>\n",
       "    </tr>\n",
       "    <tr>\n",
       "      <th>11</th>\n",
       "      <td>jl_eeff279910ff9414</td>\n",
       "      <td>fulltime</td>\n",
       "      <td>analytics</td>\n",
       "      <td>30+ days ago</td>\n",
       "      <td>Analytics Summer Internship (3 months)</td>\n",
       "      <td>Expedia</td>\n",
       "      <td>NaN</td>\n",
       "      <td>London EC1V</td>\n",
       "      <td>634 reviews</td>\n",
       "      <td>Final or penultimate year of a Statistics, Mat...</td>\n",
       "    </tr>\n",
       "    <tr>\n",
       "      <th>12</th>\n",
       "      <td>jl_c61d7463c8cad740</td>\n",
       "      <td>fulltime</td>\n",
       "      <td>analytics</td>\n",
       "      <td>1 day ago</td>\n",
       "      <td>FCTM Applied Analytics Analyst</td>\n",
       "      <td>HSBC</td>\n",
       "      <td>NaN</td>\n",
       "      <td>Birmingham</td>\n",
       "      <td>10,548 reviews</td>\n",
       "      <td>Provide an interface between SFR Regional anal...</td>\n",
       "    </tr>\n",
       "    <tr>\n",
       "      <th>13</th>\n",
       "      <td>jl_2147151701cc08a1</td>\n",
       "      <td>fulltime</td>\n",
       "      <td>analytics</td>\n",
       "      <td>9 days ago</td>\n",
       "      <td>S4 Reporting &amp; Analytics Expert</td>\n",
       "      <td>Vodafone</td>\n",
       "      <td>NaN</td>\n",
       "      <td>Newbury</td>\n",
       "      <td>3,449 reviews</td>\n",
       "      <td>S4 Reporting &amp; Analytics Expert. Experience of...</td>\n",
       "    </tr>\n",
       "    <tr>\n",
       "      <th>14</th>\n",
       "      <td>jl_3743f58a077d8f3f</td>\n",
       "      <td>fulltime</td>\n",
       "      <td>analytics</td>\n",
       "      <td>30+ days ago</td>\n",
       "      <td>Analytics Consultant</td>\n",
       "      <td>Tessella</td>\n",
       "      <td>NaN</td>\n",
       "      <td>Abingdon</td>\n",
       "      <td>2 reviews</td>\n",
       "      <td>Provide analytics and consultancy capabilities...</td>\n",
       "    </tr>\n",
       "    <tr>\n",
       "      <th>15</th>\n",
       "      <td>jl_6383903eedf080e0</td>\n",
       "      <td>fulltime</td>\n",
       "      <td>analytics</td>\n",
       "      <td>9 days ago</td>\n",
       "      <td>Life Sciences Consultants - Victoria, London</td>\n",
       "      <td>PA Consulting Group</td>\n",
       "      <td>NaN</td>\n",
       "      <td>London</td>\n",
       "      <td>52 reviews</td>\n",
       "      <td>Our team enables our clients to accelerate R&amp;D...</td>\n",
       "    </tr>\n",
       "    <tr>\n",
       "      <th>16</th>\n",
       "      <td>jl_cf231c48d7af807d</td>\n",
       "      <td>fulltime</td>\n",
       "      <td>analytics</td>\n",
       "      <td>8 days ago</td>\n",
       "      <td>Contracting Analytics Specialist</td>\n",
       "      <td>NEL</td>\n",
       "      <td>£39,866 - £49,704 a year</td>\n",
       "      <td>London SE1</td>\n",
       "      <td>7 reviews</td>\n",
       "      <td>We are looking for an enthusiastic, experience...</td>\n",
       "    </tr>\n",
       "    <tr>\n",
       "      <th>17</th>\n",
       "      <td>jl_ca68adeb245f7986</td>\n",
       "      <td>fulltime</td>\n",
       "      <td>analytics</td>\n",
       "      <td>15 days ago</td>\n",
       "      <td>Analytics &amp; Optimization Manager</td>\n",
       "      <td>HSBC</td>\n",
       "      <td>NaN</td>\n",
       "      <td>Birmingham</td>\n",
       "      <td>10,548 reviews</td>\n",
       "      <td>Analytics &amp; Optimization Manager, Fraud Risk, ...</td>\n",
       "    </tr>\n",
       "    <tr>\n",
       "      <th>18</th>\n",
       "      <td>jl_e81e34ae5d6b70e5</td>\n",
       "      <td>fulltime</td>\n",
       "      <td>analytics</td>\n",
       "      <td>30 days ago</td>\n",
       "      <td>2019 UK Graduate consultant scheme: Economic &amp;...</td>\n",
       "      <td>Mott MacDonald</td>\n",
       "      <td>NaN</td>\n",
       "      <td>London</td>\n",
       "      <td>394 reviews</td>\n",
       "      <td>Analytics - GIS, spatial mapping, data managem...</td>\n",
       "    </tr>\n",
       "    <tr>\n",
       "      <th>19</th>\n",
       "      <td>jl_93d5326817f2029b</td>\n",
       "      <td>fulltime</td>\n",
       "      <td>analytics</td>\n",
       "      <td>22 days ago</td>\n",
       "      <td>Assistant Director of Analytics, Deputy CIO</td>\n",
       "      <td>East Lancashire Hospitals NHS Trust</td>\n",
       "      <td>£70,206 - £85,333 a year</td>\n",
       "      <td>Blackburn BB2</td>\n",
       "      <td>13 reviews</td>\n",
       "      <td>The Directorate is looking to employ an Assist...</td>\n",
       "    </tr>\n",
       "    <tr>\n",
       "      <th>20</th>\n",
       "      <td>jl_64c2324b62408960</td>\n",
       "      <td>fulltime</td>\n",
       "      <td>analytics</td>\n",
       "      <td>30+ days ago</td>\n",
       "      <td>Data &amp; Analytics</td>\n",
       "      <td>PwC</td>\n",
       "      <td>NaN</td>\n",
       "      <td>London</td>\n",
       "      <td>5,990 reviews</td>\n",
       "      <td>A career in within Data and Analytics Technolo...</td>\n",
       "    </tr>\n",
       "    <tr>\n",
       "      <th>21</th>\n",
       "      <td>jl_d58410d85cc195db</td>\n",
       "      <td>fulltime</td>\n",
       "      <td>analytics</td>\n",
       "      <td>27 days ago</td>\n",
       "      <td>Real World Data and Analytics</td>\n",
       "      <td>GlaxoSmithKline</td>\n",
       "      <td>NaN</td>\n",
       "      <td>London</td>\n",
       "      <td>3,197 reviews</td>\n",
       "      <td>Working in our Real World Data and Analytics t...</td>\n",
       "    </tr>\n",
       "    <tr>\n",
       "      <th>22</th>\n",
       "      <td>jl_203cbc9e197e0a62</td>\n",
       "      <td>fulltime</td>\n",
       "      <td>analytics</td>\n",
       "      <td>6 days ago</td>\n",
       "      <td>Capital Analytics Manager</td>\n",
       "      <td>RBS</td>\n",
       "      <td>NaN</td>\n",
       "      <td>Birmingham</td>\n",
       "      <td>2,920 reviews</td>\n",
       "      <td>We're looking for a Capital Analytics Manager ...</td>\n",
       "    </tr>\n",
       "    <tr>\n",
       "      <th>23</th>\n",
       "      <td>jl_98ea7be1a063d0fb</td>\n",
       "      <td>fulltime</td>\n",
       "      <td>analytics</td>\n",
       "      <td>1 day ago</td>\n",
       "      <td>Senior Associate, Performance and Analytics</td>\n",
       "      <td>SS and C GlobeOp Financial Services</td>\n",
       "      <td>NaN</td>\n",
       "      <td>London</td>\n",
       "      <td>98 reviews</td>\n",
       "      <td>Senior Associate, Performance and Analytics. D...</td>\n",
       "    </tr>\n",
       "    <tr>\n",
       "      <th>24</th>\n",
       "      <td>jl_9bf799089eefea91</td>\n",
       "      <td>fulltime</td>\n",
       "      <td>analytics</td>\n",
       "      <td>6 days ago</td>\n",
       "      <td>Business Support Officer</td>\n",
       "      <td>NHS England</td>\n",
       "      <td>£23,023 - £29,608 a year</td>\n",
       "      <td>Leeds LS2</td>\n",
       "      <td>4,005 reviews</td>\n",
       "      <td>We are particularly interested, across these r...</td>\n",
       "    </tr>\n",
       "    <tr>\n",
       "      <th>25</th>\n",
       "      <td>jl_2078c984d07c8ed4</td>\n",
       "      <td>fulltime</td>\n",
       "      <td>analytics</td>\n",
       "      <td>26 days ago</td>\n",
       "      <td>Analytics Developer</td>\n",
       "      <td>Sainsburys</td>\n",
       "      <td>NaN</td>\n",
       "      <td>Milton Keynes</td>\n",
       "      <td>6,733 reviews</td>\n",
       "      <td>Analytics Developer - 18001IDN). We currently ...</td>\n",
       "    </tr>\n",
       "    <tr>\n",
       "      <th>26</th>\n",
       "      <td>jl_04e44c228508c8c0</td>\n",
       "      <td>fulltime</td>\n",
       "      <td>analytics</td>\n",
       "      <td>9 days ago</td>\n",
       "      <td>Senior Analytical Consultant - Predictive Anal...</td>\n",
       "      <td>Dun &amp; Bradstreet</td>\n",
       "      <td>NaN</td>\n",
       "      <td>Marlow</td>\n",
       "      <td>166 reviews</td>\n",
       "      <td>Develop full custom analytics solutions. Provi...</td>\n",
       "    </tr>\n",
       "    <tr>\n",
       "      <th>27</th>\n",
       "      <td>jl_0a0d11066180687a</td>\n",
       "      <td>fulltime</td>\n",
       "      <td>analytics</td>\n",
       "      <td>8 days ago</td>\n",
       "      <td>Digital Journalist</td>\n",
       "      <td>Reach</td>\n",
       "      <td>NaN</td>\n",
       "      <td>Bath</td>\n",
       "      <td>NaN</td>\n",
       "      <td>You’ll need to be good at building contacts an...</td>\n",
       "    </tr>\n",
       "    <tr>\n",
       "      <th>28</th>\n",
       "      <td>jl_01c216b0688ac55a</td>\n",
       "      <td>fulltime</td>\n",
       "      <td>analytics</td>\n",
       "      <td>23 days ago</td>\n",
       "      <td>Data Sciences &amp; AI Graduate Programme - UK</td>\n",
       "      <td>AstraZeneca</td>\n",
       "      <td>NaN</td>\n",
       "      <td>Cambridge CB4</td>\n",
       "      <td>1,484 reviews</td>\n",
       "      <td>Working with our Data &amp; Analytics Team to iden...</td>\n",
       "    </tr>\n",
       "    <tr>\n",
       "      <th>29</th>\n",
       "      <td>jl_340b3a841d57723a</td>\n",
       "      <td>fulltime</td>\n",
       "      <td>analytics</td>\n",
       "      <td>11 days ago</td>\n",
       "      <td>Director of Analytics and Reporting</td>\n",
       "      <td>Groupon</td>\n",
       "      <td>NaN</td>\n",
       "      <td>London</td>\n",
       "      <td>646 reviews</td>\n",
       "      <td>DIRECTOR OF ANALYTICS AND REPORTING. 10+ years...</td>\n",
       "    </tr>\n",
       "    <tr>\n",
       "      <th>...</th>\n",
       "      <td>...</td>\n",
       "      <td>...</td>\n",
       "      <td>...</td>\n",
       "      <td>...</td>\n",
       "      <td>...</td>\n",
       "      <td>...</td>\n",
       "      <td>...</td>\n",
       "      <td>...</td>\n",
       "      <td>...</td>\n",
       "      <td>...</td>\n",
       "    </tr>\n",
       "    <tr>\n",
       "      <th>9712</th>\n",
       "      <td>jl_035f31f144c5af3a</td>\n",
       "      <td>permanent</td>\n",
       "      <td>research+scientist</td>\n",
       "      <td>2 days ago</td>\n",
       "      <td>Software Developer (Java)</td>\n",
       "      <td>CMCL Innovations</td>\n",
       "      <td>NaN</td>\n",
       "      <td>Cambridge</td>\n",
       "      <td>NaN</td>\n",
       "      <td>CMCL Innovations is an award-winning technolog...</td>\n",
       "    </tr>\n",
       "    <tr>\n",
       "      <th>9713</th>\n",
       "      <td>jl_7bd3f0f659fcdd0d</td>\n",
       "      <td>permanent</td>\n",
       "      <td>research+scientist</td>\n",
       "      <td>20 days ago</td>\n",
       "      <td>Lead Data Scientist</td>\n",
       "      <td>Opus Recruitment Solutions</td>\n",
       "      <td>£70,000 a year</td>\n",
       "      <td>Manchester</td>\n",
       "      <td>NaN</td>\n",
       "      <td>If you have a few years’ experience as a Data ...</td>\n",
       "    </tr>\n",
       "    <tr>\n",
       "      <th>9714</th>\n",
       "      <td>jl_d3b8026e8cce7715</td>\n",
       "      <td>permanent</td>\n",
       "      <td>research+scientist</td>\n",
       "      <td>13 days ago</td>\n",
       "      <td>Product Manager (Shortlist)</td>\n",
       "      <td>Adzuna</td>\n",
       "      <td>£40,000 - £50,000 a year</td>\n",
       "      <td>London</td>\n",
       "      <td>NaN</td>\n",
       "      <td>Experience organising and running user researc...</td>\n",
       "    </tr>\n",
       "    <tr>\n",
       "      <th>9715</th>\n",
       "      <td>jl_4790de8fd18ac4bf</td>\n",
       "      <td>permanent</td>\n",
       "      <td>research+scientist</td>\n",
       "      <td>4 days ago</td>\n",
       "      <td>R&amp;D, AI, Data Science, Computer Vision Softwar...</td>\n",
       "      <td>re&amp;m</td>\n",
       "      <td>£35,000 - £70,000 a year</td>\n",
       "      <td>South West</td>\n",
       "      <td>NaN</td>\n",
       "      <td>Track record of successful research *. The res...</td>\n",
       "    </tr>\n",
       "    <tr>\n",
       "      <th>9716</th>\n",
       "      <td>jl_bc1d81d9b2b52ef7</td>\n",
       "      <td>permanent</td>\n",
       "      <td>research+scientist</td>\n",
       "      <td>30+ days ago</td>\n",
       "      <td>Senior Formulation Leader</td>\n",
       "      <td>TemplarFox Consultancy</td>\n",
       "      <td>£35,000 - £55,000 a year</td>\n",
       "      <td>Oxford</td>\n",
       "      <td>NaN</td>\n",
       "      <td>As the Senior Formulation Leader/ Senior Resea...</td>\n",
       "    </tr>\n",
       "    <tr>\n",
       "      <th>9717</th>\n",
       "      <td>jl_b85611eeca1d759a</td>\n",
       "      <td>permanent</td>\n",
       "      <td>research+scientist</td>\n",
       "      <td>23 days ago</td>\n",
       "      <td>Curriculum Specialist – Germany</td>\n",
       "      <td>Telfer Partners Ltd</td>\n",
       "      <td>NaN</td>\n",
       "      <td>London</td>\n",
       "      <td>NaN</td>\n",
       "      <td>Developing relationships with decision makers ...</td>\n",
       "    </tr>\n",
       "    <tr>\n",
       "      <th>9718</th>\n",
       "      <td>jl_8815a5d2a1173780</td>\n",
       "      <td>permanent</td>\n",
       "      <td>research+scientist</td>\n",
       "      <td>30+ days ago</td>\n",
       "      <td>Development Technician - Somerset</td>\n",
       "      <td>Manufacturing Recruitment Ltd</td>\n",
       "      <td>£25,000 a year</td>\n",
       "      <td>Somerset</td>\n",
       "      <td>NaN</td>\n",
       "      <td>Understand and interpret scientists' requireme...</td>\n",
       "    </tr>\n",
       "    <tr>\n",
       "      <th>9719</th>\n",
       "      <td>jl_1152a2cded735504</td>\n",
       "      <td>permanent</td>\n",
       "      <td>research+scientist</td>\n",
       "      <td>15 days ago</td>\n",
       "      <td>Sales Representative</td>\n",
       "      <td>Inspiring Interns</td>\n",
       "      <td>£24,000 a year</td>\n",
       "      <td>West London</td>\n",
       "      <td>4 reviews</td>\n",
       "      <td>They provide new sources of information for sc...</td>\n",
       "    </tr>\n",
       "    <tr>\n",
       "      <th>9720</th>\n",
       "      <td>jl_fed932d3f2a3b624</td>\n",
       "      <td>permanent</td>\n",
       "      <td>research+scientist</td>\n",
       "      <td>7 days ago</td>\n",
       "      <td>Sales Development</td>\n",
       "      <td>Inspiring Interns</td>\n",
       "      <td>£24,000 a year</td>\n",
       "      <td>West London</td>\n",
       "      <td>4 reviews</td>\n",
       "      <td>Identify and research target companies within ...</td>\n",
       "    </tr>\n",
       "    <tr>\n",
       "      <th>9721</th>\n",
       "      <td>jl_415f15f4069fd17c</td>\n",
       "      <td>permanent</td>\n",
       "      <td>research+scientist</td>\n",
       "      <td>30+ days ago</td>\n",
       "      <td>Image Processing Software-C, C++, Modelling</td>\n",
       "      <td>re&amp;m</td>\n",
       "      <td>NaN</td>\n",
       "      <td>South East</td>\n",
       "      <td>NaN</td>\n",
       "      <td>You will need to be an established professiona...</td>\n",
       "    </tr>\n",
       "    <tr>\n",
       "      <th>9722</th>\n",
       "      <td>jl_d95e51cc878b7313</td>\n",
       "      <td>permanent</td>\n",
       "      <td>research+scientist</td>\n",
       "      <td>12 days ago</td>\n",
       "      <td>Geoscience Data Manager Permanent</td>\n",
       "      <td>Working Smart Limited</td>\n",
       "      <td>NaN</td>\n",
       "      <td>London</td>\n",
       "      <td>NaN</td>\n",
       "      <td>The role would suit a range of expertise, from...</td>\n",
       "    </tr>\n",
       "    <tr>\n",
       "      <th>9723</th>\n",
       "      <td>jl_beda06f2e486a757</td>\n",
       "      <td>permanent</td>\n",
       "      <td>research+scientist</td>\n",
       "      <td>30+ days ago</td>\n",
       "      <td>Quality Specialist</td>\n",
       "      <td>Scientific People</td>\n",
       "      <td>£32,000 a year</td>\n",
       "      <td>United Kingdom</td>\n",
       "      <td>NaN</td>\n",
       "      <td>Antibody Analytics is a young, innovative and ...</td>\n",
       "    </tr>\n",
       "    <tr>\n",
       "      <th>9724</th>\n",
       "      <td>jl_da48d812a673a685</td>\n",
       "      <td>permanent</td>\n",
       "      <td>research+scientist</td>\n",
       "      <td>30+ days ago</td>\n",
       "      <td>Physics,Maths Programmers</td>\n",
       "      <td>re&amp;m</td>\n",
       "      <td>NaN</td>\n",
       "      <td>London</td>\n",
       "      <td>NaN</td>\n",
       "      <td>You will be involved in product development an...</td>\n",
       "    </tr>\n",
       "    <tr>\n",
       "      <th>9725</th>\n",
       "      <td>jl_6f960756171c948d</td>\n",
       "      <td>permanent</td>\n",
       "      <td>research+scientist</td>\n",
       "      <td>30+ days ago</td>\n",
       "      <td>Director, Clinical Biomarkers</td>\n",
       "      <td>Autolus Ltd.</td>\n",
       "      <td>NaN</td>\n",
       "      <td>London W12</td>\n",
       "      <td>NaN</td>\n",
       "      <td>Mentor, guide and develop the clinical biomark...</td>\n",
       "    </tr>\n",
       "    <tr>\n",
       "      <th>9726</th>\n",
       "      <td>jl_72c3539d35c954ed</td>\n",
       "      <td>permanent</td>\n",
       "      <td>research+scientist</td>\n",
       "      <td>30+ days ago</td>\n",
       "      <td>Clinical Psychologist/ Neuropsychologist</td>\n",
       "      <td>Fieldbay</td>\n",
       "      <td>£31,696 - £41,787 a year</td>\n",
       "      <td>Swansea</td>\n",
       "      <td>NaN</td>\n",
       "      <td>Research and Development . Research, Service E...</td>\n",
       "    </tr>\n",
       "    <tr>\n",
       "      <th>9727</th>\n",
       "      <td>jl_cb8b921a3ffe0b2e</td>\n",
       "      <td>permanent</td>\n",
       "      <td>research+scientist</td>\n",
       "      <td>30+ days ago</td>\n",
       "      <td>Graduate Software/Physics/Maths/Electronics</td>\n",
       "      <td>re&amp;m</td>\n",
       "      <td>£23,000 - £30,000 a year</td>\n",
       "      <td>South East</td>\n",
       "      <td>NaN</td>\n",
       "      <td>Graduate Software Engineers, Electronic Engine...</td>\n",
       "    </tr>\n",
       "    <tr>\n",
       "      <th>9728</th>\n",
       "      <td>jl_91316f97ee588146</td>\n",
       "      <td>permanent</td>\n",
       "      <td>research+scientist</td>\n",
       "      <td>30+ days ago</td>\n",
       "      <td>Graduate Software Engineer, C++</td>\n",
       "      <td>re&amp;m</td>\n",
       "      <td>£18,000 - £20,000 a year</td>\n",
       "      <td>West Midlands</td>\n",
       "      <td>NaN</td>\n",
       "      <td>Looking to recruit graduate Software Engineers...</td>\n",
       "    </tr>\n",
       "    <tr>\n",
       "      <th>9729</th>\n",
       "      <td>jl_e4b84149d76f1add</td>\n",
       "      <td>permanent</td>\n",
       "      <td>research+scientist</td>\n",
       "      <td>8 days ago</td>\n",
       "      <td>Senior Economist/Analyst - London</td>\n",
       "      <td>Additional Resources</td>\n",
       "      <td>£50,000 - £57,000 a year</td>\n",
       "      <td>Greater London</td>\n",
       "      <td>NaN</td>\n",
       "      <td>They are a firm of expert economists, statisti...</td>\n",
       "    </tr>\n",
       "    <tr>\n",
       "      <th>9730</th>\n",
       "      <td>jl_f04c1e4f002f6335</td>\n",
       "      <td>permanent</td>\n",
       "      <td>research+scientist</td>\n",
       "      <td>28 days ago</td>\n",
       "      <td>Senior Delivery Manager - Data Science - JID 6033</td>\n",
       "      <td>Spinwell Global</td>\n",
       "      <td>£50,041 - £56,363 a year</td>\n",
       "      <td>Taunton</td>\n",
       "      <td>NaN</td>\n",
       "      <td>You’ll be responsible for maintaining collabor...</td>\n",
       "    </tr>\n",
       "    <tr>\n",
       "      <th>9731</th>\n",
       "      <td>jl_5df29c583944d45c</td>\n",
       "      <td>permanent</td>\n",
       "      <td>research+scientist</td>\n",
       "      <td>30+ days ago</td>\n",
       "      <td>R&amp;D Software Engineer; Algorithms, DSP, C++, O...</td>\n",
       "      <td>re&amp;m</td>\n",
       "      <td>£30,000 - £50,000 a year</td>\n",
       "      <td>South East</td>\n",
       "      <td>NaN</td>\n",
       "      <td>R&amp;D (C++) Position for a scientist or software...</td>\n",
       "    </tr>\n",
       "    <tr>\n",
       "      <th>9732</th>\n",
       "      <td>jl_79797981c430ece3</td>\n",
       "      <td>permanent</td>\n",
       "      <td>research+scientist</td>\n",
       "      <td>13 days ago</td>\n",
       "      <td>Information Scientist - Digital Content Delive...</td>\n",
       "      <td>Additional Resources</td>\n",
       "      <td>£30,000 a year</td>\n",
       "      <td>Gloucestershire</td>\n",
       "      <td>NaN</td>\n",
       "      <td>Information Scientist - Digital Content Delive...</td>\n",
       "    </tr>\n",
       "    <tr>\n",
       "      <th>9733</th>\n",
       "      <td>jl_53c306194c1b8b4c</td>\n",
       "      <td>permanent</td>\n",
       "      <td>research+scientist</td>\n",
       "      <td>30+ days ago</td>\n",
       "      <td>Image Processing Engineer/Software/Algorithm E...</td>\n",
       "      <td>re&amp;m</td>\n",
       "      <td>£35,000 - £45,000 a year</td>\n",
       "      <td>Home Counties</td>\n",
       "      <td>NaN</td>\n",
       "      <td>Responsibilities will include Research and dev...</td>\n",
       "    </tr>\n",
       "    <tr>\n",
       "      <th>9734</th>\n",
       "      <td>jl_ca4ea3b4e226890a</td>\n",
       "      <td>permanent</td>\n",
       "      <td>research+scientist</td>\n",
       "      <td>30+ days ago</td>\n",
       "      <td>Biologics (Senior) Regulatory Associate</td>\n",
       "      <td>Hydrogen Group</td>\n",
       "      <td>NaN</td>\n",
       "      <td>London</td>\n",
       "      <td>6 reviews</td>\n",
       "      <td>Hydrogen are supporting a major global Regulat...</td>\n",
       "    </tr>\n",
       "    <tr>\n",
       "      <th>9735</th>\n",
       "      <td>jl_b04b7f77d1ed71a5</td>\n",
       "      <td>permanent</td>\n",
       "      <td>research+scientist</td>\n",
       "      <td>10 days ago</td>\n",
       "      <td>Marketing Executive</td>\n",
       "      <td>Inspiring Interns</td>\n",
       "      <td>£22,000 a year</td>\n",
       "      <td>South London</td>\n",
       "      <td>4 reviews</td>\n",
       "      <td>A growing medical publishing company specialis...</td>\n",
       "    </tr>\n",
       "    <tr>\n",
       "      <th>9736</th>\n",
       "      <td>jl_c4ea979146ed5561</td>\n",
       "      <td>permanent</td>\n",
       "      <td>research+scientist</td>\n",
       "      <td>7 days ago</td>\n",
       "      <td>European Quality/Regulatory Affairs Manager</td>\n",
       "      <td>LiCa Scientific Ltd</td>\n",
       "      <td>£45,000 - £50,000 a year</td>\n",
       "      <td>Bristol</td>\n",
       "      <td>NaN</td>\n",
       "      <td>They are a trusted manufacturer/supplier of in...</td>\n",
       "    </tr>\n",
       "    <tr>\n",
       "      <th>9737</th>\n",
       "      <td>jl_0e61366b0b416df6</td>\n",
       "      <td>permanent</td>\n",
       "      <td>research+scientist</td>\n",
       "      <td>9 days ago</td>\n",
       "      <td>Medical Writer (technical content writer)</td>\n",
       "      <td>Next Phase Recruitment Limited</td>\n",
       "      <td>£30,000 a year</td>\n",
       "      <td>Oxford</td>\n",
       "      <td>NaN</td>\n",
       "      <td>Publication support – assisting scientists wit...</td>\n",
       "    </tr>\n",
       "    <tr>\n",
       "      <th>9738</th>\n",
       "      <td>jl_64f3eb76c0aeaa46</td>\n",
       "      <td>permanent</td>\n",
       "      <td>research+scientist</td>\n",
       "      <td>14 days ago</td>\n",
       "      <td>Lead Product Designer (UX/UI)</td>\n",
       "      <td>Soma Analytics</td>\n",
       "      <td>£35,000 - £43,000 a year</td>\n",
       "      <td>London</td>\n",
       "      <td>NaN</td>\n",
       "      <td>Able to conduct user research, usability testi...</td>\n",
       "    </tr>\n",
       "    <tr>\n",
       "      <th>9739</th>\n",
       "      <td>jl_8d0d48b99f01ffe9</td>\n",
       "      <td>permanent</td>\n",
       "      <td>research+scientist</td>\n",
       "      <td>21 days ago</td>\n",
       "      <td>Event Marketing Executive</td>\n",
       "      <td>Inspiring Interns</td>\n",
       "      <td>£24,000 a year</td>\n",
       "      <td>West London</td>\n",
       "      <td>4 reviews</td>\n",
       "      <td>A growing medical publishing company specialis...</td>\n",
       "    </tr>\n",
       "    <tr>\n",
       "      <th>9740</th>\n",
       "      <td>jl_e8ace30d24971614</td>\n",
       "      <td>permanent</td>\n",
       "      <td>research+scientist</td>\n",
       "      <td>30+ days ago</td>\n",
       "      <td>DevOps Engineer - Linux/UNIX, AWS</td>\n",
       "      <td>Richard Wheeler Associates</td>\n",
       "      <td>£50,000 - £75,000 a year</td>\n",
       "      <td>London</td>\n",
       "      <td>NaN</td>\n",
       "      <td>Technology evaluation &amp; research for increased...</td>\n",
       "    </tr>\n",
       "    <tr>\n",
       "      <th>9741</th>\n",
       "      <td>jl_e0ebb8f8566e2165</td>\n",
       "      <td>permanent</td>\n",
       "      <td>research+scientist</td>\n",
       "      <td>30+ days ago</td>\n",
       "      <td>Software Developer in Test – Data Engineering</td>\n",
       "      <td>Hydrogen Group</td>\n",
       "      <td>NaN</td>\n",
       "      <td>Nottingham</td>\n",
       "      <td>6 reviews</td>\n",
       "      <td>Undertake research on emerging technologies to...</td>\n",
       "    </tr>\n",
       "  </tbody>\n",
       "</table>\n",
       "<p>9742 rows × 10 columns</p>\n",
       "</div>"
      ],
      "text/plain": [
       "                   job_id  job_types             job_tag       post_time  \\\n",
       "0     jl_aefa77662d5bfc1d   fulltime           analytics      6 days ago   \n",
       "1     jl_719d91b70ae97f1c   fulltime           analytics       1 day ago   \n",
       "2     jl_d123655931ba246c   fulltime           analytics  43 minutes ago   \n",
       "3     jl_72f97ac8201bc2a2   fulltime           analytics    30+ days ago   \n",
       "4     jl_bbd4d855dae0fede   fulltime           analytics    19 hours ago   \n",
       "5     jl_e9ea6c3d4fca065a   fulltime           analytics    30+ days ago   \n",
       "6     jl_cee98ab894ae35fa   fulltime           analytics      2 days ago   \n",
       "7     jl_b31a196a2fff5772   fulltime           analytics       1 day ago   \n",
       "8     jl_075807601f30181b   fulltime           analytics     6 hours ago   \n",
       "9     jl_6ee1d3010e922914   fulltime           analytics       1 day ago   \n",
       "10    jl_049ccf52f0ad0d2b   fulltime           analytics      6 days ago   \n",
       "11    jl_eeff279910ff9414   fulltime           analytics    30+ days ago   \n",
       "12    jl_c61d7463c8cad740   fulltime           analytics       1 day ago   \n",
       "13    jl_2147151701cc08a1   fulltime           analytics      9 days ago   \n",
       "14    jl_3743f58a077d8f3f   fulltime           analytics    30+ days ago   \n",
       "15    jl_6383903eedf080e0   fulltime           analytics      9 days ago   \n",
       "16    jl_cf231c48d7af807d   fulltime           analytics      8 days ago   \n",
       "17    jl_ca68adeb245f7986   fulltime           analytics     15 days ago   \n",
       "18    jl_e81e34ae5d6b70e5   fulltime           analytics     30 days ago   \n",
       "19    jl_93d5326817f2029b   fulltime           analytics     22 days ago   \n",
       "20    jl_64c2324b62408960   fulltime           analytics    30+ days ago   \n",
       "21    jl_d58410d85cc195db   fulltime           analytics     27 days ago   \n",
       "22    jl_203cbc9e197e0a62   fulltime           analytics      6 days ago   \n",
       "23    jl_98ea7be1a063d0fb   fulltime           analytics       1 day ago   \n",
       "24    jl_9bf799089eefea91   fulltime           analytics      6 days ago   \n",
       "25    jl_2078c984d07c8ed4   fulltime           analytics     26 days ago   \n",
       "26    jl_04e44c228508c8c0   fulltime           analytics      9 days ago   \n",
       "27    jl_0a0d11066180687a   fulltime           analytics      8 days ago   \n",
       "28    jl_01c216b0688ac55a   fulltime           analytics     23 days ago   \n",
       "29    jl_340b3a841d57723a   fulltime           analytics     11 days ago   \n",
       "...                   ...        ...                 ...             ...   \n",
       "9712  jl_035f31f144c5af3a  permanent  research+scientist      2 days ago   \n",
       "9713  jl_7bd3f0f659fcdd0d  permanent  research+scientist     20 days ago   \n",
       "9714  jl_d3b8026e8cce7715  permanent  research+scientist     13 days ago   \n",
       "9715  jl_4790de8fd18ac4bf  permanent  research+scientist      4 days ago   \n",
       "9716  jl_bc1d81d9b2b52ef7  permanent  research+scientist    30+ days ago   \n",
       "9717  jl_b85611eeca1d759a  permanent  research+scientist     23 days ago   \n",
       "9718  jl_8815a5d2a1173780  permanent  research+scientist    30+ days ago   \n",
       "9719  jl_1152a2cded735504  permanent  research+scientist     15 days ago   \n",
       "9720  jl_fed932d3f2a3b624  permanent  research+scientist      7 days ago   \n",
       "9721  jl_415f15f4069fd17c  permanent  research+scientist    30+ days ago   \n",
       "9722  jl_d95e51cc878b7313  permanent  research+scientist     12 days ago   \n",
       "9723  jl_beda06f2e486a757  permanent  research+scientist    30+ days ago   \n",
       "9724  jl_da48d812a673a685  permanent  research+scientist    30+ days ago   \n",
       "9725  jl_6f960756171c948d  permanent  research+scientist    30+ days ago   \n",
       "9726  jl_72c3539d35c954ed  permanent  research+scientist    30+ days ago   \n",
       "9727  jl_cb8b921a3ffe0b2e  permanent  research+scientist    30+ days ago   \n",
       "9728  jl_91316f97ee588146  permanent  research+scientist    30+ days ago   \n",
       "9729  jl_e4b84149d76f1add  permanent  research+scientist      8 days ago   \n",
       "9730  jl_f04c1e4f002f6335  permanent  research+scientist     28 days ago   \n",
       "9731  jl_5df29c583944d45c  permanent  research+scientist    30+ days ago   \n",
       "9732  jl_79797981c430ece3  permanent  research+scientist     13 days ago   \n",
       "9733  jl_53c306194c1b8b4c  permanent  research+scientist    30+ days ago   \n",
       "9734  jl_ca4ea3b4e226890a  permanent  research+scientist    30+ days ago   \n",
       "9735  jl_b04b7f77d1ed71a5  permanent  research+scientist     10 days ago   \n",
       "9736  jl_c4ea979146ed5561  permanent  research+scientist      7 days ago   \n",
       "9737  jl_0e61366b0b416df6  permanent  research+scientist      9 days ago   \n",
       "9738  jl_64f3eb76c0aeaa46  permanent  research+scientist     14 days ago   \n",
       "9739  jl_8d0d48b99f01ffe9  permanent  research+scientist     21 days ago   \n",
       "9740  jl_e8ace30d24971614  permanent  research+scientist    30+ days ago   \n",
       "9741  jl_e0ebb8f8566e2165  permanent  research+scientist    30+ days ago   \n",
       "\n",
       "                                              job_title  \\\n",
       "0                  Head of Customer Insight & Analytics   \n",
       "1                       Head of Performance & Analytics   \n",
       "2     Insights & Analytics Intern | 8 week summer pl...   \n",
       "3                               Intern (Data Analytics)   \n",
       "4                              Data & Analytics Analyst   \n",
       "5                Analytics Graduate Programme 2019-2020   \n",
       "6                           Reporting Analytics Manager   \n",
       "7     Advanced Analytics Consultant (Predictive, AI,...   \n",
       "8                                 Innovus Summer Intern   \n",
       "9                                Segment Analytics Lead   \n",
       "10                           Analyst, Capital Analytics   \n",
       "11               Analytics Summer Internship (3 months)   \n",
       "12                       FCTM Applied Analytics Analyst   \n",
       "13                      S4 Reporting & Analytics Expert   \n",
       "14                                 Analytics Consultant   \n",
       "15         Life Sciences Consultants - Victoria, London   \n",
       "16                     Contracting Analytics Specialist   \n",
       "17                     Analytics & Optimization Manager   \n",
       "18    2019 UK Graduate consultant scheme: Economic &...   \n",
       "19          Assistant Director of Analytics, Deputy CIO   \n",
       "20                                     Data & Analytics   \n",
       "21                        Real World Data and Analytics   \n",
       "22                            Capital Analytics Manager   \n",
       "23          Senior Associate, Performance and Analytics   \n",
       "24                             Business Support Officer   \n",
       "25                                  Analytics Developer   \n",
       "26    Senior Analytical Consultant - Predictive Anal...   \n",
       "27                                   Digital Journalist   \n",
       "28           Data Sciences & AI Graduate Programme - UK   \n",
       "29                  Director of Analytics and Reporting   \n",
       "...                                                 ...   \n",
       "9712                          Software Developer (Java)   \n",
       "9713                                Lead Data Scientist   \n",
       "9714                        Product Manager (Shortlist)   \n",
       "9715  R&D, AI, Data Science, Computer Vision Softwar...   \n",
       "9716                          Senior Formulation Leader   \n",
       "9717                    Curriculum Specialist – Germany   \n",
       "9718                  Development Technician - Somerset   \n",
       "9719                               Sales Representative   \n",
       "9720                                  Sales Development   \n",
       "9721        Image Processing Software-C, C++, Modelling   \n",
       "9722                  Geoscience Data Manager Permanent   \n",
       "9723                                 Quality Specialist   \n",
       "9724                          Physics,Maths Programmers   \n",
       "9725                      Director, Clinical Biomarkers   \n",
       "9726           Clinical Psychologist/ Neuropsychologist   \n",
       "9727        Graduate Software/Physics/Maths/Electronics   \n",
       "9728                    Graduate Software Engineer, C++   \n",
       "9729                  Senior Economist/Analyst - London   \n",
       "9730  Senior Delivery Manager - Data Science - JID 6033   \n",
       "9731  R&D Software Engineer; Algorithms, DSP, C++, O...   \n",
       "9732  Information Scientist - Digital Content Delive...   \n",
       "9733  Image Processing Engineer/Software/Algorithm E...   \n",
       "9734            Biologics (Senior) Regulatory Associate   \n",
       "9735                                Marketing Executive   \n",
       "9736        European Quality/Regulatory Affairs Manager   \n",
       "9737          Medical Writer (technical content writer)   \n",
       "9738                      Lead Product Designer (UX/UI)   \n",
       "9739                          Event Marketing Executive   \n",
       "9740                  DevOps Engineer - Linux/UNIX, AWS   \n",
       "9741      Software Developer in Test – Data Engineering   \n",
       "\n",
       "                                  company                    salary  \\\n",
       "0                              Rank Group                       NaN   \n",
       "1     Barnet Clinical Commissioning Group  £63,754 - £75,907 a year   \n",
       "2                                Asos.com                       NaN   \n",
       "3                      Keppel Corporation                       NaN   \n",
       "4                                     RBS                       NaN   \n",
       "5                               Accenture                       NaN   \n",
       "6                           Homes England  £30,300 - £58,580 a year   \n",
       "7                              Capita Plc                       NaN   \n",
       "8                  Cadence Design Systems                       NaN   \n",
       "9                                      BP                       NaN   \n",
       "10                                    RBS                       NaN   \n",
       "11                                Expedia                       NaN   \n",
       "12                                   HSBC                       NaN   \n",
       "13                               Vodafone                       NaN   \n",
       "14                               Tessella                       NaN   \n",
       "15                    PA Consulting Group                       NaN   \n",
       "16                                    NEL  £39,866 - £49,704 a year   \n",
       "17                                   HSBC                       NaN   \n",
       "18                         Mott MacDonald                       NaN   \n",
       "19    East Lancashire Hospitals NHS Trust  £70,206 - £85,333 a year   \n",
       "20                                    PwC                       NaN   \n",
       "21                        GlaxoSmithKline                       NaN   \n",
       "22                                    RBS                       NaN   \n",
       "23    SS and C GlobeOp Financial Services                       NaN   \n",
       "24                            NHS England  £23,023 - £29,608 a year   \n",
       "25                             Sainsburys                       NaN   \n",
       "26                       Dun & Bradstreet                       NaN   \n",
       "27                                  Reach                       NaN   \n",
       "28                            AstraZeneca                       NaN   \n",
       "29                                Groupon                       NaN   \n",
       "...                                   ...                       ...   \n",
       "9712                     CMCL Innovations                       NaN   \n",
       "9713           Opus Recruitment Solutions            £70,000 a year   \n",
       "9714                               Adzuna  £40,000 - £50,000 a year   \n",
       "9715                                 re&m  £35,000 - £70,000 a year   \n",
       "9716               TemplarFox Consultancy  £35,000 - £55,000 a year   \n",
       "9717                  Telfer Partners Ltd                       NaN   \n",
       "9718        Manufacturing Recruitment Ltd            £25,000 a year   \n",
       "9719                    Inspiring Interns            £24,000 a year   \n",
       "9720                    Inspiring Interns            £24,000 a year   \n",
       "9721                                 re&m                       NaN   \n",
       "9722                Working Smart Limited                       NaN   \n",
       "9723                    Scientific People            £32,000 a year   \n",
       "9724                                 re&m                       NaN   \n",
       "9725                         Autolus Ltd.                       NaN   \n",
       "9726                             Fieldbay  £31,696 - £41,787 a year   \n",
       "9727                                 re&m  £23,000 - £30,000 a year   \n",
       "9728                                 re&m  £18,000 - £20,000 a year   \n",
       "9729                 Additional Resources  £50,000 - £57,000 a year   \n",
       "9730                      Spinwell Global  £50,041 - £56,363 a year   \n",
       "9731                                 re&m  £30,000 - £50,000 a year   \n",
       "9732                 Additional Resources            £30,000 a year   \n",
       "9733                                 re&m  £35,000 - £45,000 a year   \n",
       "9734                       Hydrogen Group                       NaN   \n",
       "9735                    Inspiring Interns            £22,000 a year   \n",
       "9736                  LiCa Scientific Ltd  £45,000 - £50,000 a year   \n",
       "9737       Next Phase Recruitment Limited            £30,000 a year   \n",
       "9738                       Soma Analytics  £35,000 - £43,000 a year   \n",
       "9739                    Inspiring Interns            £24,000 a year   \n",
       "9740           Richard Wheeler Associates  £50,000 - £75,000 a year   \n",
       "9741                       Hydrogen Group                       NaN   \n",
       "\n",
       "             location    no_of_review  \\\n",
       "0          Maidenhead      18 reviews   \n",
       "1              Barnet             NaN   \n",
       "2              London     233 reviews   \n",
       "3              Keppel       3 reviews   \n",
       "4             Belfast   2,920 reviews   \n",
       "5              London  14,997 reviews   \n",
       "6       Birmingham B3       2 reviews   \n",
       "7           Edinburgh   2,018 reviews   \n",
       "8           Cambridge     147 reviews   \n",
       "9             Sunbury   2,512 reviews   \n",
       "10         Birmingham   2,920 reviews   \n",
       "11        London EC1V     634 reviews   \n",
       "12         Birmingham  10,548 reviews   \n",
       "13            Newbury   3,449 reviews   \n",
       "14           Abingdon       2 reviews   \n",
       "15             London      52 reviews   \n",
       "16         London SE1       7 reviews   \n",
       "17         Birmingham  10,548 reviews   \n",
       "18             London     394 reviews   \n",
       "19      Blackburn BB2      13 reviews   \n",
       "20             London   5,990 reviews   \n",
       "21             London   3,197 reviews   \n",
       "22         Birmingham   2,920 reviews   \n",
       "23             London      98 reviews   \n",
       "24          Leeds LS2   4,005 reviews   \n",
       "25      Milton Keynes   6,733 reviews   \n",
       "26             Marlow     166 reviews   \n",
       "27               Bath             NaN   \n",
       "28      Cambridge CB4   1,484 reviews   \n",
       "29             London     646 reviews   \n",
       "...               ...             ...   \n",
       "9712        Cambridge             NaN   \n",
       "9713       Manchester             NaN   \n",
       "9714           London             NaN   \n",
       "9715       South West             NaN   \n",
       "9716           Oxford             NaN   \n",
       "9717           London             NaN   \n",
       "9718         Somerset             NaN   \n",
       "9719      West London       4 reviews   \n",
       "9720      West London       4 reviews   \n",
       "9721       South East             NaN   \n",
       "9722           London             NaN   \n",
       "9723   United Kingdom             NaN   \n",
       "9724           London             NaN   \n",
       "9725       London W12             NaN   \n",
       "9726          Swansea             NaN   \n",
       "9727       South East             NaN   \n",
       "9728    West Midlands             NaN   \n",
       "9729   Greater London             NaN   \n",
       "9730          Taunton             NaN   \n",
       "9731       South East             NaN   \n",
       "9732  Gloucestershire             NaN   \n",
       "9733    Home Counties             NaN   \n",
       "9734           London       6 reviews   \n",
       "9735     South London       4 reviews   \n",
       "9736          Bristol             NaN   \n",
       "9737           Oxford             NaN   \n",
       "9738           London             NaN   \n",
       "9739      West London       4 reviews   \n",
       "9740           London             NaN   \n",
       "9741       Nottingham       6 reviews   \n",
       "\n",
       "                                            job_summary  \n",
       "0     � Responsible for leading a team of Analysts a...  \n",
       "1     Reporting to the Director of QIPP, Planning an...  \n",
       "2     Developing a great understanding of modern ana...  \n",
       "3     Supports the Data Analytics team on project ba...  \n",
       "4     Strong analytic and problem solving abilities....  \n",
       "5     Analytics Graduate Programme. The answer is An...  \n",
       "6     The Reporting and Analytics Manager will repor...  \n",
       "7     Become an Advanced Analytics Consultant with B...  \n",
       "8     O Excellent Creative Analytic Problem Solving ...  \n",
       "9     People Analytics experience. To build HR analy...  \n",
       "10    We're looking for an Analyst to join the Capit...  \n",
       "11    Final or penultimate year of a Statistics, Mat...  \n",
       "12    Provide an interface between SFR Regional anal...  \n",
       "13    S4 Reporting & Analytics Expert. Experience of...  \n",
       "14    Provide analytics and consultancy capabilities...  \n",
       "15    Our team enables our clients to accelerate R&D...  \n",
       "16    We are looking for an enthusiastic, experience...  \n",
       "17    Analytics & Optimization Manager, Fraud Risk, ...  \n",
       "18    Analytics - GIS, spatial mapping, data managem...  \n",
       "19    The Directorate is looking to employ an Assist...  \n",
       "20    A career in within Data and Analytics Technolo...  \n",
       "21    Working in our Real World Data and Analytics t...  \n",
       "22    We're looking for a Capital Analytics Manager ...  \n",
       "23    Senior Associate, Performance and Analytics. D...  \n",
       "24    We are particularly interested, across these r...  \n",
       "25    Analytics Developer - 18001IDN). We currently ...  \n",
       "26    Develop full custom analytics solutions. Provi...  \n",
       "27    You’ll need to be good at building contacts an...  \n",
       "28    Working with our Data & Analytics Team to iden...  \n",
       "29    DIRECTOR OF ANALYTICS AND REPORTING. 10+ years...  \n",
       "...                                                 ...  \n",
       "9712  CMCL Innovations is an award-winning technolog...  \n",
       "9713  If you have a few years’ experience as a Data ...  \n",
       "9714  Experience organising and running user researc...  \n",
       "9715  Track record of successful research *. The res...  \n",
       "9716  As the Senior Formulation Leader/ Senior Resea...  \n",
       "9717  Developing relationships with decision makers ...  \n",
       "9718  Understand and interpret scientists' requireme...  \n",
       "9719  They provide new sources of information for sc...  \n",
       "9720  Identify and research target companies within ...  \n",
       "9721  You will need to be an established professiona...  \n",
       "9722  The role would suit a range of expertise, from...  \n",
       "9723  Antibody Analytics is a young, innovative and ...  \n",
       "9724  You will be involved in product development an...  \n",
       "9725  Mentor, guide and develop the clinical biomark...  \n",
       "9726  Research and Development . Research, Service E...  \n",
       "9727  Graduate Software Engineers, Electronic Engine...  \n",
       "9728  Looking to recruit graduate Software Engineers...  \n",
       "9729  They are a firm of expert economists, statisti...  \n",
       "9730  You’ll be responsible for maintaining collabor...  \n",
       "9731  R&D (C++) Position for a scientist or software...  \n",
       "9732  Information Scientist - Digital Content Delive...  \n",
       "9733  Responsibilities will include Research and dev...  \n",
       "9734  Hydrogen are supporting a major global Regulat...  \n",
       "9735  A growing medical publishing company specialis...  \n",
       "9736  They are a trusted manufacturer/supplier of in...  \n",
       "9737  Publication support – assisting scientists wit...  \n",
       "9738  Able to conduct user research, usability testi...  \n",
       "9739  A growing medical publishing company specialis...  \n",
       "9740  Technology evaluation & research for increased...  \n",
       "9741  Undertake research on emerging technologies to...  \n",
       "\n",
       "[9742 rows x 10 columns]"
      ]
     },
     "execution_count": 6,
     "metadata": {},
     "output_type": "execute_result"
    }
   ],
   "source": [
    "df"
   ]
  },
  {
   "cell_type": "code",
   "execution_count": 7,
   "metadata": {},
   "outputs": [],
   "source": [
    "# convert all to small letters if string\n",
    "df = df.applymap(lambda x: x.lower().strip() if isinstance(x, str) else x)\n",
    "\n",
    "# remove all non-alphabets\n",
    "df.job_title = df.job_title.map(lambda x: re.sub(r'[^A-Za-z\\s]','',x).strip())"
   ]
  },
  {
   "cell_type": "code",
   "execution_count": 8,
   "metadata": {},
   "outputs": [
    {
     "data": {
      "text/html": [
       "<div>\n",
       "<style scoped>\n",
       "    .dataframe tbody tr th:only-of-type {\n",
       "        vertical-align: middle;\n",
       "    }\n",
       "\n",
       "    .dataframe tbody tr th {\n",
       "        vertical-align: top;\n",
       "    }\n",
       "\n",
       "    .dataframe thead th {\n",
       "        text-align: right;\n",
       "    }\n",
       "</style>\n",
       "<table border=\"1\" class=\"dataframe\">\n",
       "  <thead>\n",
       "    <tr style=\"text-align: right;\">\n",
       "      <th></th>\n",
       "      <th>job_id</th>\n",
       "      <th>job_types</th>\n",
       "      <th>job_tag</th>\n",
       "      <th>post_time</th>\n",
       "      <th>job_title</th>\n",
       "      <th>company</th>\n",
       "      <th>salary</th>\n",
       "      <th>location</th>\n",
       "      <th>no_of_review</th>\n",
       "      <th>job_summary</th>\n",
       "    </tr>\n",
       "  </thead>\n",
       "  <tbody>\n",
       "    <tr>\n",
       "      <th>0</th>\n",
       "      <td>jl_aefa77662d5bfc1d</td>\n",
       "      <td>fulltime</td>\n",
       "      <td>analytics</td>\n",
       "      <td>6 days ago</td>\n",
       "      <td>head of customer insight  analytics</td>\n",
       "      <td>rank group</td>\n",
       "      <td>NaN</td>\n",
       "      <td>maidenhead</td>\n",
       "      <td>18 reviews</td>\n",
       "      <td>� responsible for leading a team of analysts a...</td>\n",
       "    </tr>\n",
       "    <tr>\n",
       "      <th>1</th>\n",
       "      <td>jl_719d91b70ae97f1c</td>\n",
       "      <td>fulltime</td>\n",
       "      <td>analytics</td>\n",
       "      <td>1 day ago</td>\n",
       "      <td>head of performance  analytics</td>\n",
       "      <td>barnet clinical commissioning group</td>\n",
       "      <td>£63,754 - £75,907 a year</td>\n",
       "      <td>barnet</td>\n",
       "      <td>NaN</td>\n",
       "      <td>reporting to the director of qipp, planning an...</td>\n",
       "    </tr>\n",
       "  </tbody>\n",
       "</table>\n",
       "</div>"
      ],
      "text/plain": [
       "                job_id job_types    job_tag   post_time  \\\n",
       "0  jl_aefa77662d5bfc1d  fulltime  analytics  6 days ago   \n",
       "1  jl_719d91b70ae97f1c  fulltime  analytics   1 day ago   \n",
       "\n",
       "                             job_title                              company  \\\n",
       "0  head of customer insight  analytics                           rank group   \n",
       "1       head of performance  analytics  barnet clinical commissioning group   \n",
       "\n",
       "                     salary    location no_of_review  \\\n",
       "0                       NaN  maidenhead   18 reviews   \n",
       "1  £63,754 - £75,907 a year      barnet          NaN   \n",
       "\n",
       "                                         job_summary  \n",
       "0  � responsible for leading a team of analysts a...  \n",
       "1  reporting to the director of qipp, planning an...  "
      ]
     },
     "execution_count": 8,
     "metadata": {},
     "output_type": "execute_result"
    }
   ],
   "source": [
    "df.head(2)"
   ]
  },
  {
   "cell_type": "code",
   "execution_count": 9,
   "metadata": {},
   "outputs": [
    {
     "data": {
      "text/plain": [
       "False"
      ]
     },
     "execution_count": 9,
     "metadata": {},
     "output_type": "execute_result"
    }
   ],
   "source": [
    "#check dupicates\n",
    "df.job_id.nunique()==len(df)"
   ]
  },
  {
   "cell_type": "code",
   "execution_count": 10,
   "metadata": {},
   "outputs": [
    {
     "name": "stdout",
     "output_type": "stream",
     "text": [
      "before drop duplicates:  9742\n",
      "\n",
      "after dropping duplicates:  7595\n"
     ]
    }
   ],
   "source": [
    "print ('before drop duplicates: ',len(df))\n",
    "df.drop_duplicates(subset='job_id',inplace=True)\n",
    "print ()\n",
    "print ('after dropping duplicates: ',len(df))"
   ]
  },
  {
   "cell_type": "code",
   "execution_count": 11,
   "metadata": {},
   "outputs": [
    {
     "data": {
      "text/html": [
       "<div>\n",
       "<style scoped>\n",
       "    .dataframe tbody tr th:only-of-type {\n",
       "        vertical-align: middle;\n",
       "    }\n",
       "\n",
       "    .dataframe tbody tr th {\n",
       "        vertical-align: top;\n",
       "    }\n",
       "\n",
       "    .dataframe thead th {\n",
       "        text-align: right;\n",
       "    }\n",
       "</style>\n",
       "<table border=\"1\" class=\"dataframe\">\n",
       "  <thead>\n",
       "    <tr style=\"text-align: right;\">\n",
       "      <th></th>\n",
       "      <th>job_id</th>\n",
       "      <th>job_types</th>\n",
       "      <th>job_tag</th>\n",
       "      <th>post_time</th>\n",
       "      <th>job_title</th>\n",
       "      <th>company</th>\n",
       "      <th>salary</th>\n",
       "      <th>location</th>\n",
       "      <th>no_of_review</th>\n",
       "      <th>job_summary</th>\n",
       "    </tr>\n",
       "  </thead>\n",
       "  <tbody>\n",
       "    <tr>\n",
       "      <th>0</th>\n",
       "      <td>jl_aefa77662d5bfc1d</td>\n",
       "      <td>fulltime</td>\n",
       "      <td>analytics</td>\n",
       "      <td>6 days ago</td>\n",
       "      <td>head of customer insight  analytics</td>\n",
       "      <td>rank group</td>\n",
       "      <td>NaN</td>\n",
       "      <td>maidenhead</td>\n",
       "      <td>18 reviews</td>\n",
       "      <td>� responsible for leading a team of analysts a...</td>\n",
       "    </tr>\n",
       "    <tr>\n",
       "      <th>1</th>\n",
       "      <td>jl_719d91b70ae97f1c</td>\n",
       "      <td>fulltime</td>\n",
       "      <td>analytics</td>\n",
       "      <td>1 day ago</td>\n",
       "      <td>head of performance  analytics</td>\n",
       "      <td>barnet clinical commissioning group</td>\n",
       "      <td>£63,754 - £75,907 a year</td>\n",
       "      <td>barnet</td>\n",
       "      <td>NaN</td>\n",
       "      <td>reporting to the director of qipp, planning an...</td>\n",
       "    </tr>\n",
       "  </tbody>\n",
       "</table>\n",
       "</div>"
      ],
      "text/plain": [
       "                job_id job_types    job_tag   post_time  \\\n",
       "0  jl_aefa77662d5bfc1d  fulltime  analytics  6 days ago   \n",
       "1  jl_719d91b70ae97f1c  fulltime  analytics   1 day ago   \n",
       "\n",
       "                             job_title                              company  \\\n",
       "0  head of customer insight  analytics                           rank group   \n",
       "1       head of performance  analytics  barnet clinical commissioning group   \n",
       "\n",
       "                     salary    location no_of_review  \\\n",
       "0                       NaN  maidenhead   18 reviews   \n",
       "1  £63,754 - £75,907 a year      barnet          NaN   \n",
       "\n",
       "                                         job_summary  \n",
       "0  � responsible for leading a team of analysts a...  \n",
       "1  reporting to the director of qipp, planning an...  "
      ]
     },
     "execution_count": 11,
     "metadata": {},
     "output_type": "execute_result"
    }
   ],
   "source": [
    "df.head(2)"
   ]
  },
  {
   "cell_type": "code",
   "execution_count": 12,
   "metadata": {},
   "outputs": [],
   "source": [
    "#remove the + sign from job_tag, this should be removed during craping phase...\n",
    "df['job_tag']=df['job_tag'].apply(lambda x:x.replace('+','_'))"
   ]
  },
  {
   "cell_type": "code",
   "execution_count": 13,
   "metadata": {},
   "outputs": [
    {
     "data": {
      "text/html": [
       "<div>\n",
       "<style scoped>\n",
       "    .dataframe tbody tr th:only-of-type {\n",
       "        vertical-align: middle;\n",
       "    }\n",
       "\n",
       "    .dataframe tbody tr th {\n",
       "        vertical-align: top;\n",
       "    }\n",
       "\n",
       "    .dataframe thead th {\n",
       "        text-align: right;\n",
       "    }\n",
       "</style>\n",
       "<table border=\"1\" class=\"dataframe\">\n",
       "  <thead>\n",
       "    <tr style=\"text-align: right;\">\n",
       "      <th></th>\n",
       "      <th>job_id</th>\n",
       "      <th>job_types</th>\n",
       "      <th>job_tag</th>\n",
       "      <th>post_time</th>\n",
       "      <th>job_title</th>\n",
       "      <th>company</th>\n",
       "      <th>salary</th>\n",
       "      <th>location</th>\n",
       "      <th>no_of_review</th>\n",
       "      <th>job_summary</th>\n",
       "    </tr>\n",
       "  </thead>\n",
       "  <tbody>\n",
       "    <tr>\n",
       "      <th>0</th>\n",
       "      <td>jl_aefa77662d5bfc1d</td>\n",
       "      <td>fulltime</td>\n",
       "      <td>analytics</td>\n",
       "      <td>6 days ago</td>\n",
       "      <td>head of customer insight  analytics</td>\n",
       "      <td>rank group</td>\n",
       "      <td>NaN</td>\n",
       "      <td>maidenhead</td>\n",
       "      <td>18 reviews</td>\n",
       "      <td>� responsible for leading a team of analysts a...</td>\n",
       "    </tr>\n",
       "    <tr>\n",
       "      <th>1</th>\n",
       "      <td>jl_719d91b70ae97f1c</td>\n",
       "      <td>fulltime</td>\n",
       "      <td>analytics</td>\n",
       "      <td>1 day ago</td>\n",
       "      <td>head of performance  analytics</td>\n",
       "      <td>barnet clinical commissioning group</td>\n",
       "      <td>£63,754 - £75,907 a year</td>\n",
       "      <td>barnet</td>\n",
       "      <td>NaN</td>\n",
       "      <td>reporting to the director of qipp, planning an...</td>\n",
       "    </tr>\n",
       "  </tbody>\n",
       "</table>\n",
       "</div>"
      ],
      "text/plain": [
       "                job_id job_types    job_tag   post_time  \\\n",
       "0  jl_aefa77662d5bfc1d  fulltime  analytics  6 days ago   \n",
       "1  jl_719d91b70ae97f1c  fulltime  analytics   1 day ago   \n",
       "\n",
       "                             job_title                              company  \\\n",
       "0  head of customer insight  analytics                           rank group   \n",
       "1       head of performance  analytics  barnet clinical commissioning group   \n",
       "\n",
       "                     salary    location no_of_review  \\\n",
       "0                       NaN  maidenhead   18 reviews   \n",
       "1  £63,754 - £75,907 a year      barnet          NaN   \n",
       "\n",
       "                                         job_summary  \n",
       "0  � responsible for leading a team of analysts a...  \n",
       "1  reporting to the director of qipp, planning an...  "
      ]
     },
     "execution_count": 13,
     "metadata": {},
     "output_type": "execute_result"
    }
   ],
   "source": [
    "df.head(2)"
   ]
  },
  {
   "cell_type": "code",
   "execution_count": 14,
   "metadata": {},
   "outputs": [],
   "source": [
    "# 'minutes' in (df.iloc[2]['post_time'].split())"
   ]
  },
  {
   "cell_type": "code",
   "execution_count": 15,
   "metadata": {},
   "outputs": [],
   "source": [
    "#process post time\n",
    "df['post_time']=df['post_time'].apply(lambda x: '1 day ago' if 'minutes'in x.split() or 'hours' in x.split() else x)"
   ]
  },
  {
   "cell_type": "code",
   "execution_count": 16,
   "metadata": {},
   "outputs": [],
   "source": [
    "df['post_time']=df['post_time'].apply(lambda x: x.split()[0])"
   ]
  },
  {
   "cell_type": "code",
   "execution_count": 17,
   "metadata": {},
   "outputs": [
    {
     "data": {
      "text/html": [
       "<div>\n",
       "<style scoped>\n",
       "    .dataframe tbody tr th:only-of-type {\n",
       "        vertical-align: middle;\n",
       "    }\n",
       "\n",
       "    .dataframe tbody tr th {\n",
       "        vertical-align: top;\n",
       "    }\n",
       "\n",
       "    .dataframe thead th {\n",
       "        text-align: right;\n",
       "    }\n",
       "</style>\n",
       "<table border=\"1\" class=\"dataframe\">\n",
       "  <thead>\n",
       "    <tr style=\"text-align: right;\">\n",
       "      <th></th>\n",
       "      <th>job_id</th>\n",
       "      <th>job_types</th>\n",
       "      <th>job_tag</th>\n",
       "      <th>post_time_hrs_ago</th>\n",
       "      <th>job_title</th>\n",
       "      <th>company</th>\n",
       "      <th>salary</th>\n",
       "      <th>location</th>\n",
       "      <th>no_of_review</th>\n",
       "      <th>job_summary</th>\n",
       "    </tr>\n",
       "  </thead>\n",
       "  <tbody>\n",
       "    <tr>\n",
       "      <th>0</th>\n",
       "      <td>jl_aefa77662d5bfc1d</td>\n",
       "      <td>fulltime</td>\n",
       "      <td>analytics</td>\n",
       "      <td>6</td>\n",
       "      <td>head of customer insight  analytics</td>\n",
       "      <td>rank group</td>\n",
       "      <td>NaN</td>\n",
       "      <td>maidenhead</td>\n",
       "      <td>18 reviews</td>\n",
       "      <td>� responsible for leading a team of analysts a...</td>\n",
       "    </tr>\n",
       "    <tr>\n",
       "      <th>1</th>\n",
       "      <td>jl_719d91b70ae97f1c</td>\n",
       "      <td>fulltime</td>\n",
       "      <td>analytics</td>\n",
       "      <td>1</td>\n",
       "      <td>head of performance  analytics</td>\n",
       "      <td>barnet clinical commissioning group</td>\n",
       "      <td>£63,754 - £75,907 a year</td>\n",
       "      <td>barnet</td>\n",
       "      <td>NaN</td>\n",
       "      <td>reporting to the director of qipp, planning an...</td>\n",
       "    </tr>\n",
       "  </tbody>\n",
       "</table>\n",
       "</div>"
      ],
      "text/plain": [
       "                job_id job_types    job_tag post_time_hrs_ago  \\\n",
       "0  jl_aefa77662d5bfc1d  fulltime  analytics                 6   \n",
       "1  jl_719d91b70ae97f1c  fulltime  analytics                 1   \n",
       "\n",
       "                             job_title                              company  \\\n",
       "0  head of customer insight  analytics                           rank group   \n",
       "1       head of performance  analytics  barnet clinical commissioning group   \n",
       "\n",
       "                     salary    location no_of_review  \\\n",
       "0                       NaN  maidenhead   18 reviews   \n",
       "1  £63,754 - £75,907 a year      barnet          NaN   \n",
       "\n",
       "                                         job_summary  \n",
       "0  � responsible for leading a team of analysts a...  \n",
       "1  reporting to the director of qipp, planning an...  "
      ]
     },
     "execution_count": 17,
     "metadata": {},
     "output_type": "execute_result"
    }
   ],
   "source": [
    "df.rename(columns={'post_time':'post_time_hrs_ago'}).head(2)"
   ]
  },
  {
   "cell_type": "code",
   "execution_count": 18,
   "metadata": {},
   "outputs": [],
   "source": [
    "#type(df.iloc[10]['no_of_review'])"
   ]
  },
  {
   "cell_type": "code",
   "execution_count": 19,
   "metadata": {},
   "outputs": [],
   "source": [
    "#extract number of reviews\n",
    "df['no_of_review']=df['no_of_review'].apply(lambda x:x.split()[0] if type(x)==str else x)"
   ]
  },
  {
   "cell_type": "code",
   "execution_count": 20,
   "metadata": {},
   "outputs": [],
   "source": [
    "#df.iloc[1]['salary'].split()"
   ]
  },
  {
   "cell_type": "code",
   "execution_count": 21,
   "metadata": {},
   "outputs": [
    {
     "name": "stdout",
     "output_type": "stream",
     "text": [
      "<class 'pandas.core.frame.DataFrame'>\n",
      "Int64Index: 7595 entries, 0 to 9741\n",
      "Data columns (total 10 columns):\n",
      "job_id          7595 non-null object\n",
      "job_types       7595 non-null object\n",
      "job_tag         7595 non-null object\n",
      "post_time       7595 non-null object\n",
      "job_title       7595 non-null object\n",
      "company         7595 non-null object\n",
      "salary          2848 non-null object\n",
      "location        7595 non-null object\n",
      "no_of_review    5082 non-null object\n",
      "job_summary     7595 non-null object\n",
      "dtypes: object(10)\n",
      "memory usage: 652.7+ KB\n"
     ]
    }
   ],
   "source": [
    "df.info()"
   ]
  },
  {
   "cell_type": "code",
   "execution_count": 22,
   "metadata": {},
   "outputs": [
    {
     "data": {
      "text/plain": [
       "count                         2848\n",
       "unique                         872\n",
       "top       £40,000 - £50,000 a year\n",
       "freq                            61\n",
       "Name: salary, dtype: object"
      ]
     },
     "execution_count": 22,
     "metadata": {},
     "output_type": "execute_result"
    }
   ],
   "source": [
    "df['salary'].describe()"
   ]
  },
  {
   "cell_type": "code",
   "execution_count": 23,
   "metadata": {},
   "outputs": [
    {
     "data": {
      "text/plain": [
       "£40,000 - £50,000 a year      61\n",
       "£30,000 - £35,000 a year      61\n",
       "£30,000 a year                53\n",
       "£30,000 - £40,000 a year      52\n",
       "£40,000 a year                48\n",
       "£35,000 a year                45\n",
       "£35,000 - £45,000 a year      44\n",
       "£35,000 - £40,000 a year      43\n",
       "£25,000 a year                43\n",
       "£40,000 - £45,000 a year      40\n",
       "£50,000 - £60,000 a year      38\n",
       "£25,000 - £30,000 a year      36\n",
       "£25,000 - £35,000 a year      33\n",
       "£45,000 - £50,000 a year      33\n",
       "£50,000 a year                32\n",
       "£30,000 - £45,000 a year      30\n",
       "£60,000 - £70,000 a year      29\n",
       "£45,000 a year                29\n",
       "£45,000 - £55,000 a year      27\n",
       "£19,136 a year                27\n",
       "£55,000 - £65,000 a year      25\n",
       "£27,000 a year                24\n",
       "£60,000 a year                24\n",
       "£60,000 - £80,000 a year      23\n",
       "£33,222 - £43,041 a year      21\n",
       "£55,000 a year                20\n",
       "£32,000 a year                20\n",
       "£60,000 - £75,000 a year      19\n",
       "£60,000 - £65,000 a year      18\n",
       "£70,000 - £80,000 a year      18\n",
       "                              ..\n",
       "£50,010 - £56,510 a year       1\n",
       "£11.78 an hour                 1\n",
       "£35,109 - £42,634 a year       1\n",
       "£26,500 a year                 1\n",
       "£33,032 - £37,986 a year       1\n",
       "£15,300 a year                 1\n",
       "£45,000 - £52,000 a year       1\n",
       "£21,120 a year                 1\n",
       "£85,000 - £95,000 a year       1\n",
       "£34,189 - £38,460 a year       1\n",
       "£43,288 - £50,000 a year       1\n",
       "£23,868 - £26,397 a year       1\n",
       "£100,000 - £110,000 a year     1\n",
       "£45,000 - £120,000 a year      1\n",
       "£26,000 - £33,000 a year       1\n",
       "£31,749 - £41,025 a year       1\n",
       "£23,447 a year                 1\n",
       "£21,000 - £23,000 a year       1\n",
       "£31,029 a year                 1\n",
       "£34,835 - £40,200 a year       1\n",
       "£78,000 a year                 1\n",
       "£32,656 - £36,399 a year       1\n",
       "£40,800 - £55,200 a year       1\n",
       "£47,400 a year                 1\n",
       "£28,098 - £31,604 a year       1\n",
       "£38,040 - £40,887 a year       1\n",
       "£33,150 a year                 1\n",
       "£27,500 a year                 1\n",
       "£29,000 - £34,000 a year       1\n",
       "£500 - £550 a day              1\n",
       "Name: salary, Length: 872, dtype: int64"
      ]
     },
     "execution_count": 23,
     "metadata": {},
     "output_type": "execute_result"
    }
   ],
   "source": [
    "df['salary'].value_counts()"
   ]
  },
  {
   "cell_type": "code",
   "execution_count": 24,
   "metadata": {},
   "outputs": [
    {
     "data": {
      "text/plain": [
       "fulltime     4276\n",
       "permanent    3319\n",
       "Name: job_types, dtype: int64"
      ]
     },
     "execution_count": 24,
     "metadata": {},
     "output_type": "execute_result"
    }
   ],
   "source": [
    "df['job_types'].value_counts()"
   ]
  },
  {
   "cell_type": "markdown",
   "metadata": {},
   "source": [
    "As we can see it's quite tricky here to process the salary data as there are 872 unique ranges, and some value is by month, some even by week. Need to take the average if there are two values, and convert to yearly value"
   ]
  },
  {
   "cell_type": "code",
   "execution_count": 25,
   "metadata": {},
   "outputs": [],
   "source": [
    "#extract those with no salary\n",
    "df_no_salary=df[df['salary'].isnull()]"
   ]
  },
  {
   "cell_type": "code",
   "execution_count": 26,
   "metadata": {},
   "outputs": [
    {
     "name": "stdout",
     "output_type": "stream",
     "text": [
      "<class 'pandas.core.frame.DataFrame'>\n",
      "RangeIndex: 2848 entries, 0 to 2847\n",
      "Data columns (total 10 columns):\n",
      "job_id          2848 non-null object\n",
      "job_types       2848 non-null object\n",
      "job_tag         2848 non-null object\n",
      "post_time       2848 non-null object\n",
      "job_title       2848 non-null object\n",
      "company         2848 non-null object\n",
      "salary          2848 non-null object\n",
      "location        2848 non-null object\n",
      "no_of_review    1473 non-null object\n",
      "job_summary     2848 non-null object\n",
      "dtypes: object(10)\n",
      "memory usage: 222.6+ KB\n"
     ]
    }
   ],
   "source": [
    "#extract df with salary\n",
    "df_salary = df[~df['salary'].isnull()]\n",
    "df_salary.reset_index(drop=True,inplace=True)\n",
    "df_salary.info()"
   ]
  },
  {
   "cell_type": "code",
   "execution_count": 27,
   "metadata": {},
   "outputs": [],
   "source": [
    "#convert salary into yearly format\n",
    "salary_range = df_salary.salary.map(lambda x: re.sub('[^0-9\\s]', '', ' '.join(re.findall(r'\\d+(?:[\\d,.]*\\d)', x))))\n",
    "salary_period = df_salary.salary.map(lambda x: x[x.find('hour'):] if x.find('hour') >= 0 else x[x.find('day'):] if x.find('day') >= 0 \n",
    "                                     else x[x.find('week'):] if x.find('week') else x[x.find('month'):] if x.find('month')>=0 else 'year')"
   ]
  },
  {
   "cell_type": "code",
   "execution_count": 28,
   "metadata": {},
   "outputs": [
    {
     "data": {
      "text/plain": [
       "0    63754 75907\n",
       "1    30300 58580\n",
       "2    39866 49704\n",
       "3    70206 85333\n",
       "4    23023 29608\n",
       "Name: salary, dtype: object"
      ]
     },
     "execution_count": 28,
     "metadata": {},
     "output_type": "execute_result"
    }
   ],
   "source": [
    "salary_range.head()"
   ]
  },
  {
   "cell_type": "code",
   "execution_count": 29,
   "metadata": {},
   "outputs": [
    {
     "data": {
      "text/html": [
       "<div>\n",
       "<style scoped>\n",
       "    .dataframe tbody tr th:only-of-type {\n",
       "        vertical-align: middle;\n",
       "    }\n",
       "\n",
       "    .dataframe tbody tr th {\n",
       "        vertical-align: top;\n",
       "    }\n",
       "\n",
       "    .dataframe thead th {\n",
       "        text-align: right;\n",
       "    }\n",
       "</style>\n",
       "<table border=\"1\" class=\"dataframe\">\n",
       "  <thead>\n",
       "    <tr style=\"text-align: right;\">\n",
       "      <th></th>\n",
       "      <th>job_id</th>\n",
       "      <th>job_types</th>\n",
       "      <th>job_tag</th>\n",
       "      <th>post_time</th>\n",
       "      <th>job_title</th>\n",
       "      <th>company</th>\n",
       "      <th>salary</th>\n",
       "      <th>location</th>\n",
       "      <th>no_of_review</th>\n",
       "      <th>job_summary</th>\n",
       "    </tr>\n",
       "  </thead>\n",
       "  <tbody>\n",
       "    <tr>\n",
       "      <th>0</th>\n",
       "      <td>jl_719d91b70ae97f1c</td>\n",
       "      <td>fulltime</td>\n",
       "      <td>analytics</td>\n",
       "      <td>1</td>\n",
       "      <td>head of performance  analytics</td>\n",
       "      <td>barnet clinical commissioning group</td>\n",
       "      <td>£63,754 - £75,907 a year</td>\n",
       "      <td>barnet</td>\n",
       "      <td>NaN</td>\n",
       "      <td>reporting to the director of qipp, planning an...</td>\n",
       "    </tr>\n",
       "    <tr>\n",
       "      <th>1</th>\n",
       "      <td>jl_cee98ab894ae35fa</td>\n",
       "      <td>fulltime</td>\n",
       "      <td>analytics</td>\n",
       "      <td>2</td>\n",
       "      <td>reporting analytics manager</td>\n",
       "      <td>homes england</td>\n",
       "      <td>£30,300 - £58,580 a year</td>\n",
       "      <td>birmingham b3</td>\n",
       "      <td>2</td>\n",
       "      <td>the reporting and analytics manager will repor...</td>\n",
       "    </tr>\n",
       "  </tbody>\n",
       "</table>\n",
       "</div>"
      ],
      "text/plain": [
       "                job_id job_types    job_tag post_time  \\\n",
       "0  jl_719d91b70ae97f1c  fulltime  analytics         1   \n",
       "1  jl_cee98ab894ae35fa  fulltime  analytics         2   \n",
       "\n",
       "                        job_title                              company  \\\n",
       "0  head of performance  analytics  barnet clinical commissioning group   \n",
       "1     reporting analytics manager                        homes england   \n",
       "\n",
       "                     salary       location no_of_review  \\\n",
       "0  £63,754 - £75,907 a year         barnet          NaN   \n",
       "1  £30,300 - £58,580 a year  birmingham b3            2   \n",
       "\n",
       "                                         job_summary  \n",
       "0  reporting to the director of qipp, planning an...  \n",
       "1  the reporting and analytics manager will repor...  "
      ]
     },
     "execution_count": 29,
     "metadata": {},
     "output_type": "execute_result"
    }
   ],
   "source": [
    "df_salary.head(2)"
   ]
  },
  {
   "cell_type": "code",
   "execution_count": 30,
   "metadata": {},
   "outputs": [],
   "source": [
    "salary_period.replace('r','year',inplace=True)"
   ]
  },
  {
   "cell_type": "code",
   "execution_count": 31,
   "metadata": {},
   "outputs": [],
   "source": [
    "salary_period.replace('h','hour',inplace=True)"
   ]
  },
  {
   "cell_type": "code",
   "execution_count": 32,
   "metadata": {},
   "outputs": [
    {
     "data": {
      "text/plain": [
       "year    2783\n",
       "day       38\n",
       "hour      23\n",
       "week       4\n",
       "Name: salary, dtype: int64"
      ]
     },
     "execution_count": 32,
     "metadata": {},
     "output_type": "execute_result"
    }
   ],
   "source": [
    "salary_period.value_counts()"
   ]
  },
  {
   "cell_type": "code",
   "execution_count": 33,
   "metadata": {},
   "outputs": [
    {
     "data": {
      "text/plain": [
       "103     day\n",
       "315     day\n",
       "324     day\n",
       "623     day\n",
       "638     day\n",
       "650     day\n",
       "729     day\n",
       "772     day\n",
       "830     day\n",
       "1249    day\n",
       "1253    day\n",
       "1267    day\n",
       "1287    day\n",
       "1323    day\n",
       "1345    day\n",
       "1418    day\n",
       "1447    day\n",
       "1616    day\n",
       "1711    day\n",
       "1847    day\n",
       "1868    day\n",
       "1892    day\n",
       "1913    day\n",
       "1937    day\n",
       "1963    day\n",
       "2035    day\n",
       "2045    day\n",
       "2048    day\n",
       "2053    day\n",
       "2070    day\n",
       "2075    day\n",
       "2088    day\n",
       "2121    day\n",
       "2203    day\n",
       "2208    day\n",
       "2247    day\n",
       "2269    day\n",
       "2324    day\n",
       "Name: salary, dtype: object"
      ]
     },
     "execution_count": 33,
     "metadata": {},
     "output_type": "execute_result"
    }
   ],
   "source": [
    "salary_period[salary_period=='day']"
   ]
  },
  {
   "cell_type": "code",
   "execution_count": 34,
   "metadata": {},
   "outputs": [
    {
     "data": {
      "text/plain": [
       "True"
      ]
     },
     "execution_count": 34,
     "metadata": {},
     "output_type": "execute_result"
    }
   ],
   "source": [
    "len(salary_period) == len(salary_range)"
   ]
  },
  {
   "cell_type": "code",
   "execution_count": 35,
   "metadata": {},
   "outputs": [
    {
     "data": {
      "text/plain": [
       "2848"
      ]
     },
     "execution_count": 35,
     "metadata": {},
     "output_type": "execute_result"
    }
   ],
   "source": [
    "len(salary_period)"
   ]
  },
  {
   "cell_type": "code",
   "execution_count": 36,
   "metadata": {},
   "outputs": [
    {
     "data": {
      "text/plain": [
       "2848"
      ]
     },
     "execution_count": 36,
     "metadata": {},
     "output_type": "execute_result"
    }
   ],
   "source": [
    "(salary_period.index == salary_range.index).sum()"
   ]
  },
  {
   "cell_type": "markdown",
   "metadata": {},
   "source": [
    "From here, we can tell that actually there is no salary given by month, mostly they were by year. We also confirmed taht the indexes of `salary_period` and `salary_range` are the same, and we can proceed with further transformation."
   ]
  },
  {
   "cell_type": "code",
   "execution_count": 37,
   "metadata": {},
   "outputs": [],
   "source": [
    "#test\n",
    "# sal1 = salary_range[0].split()[0]\n",
    "# sal2 = salary_range[0].split()[1]\n",
    "# avg=(int(sal1) + int(sal2))/2\n",
    "# avg\n"
   ]
  },
  {
   "cell_type": "code",
   "execution_count": 38,
   "metadata": {},
   "outputs": [
    {
     "data": {
      "text/plain": [
       "True"
      ]
     },
     "execution_count": 38,
     "metadata": {},
     "output_type": "execute_result"
    }
   ],
   "source": [
    "x =[]\n",
    "for i in salary_range:\n",
    "    x.append(len(i.split()))\n",
    "0 in x"
   ]
  },
  {
   "cell_type": "code",
   "execution_count": 39,
   "metadata": {},
   "outputs": [
    {
     "data": {
      "text/plain": [
       "1210    \n",
       "2091    \n",
       "Name: salary, dtype: object"
      ]
     },
     "execution_count": 39,
     "metadata": {},
     "output_type": "execute_result"
    }
   ],
   "source": [
    "salary_range[salary_range=='']"
   ]
  },
  {
   "cell_type": "markdown",
   "metadata": {},
   "source": [
    "Suprisingly, there are two values in the salary_range are ''"
   ]
  },
  {
   "cell_type": "code",
   "execution_count": 40,
   "metadata": {},
   "outputs": [],
   "source": [
    "temp_sal = []\n",
    "\n",
    "for i in range(0, len(salary_period)):\n",
    "    if  salary_period.loc[i] == 'hour':\n",
    "        if len(salary_range[i].split()) == 2:\n",
    "            sal_h1 = int(salary_range[i].split()[0])\n",
    "            sal_h2 = int(salary_range[i].split()[1])\n",
    "            temp_sal.append(((sal_h1+sal_h2)/2)*8760)\n",
    "            \n",
    "        elif len(salary_range[i].split()) == 1:\n",
    "            sal_h = int(salary_range[i].split()[0])\n",
    "            temp_sal.append(sal_h*8760)\n",
    "        else:\n",
    "            temp_sal.append(np.nan)\n",
    "    \n",
    "    elif salary_period.loc[i] == 'day':        \n",
    "        if len(salary_range[i].split()) == 2:\n",
    "            sal_d1 = int(salary_range[i].split()[0])\n",
    "            sal_d2 = int(salary_range[i].split()[1])\n",
    "            temp_sal.append(((sal_d1+sal_d2)/2)*365)\n",
    "\n",
    "        elif len(salary_range[i].split()) == 1:\n",
    "            sal_d = int(salary_range[i])\n",
    "            temp_sal.append((sal_d*365))\n",
    "        else:\n",
    "            temp_sal.append(np.nan)\n",
    "    \n",
    "    elif salary_period.loc[i] == 'week':\n",
    "        if len(salary_range[i].split()) == 2:\n",
    "            sal_w1 = int(salary_range[i].split()[0])\n",
    "            sal_w2 = int(salary_range[i].split()[1])\n",
    "            temp_sal.append(((sal_w1+sal_w2)/2)*52.143)\n",
    "        elif len(salary_range[i].split()) == 1:\n",
    "            sal_w = int(salary_range[i])\n",
    "            temp_sal.append(sal_w*52.143)\n",
    "        else:\n",
    "            temp_sal.append(np.nan)\n",
    "                        \n",
    "    else:\n",
    "        if len(salary_range[i].split()) == 2:\n",
    "            sal_y1 = int(salary_range[i].split()[0])\n",
    "            sal_y2 = int(salary_range[i].split()[1])\n",
    "            temp_sal.append((sal_y1+sal_y2)/2)\n",
    "        elif len(salary_range[i].split()) == 1:\n",
    "            temp_sal.append(int(salary_range[i]))\n",
    "        else:\n",
    "            temp_sal.append(np.nan)\n",
    "                                 \n",
    "salary_annual = pd.DataFrame(temp_sal, columns=['salary_annual'])"
   ]
  },
  {
   "cell_type": "code",
   "execution_count": 41,
   "metadata": {},
   "outputs": [],
   "source": [
    "salary_annual=salary_annual.fillna(0).astype(int) #cater the nan values"
   ]
  },
  {
   "cell_type": "code",
   "execution_count": 42,
   "metadata": {},
   "outputs": [],
   "source": [
    "salary_higher_tier = salary_annual.applymap(lambda x: 1 if x> int(salary_annual.median()) else 0)"
   ]
  },
  {
   "cell_type": "markdown",
   "metadata": {},
   "source": [
    "Prior to drop the salary column and solely looking the tierd salary, it's worth to do a ad-hoc EDA to understand some of the relationship."
   ]
  },
  {
   "cell_type": "code",
   "execution_count": 43,
   "metadata": {},
   "outputs": [
    {
     "data": {
      "text/html": [
       "<div>\n",
       "<style scoped>\n",
       "    .dataframe tbody tr th:only-of-type {\n",
       "        vertical-align: middle;\n",
       "    }\n",
       "\n",
       "    .dataframe tbody tr th {\n",
       "        vertical-align: top;\n",
       "    }\n",
       "\n",
       "    .dataframe thead th {\n",
       "        text-align: right;\n",
       "    }\n",
       "</style>\n",
       "<table border=\"1\" class=\"dataframe\">\n",
       "  <thead>\n",
       "    <tr style=\"text-align: right;\">\n",
       "      <th></th>\n",
       "      <th>job_id</th>\n",
       "      <th>job_types</th>\n",
       "      <th>job_tag</th>\n",
       "      <th>post_time</th>\n",
       "      <th>job_title</th>\n",
       "      <th>company</th>\n",
       "      <th>salary</th>\n",
       "      <th>location</th>\n",
       "      <th>no_of_review</th>\n",
       "      <th>job_summary</th>\n",
       "    </tr>\n",
       "  </thead>\n",
       "  <tbody>\n",
       "    <tr>\n",
       "      <th>0</th>\n",
       "      <td>jl_719d91b70ae97f1c</td>\n",
       "      <td>fulltime</td>\n",
       "      <td>analytics</td>\n",
       "      <td>1</td>\n",
       "      <td>head of performance  analytics</td>\n",
       "      <td>barnet clinical commissioning group</td>\n",
       "      <td>£63,754 - £75,907 a year</td>\n",
       "      <td>barnet</td>\n",
       "      <td>NaN</td>\n",
       "      <td>reporting to the director of qipp, planning an...</td>\n",
       "    </tr>\n",
       "    <tr>\n",
       "      <th>1</th>\n",
       "      <td>jl_cee98ab894ae35fa</td>\n",
       "      <td>fulltime</td>\n",
       "      <td>analytics</td>\n",
       "      <td>2</td>\n",
       "      <td>reporting analytics manager</td>\n",
       "      <td>homes england</td>\n",
       "      <td>£30,300 - £58,580 a year</td>\n",
       "      <td>birmingham b3</td>\n",
       "      <td>2</td>\n",
       "      <td>the reporting and analytics manager will repor...</td>\n",
       "    </tr>\n",
       "  </tbody>\n",
       "</table>\n",
       "</div>"
      ],
      "text/plain": [
       "                job_id job_types    job_tag post_time  \\\n",
       "0  jl_719d91b70ae97f1c  fulltime  analytics         1   \n",
       "1  jl_cee98ab894ae35fa  fulltime  analytics         2   \n",
       "\n",
       "                        job_title                              company  \\\n",
       "0  head of performance  analytics  barnet clinical commissioning group   \n",
       "1     reporting analytics manager                        homes england   \n",
       "\n",
       "                     salary       location no_of_review  \\\n",
       "0  £63,754 - £75,907 a year         barnet          NaN   \n",
       "1  £30,300 - £58,580 a year  birmingham b3            2   \n",
       "\n",
       "                                         job_summary  \n",
       "0  reporting to the director of qipp, planning an...  \n",
       "1  the reporting and analytics manager will repor...  "
      ]
     },
     "execution_count": 43,
     "metadata": {},
     "output_type": "execute_result"
    }
   ],
   "source": [
    "df_salary.head(2)"
   ]
  },
  {
   "cell_type": "code",
   "execution_count": 44,
   "metadata": {},
   "outputs": [],
   "source": [
    "#df_salary['job_types'].value_counts()"
   ]
  },
  {
   "cell_type": "code",
   "execution_count": 45,
   "metadata": {},
   "outputs": [],
   "source": [
    "df_salary_copy =df_salary.copy()"
   ]
  },
  {
   "cell_type": "code",
   "execution_count": 46,
   "metadata": {},
   "outputs": [],
   "source": [
    "#convert 30+ to 30\n",
    "#first set all these numbers as laonger than 30 days\n",
    "df_salary_copy['post_time']=df_salary_copy['post_time'].apply(lambda x: '39' if x=='30+' else x)"
   ]
  },
  {
   "cell_type": "code",
   "execution_count": 47,
   "metadata": {},
   "outputs": [],
   "source": [
    "df_salary_copy['post_time']=df_salary_copy['post_time'].astype('int64')\n",
    "\n",
    "df_salary_copy['no_of_review']=df_salary_copy['no_of_review'].fillna(0)"
   ]
  },
  {
   "cell_type": "code",
   "execution_count": 48,
   "metadata": {},
   "outputs": [],
   "source": [
    "df_salary_copy['no_of_review']=df_salary_copy['no_of_review'].astype(str)"
   ]
  },
  {
   "cell_type": "code",
   "execution_count": 49,
   "metadata": {},
   "outputs": [],
   "source": [
    "df_salary_copy['no_of_review']=df_salary_copy['no_of_review'].apply(lambda x: x.replace(',',''))"
   ]
  },
  {
   "cell_type": "code",
   "execution_count": 50,
   "metadata": {},
   "outputs": [],
   "source": [
    "df_salary_copy['no_of_review']=df_salary_copy['no_of_review'].astype('int64')"
   ]
  },
  {
   "cell_type": "code",
   "execution_count": 51,
   "metadata": {},
   "outputs": [
    {
     "data": {
      "text/html": [
       "<div>\n",
       "<style scoped>\n",
       "    .dataframe tbody tr th:only-of-type {\n",
       "        vertical-align: middle;\n",
       "    }\n",
       "\n",
       "    .dataframe tbody tr th {\n",
       "        vertical-align: top;\n",
       "    }\n",
       "\n",
       "    .dataframe thead th {\n",
       "        text-align: right;\n",
       "    }\n",
       "</style>\n",
       "<table border=\"1\" class=\"dataframe\">\n",
       "  <thead>\n",
       "    <tr style=\"text-align: right;\">\n",
       "      <th></th>\n",
       "      <th>job_id</th>\n",
       "      <th>job_types</th>\n",
       "      <th>job_tag</th>\n",
       "      <th>post_time</th>\n",
       "      <th>job_title</th>\n",
       "      <th>company</th>\n",
       "      <th>salary</th>\n",
       "      <th>location</th>\n",
       "      <th>no_of_review</th>\n",
       "      <th>job_summary</th>\n",
       "    </tr>\n",
       "  </thead>\n",
       "  <tbody>\n",
       "    <tr>\n",
       "      <th>0</th>\n",
       "      <td>jl_719d91b70ae97f1c</td>\n",
       "      <td>fulltime</td>\n",
       "      <td>analytics</td>\n",
       "      <td>1</td>\n",
       "      <td>head of performance  analytics</td>\n",
       "      <td>barnet clinical commissioning group</td>\n",
       "      <td>£63,754 - £75,907 a year</td>\n",
       "      <td>barnet</td>\n",
       "      <td>NaN</td>\n",
       "      <td>reporting to the director of qipp, planning an...</td>\n",
       "    </tr>\n",
       "    <tr>\n",
       "      <th>1</th>\n",
       "      <td>jl_cee98ab894ae35fa</td>\n",
       "      <td>fulltime</td>\n",
       "      <td>analytics</td>\n",
       "      <td>2</td>\n",
       "      <td>reporting analytics manager</td>\n",
       "      <td>homes england</td>\n",
       "      <td>£30,300 - £58,580 a year</td>\n",
       "      <td>birmingham b3</td>\n",
       "      <td>2</td>\n",
       "      <td>the reporting and analytics manager will repor...</td>\n",
       "    </tr>\n",
       "  </tbody>\n",
       "</table>\n",
       "</div>"
      ],
      "text/plain": [
       "                job_id job_types    job_tag post_time  \\\n",
       "0  jl_719d91b70ae97f1c  fulltime  analytics         1   \n",
       "1  jl_cee98ab894ae35fa  fulltime  analytics         2   \n",
       "\n",
       "                        job_title                              company  \\\n",
       "0  head of performance  analytics  barnet clinical commissioning group   \n",
       "1     reporting analytics manager                        homes england   \n",
       "\n",
       "                     salary       location no_of_review  \\\n",
       "0  £63,754 - £75,907 a year         barnet          NaN   \n",
       "1  £30,300 - £58,580 a year  birmingham b3            2   \n",
       "\n",
       "                                         job_summary  \n",
       "0  reporting to the director of qipp, planning an...  \n",
       "1  the reporting and analytics manager will repor...  "
      ]
     },
     "execution_count": 51,
     "metadata": {},
     "output_type": "execute_result"
    }
   ],
   "source": [
    "df_salary.head(2)"
   ]
  },
  {
   "cell_type": "code",
   "execution_count": 52,
   "metadata": {},
   "outputs": [
    {
     "data": {
      "text/plain": [
       "permanent    1920\n",
       "fulltime      928\n",
       "Name: job_types, dtype: int64"
      ]
     },
     "execution_count": 52,
     "metadata": {},
     "output_type": "execute_result"
    }
   ],
   "source": [
    "df_salary['job_types'].value_counts()"
   ]
  },
  {
   "cell_type": "code",
   "execution_count": 53,
   "metadata": {},
   "outputs": [
    {
     "data": {
      "text/plain": [
       "permanent    1920\n",
       "fulltime      928\n",
       "Name: job_types, dtype: int64"
      ]
     },
     "execution_count": 53,
     "metadata": {},
     "output_type": "execute_result"
    }
   ],
   "source": [
    "df_salary_copy['job_types'].value_counts()"
   ]
  },
  {
   "cell_type": "code",
   "execution_count": 54,
   "metadata": {},
   "outputs": [
    {
     "data": {
      "text/html": [
       "<div>\n",
       "<style scoped>\n",
       "    .dataframe tbody tr th:only-of-type {\n",
       "        vertical-align: middle;\n",
       "    }\n",
       "\n",
       "    .dataframe tbody tr th {\n",
       "        vertical-align: top;\n",
       "    }\n",
       "\n",
       "    .dataframe thead th {\n",
       "        text-align: right;\n",
       "    }\n",
       "</style>\n",
       "<table border=\"1\" class=\"dataframe\">\n",
       "  <thead>\n",
       "    <tr style=\"text-align: right;\">\n",
       "      <th></th>\n",
       "      <th>job_id</th>\n",
       "      <th>job_types</th>\n",
       "      <th>job_tag</th>\n",
       "      <th>post_time</th>\n",
       "      <th>job_title</th>\n",
       "      <th>company</th>\n",
       "      <th>salary</th>\n",
       "      <th>location</th>\n",
       "      <th>no_of_review</th>\n",
       "      <th>job_summary</th>\n",
       "    </tr>\n",
       "  </thead>\n",
       "  <tbody>\n",
       "    <tr>\n",
       "      <th>0</th>\n",
       "      <td>jl_719d91b70ae97f1c</td>\n",
       "      <td>fulltime</td>\n",
       "      <td>analytics</td>\n",
       "      <td>1</td>\n",
       "      <td>head of performance  analytics</td>\n",
       "      <td>barnet clinical commissioning group</td>\n",
       "      <td>£63,754 - £75,907 a year</td>\n",
       "      <td>barnet</td>\n",
       "      <td>0</td>\n",
       "      <td>reporting to the director of qipp, planning an...</td>\n",
       "    </tr>\n",
       "    <tr>\n",
       "      <th>1</th>\n",
       "      <td>jl_cee98ab894ae35fa</td>\n",
       "      <td>fulltime</td>\n",
       "      <td>analytics</td>\n",
       "      <td>2</td>\n",
       "      <td>reporting analytics manager</td>\n",
       "      <td>homes england</td>\n",
       "      <td>£30,300 - £58,580 a year</td>\n",
       "      <td>birmingham b3</td>\n",
       "      <td>2</td>\n",
       "      <td>the reporting and analytics manager will repor...</td>\n",
       "    </tr>\n",
       "  </tbody>\n",
       "</table>\n",
       "</div>"
      ],
      "text/plain": [
       "                job_id job_types    job_tag  post_time  \\\n",
       "0  jl_719d91b70ae97f1c  fulltime  analytics          1   \n",
       "1  jl_cee98ab894ae35fa  fulltime  analytics          2   \n",
       "\n",
       "                        job_title                              company  \\\n",
       "0  head of performance  analytics  barnet clinical commissioning group   \n",
       "1     reporting analytics manager                        homes england   \n",
       "\n",
       "                     salary       location  no_of_review  \\\n",
       "0  £63,754 - £75,907 a year         barnet             0   \n",
       "1  £30,300 - £58,580 a year  birmingham b3             2   \n",
       "\n",
       "                                         job_summary  \n",
       "0  reporting to the director of qipp, planning an...  \n",
       "1  the reporting and analytics manager will repor...  "
      ]
     },
     "execution_count": 54,
     "metadata": {},
     "output_type": "execute_result"
    }
   ],
   "source": [
    "df_salary_copy.head(2)"
   ]
  },
  {
   "cell_type": "code",
   "execution_count": 55,
   "metadata": {},
   "outputs": [],
   "source": [
    "salary_annual.rename(columns={'salary_annual':'annual_salary'},inplace=True)"
   ]
  },
  {
   "cell_type": "code",
   "execution_count": 56,
   "metadata": {},
   "outputs": [
    {
     "data": {
      "text/html": [
       "<div>\n",
       "<style scoped>\n",
       "    .dataframe tbody tr th:only-of-type {\n",
       "        vertical-align: middle;\n",
       "    }\n",
       "\n",
       "    .dataframe tbody tr th {\n",
       "        vertical-align: top;\n",
       "    }\n",
       "\n",
       "    .dataframe thead th {\n",
       "        text-align: right;\n",
       "    }\n",
       "</style>\n",
       "<table border=\"1\" class=\"dataframe\">\n",
       "  <thead>\n",
       "    <tr style=\"text-align: right;\">\n",
       "      <th></th>\n",
       "      <th>annual_salary</th>\n",
       "    </tr>\n",
       "  </thead>\n",
       "  <tbody>\n",
       "    <tr>\n",
       "      <th>0</th>\n",
       "      <td>69830</td>\n",
       "    </tr>\n",
       "    <tr>\n",
       "      <th>1</th>\n",
       "      <td>44440</td>\n",
       "    </tr>\n",
       "  </tbody>\n",
       "</table>\n",
       "</div>"
      ],
      "text/plain": [
       "   annual_salary\n",
       "0          69830\n",
       "1          44440"
      ]
     },
     "execution_count": 56,
     "metadata": {},
     "output_type": "execute_result"
    }
   ],
   "source": [
    "salary_annual.head(2)"
   ]
  },
  {
   "cell_type": "code",
   "execution_count": 57,
   "metadata": {},
   "outputs": [],
   "source": [
    "df_salary_copy.drop(labels=['salary'], axis=1, inplace=True)\n",
    "df_salary_mod = pd.concat([df_salary_copy, salary_higher_tier,salary_annual], axis=1)"
   ]
  },
  {
   "cell_type": "code",
   "execution_count": 58,
   "metadata": {},
   "outputs": [
    {
     "name": "stdout",
     "output_type": "stream",
     "text": [
      "<class 'pandas.core.frame.DataFrame'>\n",
      "RangeIndex: 2848 entries, 0 to 2847\n",
      "Data columns (total 11 columns):\n",
      "job_id           2848 non-null object\n",
      "job_types        2848 non-null object\n",
      "job_tag          2848 non-null object\n",
      "post_time        2848 non-null int64\n",
      "job_title        2848 non-null object\n",
      "company          2848 non-null object\n",
      "location         2848 non-null object\n",
      "no_of_review     2848 non-null int64\n",
      "job_summary      2848 non-null object\n",
      "salary_annual    2848 non-null int64\n",
      "annual_salary    2848 non-null int32\n",
      "dtypes: int32(1), int64(3), object(7)\n",
      "memory usage: 233.7+ KB\n"
     ]
    }
   ],
   "source": [
    "df_salary_mod.info()"
   ]
  },
  {
   "cell_type": "code",
   "execution_count": 59,
   "metadata": {},
   "outputs": [],
   "source": [
    "df_salary_mod.rename(columns={'salary_annual':'salary_high_tier'},inplace=True)"
   ]
  },
  {
   "cell_type": "code",
   "execution_count": 60,
   "metadata": {},
   "outputs": [
    {
     "data": {
      "text/html": [
       "<div>\n",
       "<style scoped>\n",
       "    .dataframe tbody tr th:only-of-type {\n",
       "        vertical-align: middle;\n",
       "    }\n",
       "\n",
       "    .dataframe tbody tr th {\n",
       "        vertical-align: top;\n",
       "    }\n",
       "\n",
       "    .dataframe thead th {\n",
       "        text-align: right;\n",
       "    }\n",
       "</style>\n",
       "<table border=\"1\" class=\"dataframe\">\n",
       "  <thead>\n",
       "    <tr style=\"text-align: right;\">\n",
       "      <th></th>\n",
       "      <th>job_id</th>\n",
       "      <th>job_types</th>\n",
       "      <th>job_tag</th>\n",
       "      <th>post_time</th>\n",
       "      <th>job_title</th>\n",
       "      <th>company</th>\n",
       "      <th>location</th>\n",
       "      <th>no_of_review</th>\n",
       "      <th>job_summary</th>\n",
       "      <th>salary_high_tier</th>\n",
       "      <th>annual_salary</th>\n",
       "    </tr>\n",
       "  </thead>\n",
       "  <tbody>\n",
       "    <tr>\n",
       "      <th>0</th>\n",
       "      <td>jl_719d91b70ae97f1c</td>\n",
       "      <td>fulltime</td>\n",
       "      <td>analytics</td>\n",
       "      <td>1</td>\n",
       "      <td>head of performance  analytics</td>\n",
       "      <td>barnet clinical commissioning group</td>\n",
       "      <td>barnet</td>\n",
       "      <td>0</td>\n",
       "      <td>reporting to the director of qipp, planning an...</td>\n",
       "      <td>1</td>\n",
       "      <td>69830</td>\n",
       "    </tr>\n",
       "    <tr>\n",
       "      <th>1</th>\n",
       "      <td>jl_cee98ab894ae35fa</td>\n",
       "      <td>fulltime</td>\n",
       "      <td>analytics</td>\n",
       "      <td>2</td>\n",
       "      <td>reporting analytics manager</td>\n",
       "      <td>homes england</td>\n",
       "      <td>birmingham b3</td>\n",
       "      <td>2</td>\n",
       "      <td>the reporting and analytics manager will repor...</td>\n",
       "      <td>1</td>\n",
       "      <td>44440</td>\n",
       "    </tr>\n",
       "  </tbody>\n",
       "</table>\n",
       "</div>"
      ],
      "text/plain": [
       "                job_id job_types    job_tag  post_time  \\\n",
       "0  jl_719d91b70ae97f1c  fulltime  analytics          1   \n",
       "1  jl_cee98ab894ae35fa  fulltime  analytics          2   \n",
       "\n",
       "                        job_title                              company  \\\n",
       "0  head of performance  analytics  barnet clinical commissioning group   \n",
       "1     reporting analytics manager                        homes england   \n",
       "\n",
       "        location  no_of_review  \\\n",
       "0         barnet             0   \n",
       "1  birmingham b3             2   \n",
       "\n",
       "                                         job_summary  salary_high_tier  \\\n",
       "0  reporting to the director of qipp, planning an...                 1   \n",
       "1  the reporting and analytics manager will repor...                 1   \n",
       "\n",
       "   annual_salary  \n",
       "0          69830  \n",
       "1          44440  "
      ]
     },
     "execution_count": 60,
     "metadata": {},
     "output_type": "execute_result"
    }
   ],
   "source": [
    "df_salary_mod.head(2)"
   ]
  },
  {
   "cell_type": "markdown",
   "metadata": {},
   "source": [
    "Further process the this dataframe, as we can also categorize the post_time or we should change them to int"
   ]
  },
  {
   "cell_type": "code",
   "execution_count": 61,
   "metadata": {},
   "outputs": [],
   "source": [
    "# df_salary_mod.iloc[4]['no_of_review']"
   ]
  },
  {
   "cell_type": "code",
   "execution_count": 62,
   "metadata": {},
   "outputs": [
    {
     "data": {
      "text/html": [
       "<div>\n",
       "<style scoped>\n",
       "    .dataframe tbody tr th:only-of-type {\n",
       "        vertical-align: middle;\n",
       "    }\n",
       "\n",
       "    .dataframe tbody tr th {\n",
       "        vertical-align: top;\n",
       "    }\n",
       "\n",
       "    .dataframe thead th {\n",
       "        text-align: right;\n",
       "    }\n",
       "</style>\n",
       "<table border=\"1\" class=\"dataframe\">\n",
       "  <thead>\n",
       "    <tr style=\"text-align: right;\">\n",
       "      <th></th>\n",
       "      <th>job_id</th>\n",
       "      <th>job_types</th>\n",
       "      <th>job_tag</th>\n",
       "      <th>post_time</th>\n",
       "      <th>job_title</th>\n",
       "      <th>company</th>\n",
       "      <th>salary</th>\n",
       "      <th>location</th>\n",
       "      <th>no_of_review</th>\n",
       "      <th>job_summary</th>\n",
       "    </tr>\n",
       "  </thead>\n",
       "  <tbody>\n",
       "    <tr>\n",
       "      <th>0</th>\n",
       "      <td>jl_aefa77662d5bfc1d</td>\n",
       "      <td>fulltime</td>\n",
       "      <td>analytics</td>\n",
       "      <td>6</td>\n",
       "      <td>head of customer insight  analytics</td>\n",
       "      <td>rank group</td>\n",
       "      <td>NaN</td>\n",
       "      <td>maidenhead</td>\n",
       "      <td>18</td>\n",
       "      <td>� responsible for leading a team of analysts a...</td>\n",
       "    </tr>\n",
       "    <tr>\n",
       "      <th>2</th>\n",
       "      <td>jl_d123655931ba246c</td>\n",
       "      <td>fulltime</td>\n",
       "      <td>analytics</td>\n",
       "      <td>1</td>\n",
       "      <td>insights  analytics intern   week summer place...</td>\n",
       "      <td>asos.com</td>\n",
       "      <td>NaN</td>\n",
       "      <td>london</td>\n",
       "      <td>233</td>\n",
       "      <td>developing a great understanding of modern ana...</td>\n",
       "    </tr>\n",
       "  </tbody>\n",
       "</table>\n",
       "</div>"
      ],
      "text/plain": [
       "                job_id job_types    job_tag post_time  \\\n",
       "0  jl_aefa77662d5bfc1d  fulltime  analytics         6   \n",
       "2  jl_d123655931ba246c  fulltime  analytics         1   \n",
       "\n",
       "                                           job_title     company salary  \\\n",
       "0                head of customer insight  analytics  rank group    NaN   \n",
       "2  insights  analytics intern   week summer place...    asos.com    NaN   \n",
       "\n",
       "     location no_of_review                                        job_summary  \n",
       "0  maidenhead           18  � responsible for leading a team of analysts a...  \n",
       "2      london          233  developing a great understanding of modern ana...  "
      ]
     },
     "execution_count": 62,
     "metadata": {},
     "output_type": "execute_result"
    }
   ],
   "source": [
    "df_no_salary.head(2)"
   ]
  },
  {
   "cell_type": "markdown",
   "metadata": {},
   "source": [
    "Perhaps later need to apply the same process on no salary dataframe"
   ]
  },
  {
   "cell_type": "markdown",
   "metadata": {},
   "source": [
    "## Simple EDA"
   ]
  },
  {
   "cell_type": "code",
   "execution_count": 63,
   "metadata": {},
   "outputs": [
    {
     "name": "stdout",
     "output_type": "stream",
     "text": [
      "<class 'pandas.core.frame.DataFrame'>\n",
      "RangeIndex: 2848 entries, 0 to 2847\n",
      "Data columns (total 11 columns):\n",
      "job_id              2848 non-null object\n",
      "job_types           2848 non-null object\n",
      "job_tag             2848 non-null object\n",
      "post_time           2848 non-null int64\n",
      "job_title           2848 non-null object\n",
      "company             2848 non-null object\n",
      "location            2848 non-null object\n",
      "no_of_review        2848 non-null int64\n",
      "job_summary         2848 non-null object\n",
      "salary_high_tier    2848 non-null int64\n",
      "annual_salary       2848 non-null int32\n",
      "dtypes: int32(1), int64(3), object(7)\n",
      "memory usage: 233.7+ KB\n"
     ]
    }
   ],
   "source": [
    "df_salary_mod.info()"
   ]
  },
  {
   "cell_type": "markdown",
   "metadata": {},
   "source": [
    "From all the scraped data, there are 2848 has salary values and they have been classified into high_tier (1) or not higher_tier"
   ]
  },
  {
   "cell_type": "code",
   "execution_count": 64,
   "metadata": {},
   "outputs": [],
   "source": [
    "import seaborn as sns\n",
    "sns.set(style=\"ticks\", color_codes=True)"
   ]
  },
  {
   "cell_type": "code",
   "execution_count": 65,
   "metadata": {},
   "outputs": [
    {
     "data": {
      "image/png": "[encoded data removed]",
      "text/plain": [
       "<Figure size 720x720 with 20 Axes>"
      ]
     },
     "metadata": {},
     "output_type": "display_data"
    }
   ],
   "source": [
    "g = sns.pairplot(df_salary_mod)"
   ]
  },
  {
   "cell_type": "code",
   "execution_count": 66,
   "metadata": {},
   "outputs": [
    {
     "data": {
      "text/plain": [
       "permanent    1920\n",
       "fulltime      928\n",
       "Name: job_types, dtype: int64"
      ]
     },
     "execution_count": 66,
     "metadata": {},
     "output_type": "execute_result"
    }
   ],
   "source": [
    "df_salary_mod['job_types'].value_counts()"
   ]
  },
  {
   "cell_type": "code",
   "execution_count": 67,
   "metadata": {},
   "outputs": [
    {
     "data": {
      "text/plain": [
       "Text(0.5, 1.0, 'Number of permanent jobs vs. fulltime jobs')"
      ]
     },
     "execution_count": 67,
     "metadata": {},
     "output_type": "execute_result"
    },
    {
     "data": {
      "image/png": "[encoded data removed]",
      "text/plain": [
       "<Figure size 720x576 with 1 Axes>"
      ]
     },
     "metadata": {},
     "output_type": "display_data"
    }
   ],
   "source": [
    "f, ax=plt.subplots(figsize=(10,8))\n",
    "raw=df_salary_mod['job_types'].value_counts()\n",
    "raw.plot(kind='bar')\n",
    "plt.xticks(rotation=30)\n",
    "plt.ylabel('counts')\n",
    "plt.title('Number of permanent jobs vs. fulltime jobs')"
   ]
  },
  {
   "cell_type": "code",
   "execution_count": 68,
   "metadata": {},
   "outputs": [
    {
     "data": {
      "text/plain": [
       "data_engineer            604\n",
       "business_intelligence    593\n",
       "analytics                590\n",
       "data_analyst             546\n",
       "research_scientist       515\n",
       "Name: job_tag, dtype: int64"
      ]
     },
     "execution_count": 68,
     "metadata": {},
     "output_type": "execute_result"
    }
   ],
   "source": [
    "df_salary_mod['job_tag'].value_counts()"
   ]
  },
  {
   "cell_type": "code",
   "execution_count": 69,
   "metadata": {},
   "outputs": [
    {
     "data": {
      "text/plain": [
       "Text(0.5, 1.0, 'Distribution by job search tags')"
      ]
     },
     "execution_count": 69,
     "metadata": {},
     "output_type": "execute_result"
    },
    {
     "data": {
      "image/png": "[encoded data removed]",
      "text/plain": [
       "<Figure size 720x576 with 1 Axes>"
      ]
     },
     "metadata": {},
     "output_type": "display_data"
    }
   ],
   "source": [
    "f, ax=plt.subplots(figsize=(10,8))\n",
    "raw=df_salary_mod['job_tag'].value_counts()\n",
    "raw.plot(kind='bar')\n",
    "plt.xticks(rotation=30)\n",
    "plt.ylabel('counts')\n",
    "plt.title('Distribution by job search tags')"
   ]
  },
  {
   "cell_type": "code",
   "execution_count": 70,
   "metadata": {},
   "outputs": [
    {
     "data": {
      "text/plain": [
       "39    759\n",
       "1     364\n",
       "2     163\n",
       "9     138\n",
       "7     122\n",
       "6     118\n",
       "8     113\n",
       "14     86\n",
       "13     85\n",
       "16     80\n",
       "15     74\n",
       "3      69\n",
       "22     65\n",
       "5      64\n",
       "10     57\n",
       "20     56\n",
       "28     47\n",
       "12     45\n",
       "29     43\n",
       "23     42\n",
       "19     41\n",
       "27     39\n",
       "17     37\n",
       "21     37\n",
       "30     27\n",
       "24     25\n",
       "26     23\n",
       "18     13\n",
       "4      12\n",
       "25      3\n",
       "11      1\n",
       "Name: post_time, dtype: int64"
      ]
     },
     "execution_count": 70,
     "metadata": {},
     "output_type": "execute_result"
    }
   ],
   "source": [
    "df_salary_mod['post_time'].value_counts()"
   ]
  },
  {
   "cell_type": "code",
   "execution_count": 71,
   "metadata": {},
   "outputs": [
    {
     "data": {
      "text/plain": [
       "Text(0.5, 1.0, 'Distribution by duraiont of job posted')"
      ]
     },
     "execution_count": 71,
     "metadata": {},
     "output_type": "execute_result"
    },
    {
     "data": {
      "image/png": "[encoded data removed]",
      "text/plain": [
       "<Figure size 720x576 with 1 Axes>"
      ]
     },
     "metadata": {},
     "output_type": "display_data"
    }
   ],
   "source": [
    "f, ax=plt.subplots(figsize=(10,8))\n",
    "raw=df_salary_mod['post_time'].value_counts()\n",
    "raw.plot(kind='bar')\n",
    "plt.xticks(rotation=30)\n",
    "plt.ylabel('counts')\n",
    "plt.title('Distribution by duraiont of job posted')"
   ]
  },
  {
   "cell_type": "code",
   "execution_count": 72,
   "metadata": {},
   "outputs": [
    {
     "data": {
      "text/plain": [
       "2205"
      ]
     },
     "execution_count": 72,
     "metadata": {},
     "output_type": "execute_result"
    }
   ],
   "source": [
    "df_salary_mod.job_title.nunique()"
   ]
  },
  {
   "cell_type": "code",
   "execution_count": 73,
   "metadata": {},
   "outputs": [
    {
     "data": {
      "text/plain": [
       "1015"
      ]
     },
     "execution_count": 73,
     "metadata": {},
     "output_type": "execute_result"
    }
   ],
   "source": [
    "df_salary_mod.company.nunique()"
   ]
  },
  {
   "cell_type": "code",
   "execution_count": 74,
   "metadata": {},
   "outputs": [
    {
     "data": {
      "text/plain": [
       "harnham                              253\n",
       "michael page uk                       78\n",
       "stfc                                  53\n",
       "aspire data recruitment               41\n",
       "accenture                             34\n",
       "nigel frank international limited     29\n",
       "ministry of defence                   23\n",
       "re&m                                  22\n",
       "mcgregor boyall                       21\n",
       "nicholson glover consulting           21\n",
       "Name: company, dtype: int64"
      ]
     },
     "execution_count": 74,
     "metadata": {},
     "output_type": "execute_result"
    }
   ],
   "source": [
    "df_salary_mod.company.value_counts(ascending=False).head(10)"
   ]
  },
  {
   "cell_type": "code",
   "execution_count": 76,
   "metadata": {},
   "outputs": [
    {
     "data": {
      "text/plain": [
       "Text(0.5, 1.0, 'Top 10 firms at UK hire data realted jobs with salary information')"
      ]
     },
     "execution_count": 76,
     "metadata": {},
     "output_type": "execute_result"
    },
    {
     "data": {
      "image/png": "[encoded data removed]",
      "text/plain": [
       "<Figure size 720x576 with 1 Axes>"
      ]
     },
     "metadata": {},
     "output_type": "display_data"
    }
   ],
   "source": [
    "f, ax=plt.subplots(figsize=(10,8))\n",
    "raw=df_salary_mod.company.value_counts(ascending=False).head(10)\n",
    "raw.plot(kind='bar')\n",
    "plt.xticks(rotation=30)\n",
    "plt.ylabel('counts')\n",
    "plt.title('Top 10 firms at UK hire data realted jobs with salary information')"
   ]
  },
  {
   "cell_type": "code",
   "execution_count": 77,
   "metadata": {},
   "outputs": [
    {
     "data": {
      "text/plain": [
       "Text(0.5, 1.0, 'Top 10 firms at UK hire data realted jobs from total extracted data')"
      ]
     },
     "execution_count": 77,
     "metadata": {},
     "output_type": "execute_result"
    },
    {
     "data": {
      "image/png": "[encoded data removed]",
      "text/plain": [
       "<Figure size 720x576 with 1 Axes>"
      ]
     },
     "metadata": {},
     "output_type": "display_data"
    }
   ],
   "source": [
    "# #maybe we can take a look at the main dataframe\n",
    "f, ax=plt.subplots(figsize=(10,8))\n",
    "raw=df.company.value_counts(ascending=False).head(10)\n",
    "raw.plot(kind='bar')\n",
    "plt.xticks(rotation=30)\n",
    "plt.ylabel('counts')\n",
    "plt.title('Top 10 firms at UK hire data realted jobs from total extracted data')"
   ]
  },
  {
   "cell_type": "code",
   "execution_count": 79,
   "metadata": {},
   "outputs": [
    {
     "data": {
      "text/plain": [
       "512"
      ]
     },
     "execution_count": 79,
     "metadata": {},
     "output_type": "execute_result"
    }
   ],
   "source": [
    "df_salary_mod['location'].nunique()"
   ]
  },
  {
   "cell_type": "markdown",
   "metadata": {},
   "source": [
    "It seems the `job_title` and `location` does not really halp as there are too many numbers. We have 2205 different job titles, and 512 different locations"
   ]
  },
  {
   "cell_type": "code",
   "execution_count": 80,
   "metadata": {},
   "outputs": [
    {
     "data": {
      "text/plain": [
       "london            912\n",
       "manchester         66\n",
       "united kingdom     66\n",
       "didcot             57\n",
       "leeds              47\n",
       "oxford             46\n",
       "cambridge          41\n",
       "bristol            41\n",
       "reading            39\n",
       "birmingham         36\n",
       "Name: location, dtype: int64"
      ]
     },
     "execution_count": 80,
     "metadata": {},
     "output_type": "execute_result"
    }
   ],
   "source": [
    "df_salary_mod['location'].value_counts(ascending=False).head(10)"
   ]
  },
  {
   "cell_type": "code",
   "execution_count": 83,
   "metadata": {},
   "outputs": [
    {
     "data": {
      "text/plain": [
       "0.3202247191011236"
      ]
     },
     "execution_count": 83,
     "metadata": {},
     "output_type": "execute_result"
    }
   ],
   "source": [
    "(df_salary_mod['location']=='london').sum() / len(df_salary_mod)"
   ]
  },
  {
   "cell_type": "code",
   "execution_count": 81,
   "metadata": {},
   "outputs": [
    {
     "data": {
      "text/plain": [
       "london            2463\n",
       "united kingdom     273\n",
       "reading            174\n",
       "manchester         159\n",
       "bristol            118\n",
       "leeds              115\n",
       "birmingham         103\n",
       "edinburgh           97\n",
       "cambridge           96\n",
       "glasgow             87\n",
       "Name: location, dtype: int64"
      ]
     },
     "execution_count": 81,
     "metadata": {},
     "output_type": "execute_result"
    }
   ],
   "source": [
    "df['location'].value_counts(ascending=False).head(10)"
   ]
  },
  {
   "cell_type": "code",
   "execution_count": 84,
   "metadata": {},
   "outputs": [
    {
     "data": {
      "text/plain": [
       "0.324292297564187"
      ]
     },
     "execution_count": 84,
     "metadata": {},
     "output_type": "execute_result"
    }
   ],
   "source": [
    "(df['location']=='london').sum() / len(df)"
   ]
  },
  {
   "cell_type": "code",
   "execution_count": 87,
   "metadata": {},
   "outputs": [
    {
     "data": {
      "text/plain": [
       "Text(0.5, 1.0, 'Top 5 cities UK hire data realted jobs the most')"
      ]
     },
     "execution_count": 87,
     "metadata": {},
     "output_type": "execute_result"
    },
    {
     "data": {
      "image/png": "[encoded data removed]",
      "text/plain": [
       "<Figure size 720x576 with 1 Axes>"
      ]
     },
     "metadata": {},
     "output_type": "display_data"
    }
   ],
   "source": [
    "# #maybe we can take a look at the main dataframe\n",
    "f, ax=plt.subplots(figsize=(10,8))\n",
    "raw=df_salary_mod[df_salary_mod['location']!='united kingdom']['location'].value_counts(ascending=False).head(5)\n",
    "raw.plot(kind='bar')\n",
    "plt.xticks(rotation=30)\n",
    "plt.ylabel('counts')\n",
    "plt.title('Top 5 cities UK hire data realted jobs the most')"
   ]
  },
  {
   "cell_type": "code",
   "execution_count": 180,
   "metadata": {},
   "outputs": [
    {
     "data": {
      "text/plain": [
       "Text(0.5, 1.0, 'Top 5 cities UK with most nubmer of high salary tier jobs')"
      ]
     },
     "execution_count": 180,
     "metadata": {},
     "output_type": "execute_result"
    },
    {
     "data": {
      "image/png": "[encoded data removed]",
      "text/plain": [
       "<Figure size 720x576 with 1 Axes>"
      ]
     },
     "metadata": {},
     "output_type": "display_data"
    }
   ],
   "source": [
    "f, ax=plt.subplots(figsize=(10,8))\n",
    "raw=df_salary_mod[df_salary_mod['location']!='united kingdom'].groupby(by='location')['salary_high_tier'].sum().sort_values(ascending=False).head(5)\n",
    "raw.plot(kind='bar')\n",
    "plt.xticks(rotation=30)\n",
    "plt.ylabel('counts')\n",
    "plt.title('Top 5 cities UK with most nubmer of high salary tier jobs')"
   ]
  },
  {
   "cell_type": "code",
   "execution_count": 88,
   "metadata": {},
   "outputs": [
    {
     "data": {
      "text/plain": [
       "<matplotlib.axes._subplots.AxesSubplot at 0x1bc81f07b00>"
      ]
     },
     "execution_count": 88,
     "metadata": {},
     "output_type": "execute_result"
    },
    {
     "data": {
      "image/png": "[encoded data removed]",
      "text/plain": [
       "<Figure size 720x576 with 1 Axes>"
      ]
     },
     "metadata": {},
     "output_type": "display_data"
    }
   ],
   "source": [
    "f, ax=plt.subplots(figsize=(10,8))\n",
    "sns.scatterplot(x='post_time',y='annual_salary',data=df_salary_mod)"
   ]
  },
  {
   "cell_type": "code",
   "execution_count": 92,
   "metadata": {},
   "outputs": [
    {
     "data": {
      "text/plain": [
       "<matplotlib.axes._subplots.AxesSubplot at 0x1bc82012da0>"
      ]
     },
     "execution_count": 92,
     "metadata": {},
     "output_type": "execute_result"
    },
    {
     "data": {
      "image/png": "[encoded data removed]",
      "text/plain": [
       "<Figure size 720x576 with 1 Axes>"
      ]
     },
     "metadata": {},
     "output_type": "display_data"
    }
   ],
   "source": [
    "f, ax=plt.subplots(figsize=(10,8))\n",
    "sns.scatterplot(x='no_of_review',y='annual_salary',data=df_salary_mod)"
   ]
  },
  {
   "cell_type": "markdown",
   "metadata": {},
   "source": [
    "It seems there is no relationship bewteen number of reviews and post time. The outlier could due to the wrong calcualtion. It is worth to look at it."
   ]
  },
  {
   "cell_type": "code",
   "execution_count": 93,
   "metadata": {},
   "outputs": [
    {
     "data": {
      "text/plain": [
       "140160000"
      ]
     },
     "execution_count": 93,
     "metadata": {},
     "output_type": "execute_result"
    }
   ],
   "source": [
    "df_salary_mod['annual_salary'].max()"
   ]
  },
  {
   "cell_type": "code",
   "execution_count": 95,
   "metadata": {},
   "outputs": [
    {
     "data": {
      "text/html": [
       "<div>\n",
       "<style scoped>\n",
       "    .dataframe tbody tr th:only-of-type {\n",
       "        vertical-align: middle;\n",
       "    }\n",
       "\n",
       "    .dataframe tbody tr th {\n",
       "        vertical-align: top;\n",
       "    }\n",
       "\n",
       "    .dataframe thead th {\n",
       "        text-align: right;\n",
       "    }\n",
       "</style>\n",
       "<table border=\"1\" class=\"dataframe\">\n",
       "  <thead>\n",
       "    <tr style=\"text-align: right;\">\n",
       "      <th></th>\n",
       "      <th>job_id</th>\n",
       "      <th>job_types</th>\n",
       "      <th>job_tag</th>\n",
       "      <th>post_time</th>\n",
       "      <th>job_title</th>\n",
       "      <th>company</th>\n",
       "      <th>location</th>\n",
       "      <th>no_of_review</th>\n",
       "      <th>job_summary</th>\n",
       "      <th>salary_high_tier</th>\n",
       "      <th>annual_salary</th>\n",
       "    </tr>\n",
       "  </thead>\n",
       "  <tbody>\n",
       "    <tr>\n",
       "      <th>34</th>\n",
       "      <td>jl_363b5a67f5822e9e</td>\n",
       "      <td>fulltime</td>\n",
       "      <td>analytics</td>\n",
       "      <td>15</td>\n",
       "      <td>team support apprentice</td>\n",
       "      <td>whitehat training</td>\n",
       "      <td>london ec2a</td>\n",
       "      <td>0</td>\n",
       "      <td>document/information management control data a...</td>\n",
       "      <td>1</td>\n",
       "      <td>140160000</td>\n",
       "    </tr>\n",
       "  </tbody>\n",
       "</table>\n",
       "</div>"
      ],
      "text/plain": [
       "                 job_id job_types    job_tag  post_time  \\\n",
       "34  jl_363b5a67f5822e9e  fulltime  analytics         15   \n",
       "\n",
       "                  job_title            company     location  no_of_review  \\\n",
       "34  team support apprentice  whitehat training  london ec2a             0   \n",
       "\n",
       "                                          job_summary  salary_high_tier  \\\n",
       "34  document/information management control data a...                 1   \n",
       "\n",
       "    annual_salary  \n",
       "34      140160000  "
      ]
     },
     "execution_count": 95,
     "metadata": {},
     "output_type": "execute_result"
    }
   ],
   "source": [
    "df_salary_mod[df_salary_mod['annual_salary']==140160000]"
   ]
  },
  {
   "cell_type": "code",
   "execution_count": 96,
   "metadata": {},
   "outputs": [
    {
     "data": {
      "text/html": [
       "<div>\n",
       "<style scoped>\n",
       "    .dataframe tbody tr th:only-of-type {\n",
       "        vertical-align: middle;\n",
       "    }\n",
       "\n",
       "    .dataframe tbody tr th {\n",
       "        vertical-align: top;\n",
       "    }\n",
       "\n",
       "    .dataframe thead th {\n",
       "        text-align: right;\n",
       "    }\n",
       "</style>\n",
       "<table border=\"1\" class=\"dataframe\">\n",
       "  <thead>\n",
       "    <tr style=\"text-align: right;\">\n",
       "      <th></th>\n",
       "      <th>job_id</th>\n",
       "      <th>job_types</th>\n",
       "      <th>job_tag</th>\n",
       "      <th>post_time</th>\n",
       "      <th>job_title</th>\n",
       "      <th>company</th>\n",
       "      <th>location</th>\n",
       "      <th>no_of_review</th>\n",
       "      <th>job_summary</th>\n",
       "      <th>salary_high_tier</th>\n",
       "      <th>annual_salary</th>\n",
       "    </tr>\n",
       "  </thead>\n",
       "  <tbody>\n",
       "    <tr>\n",
       "      <th>34</th>\n",
       "      <td>jl_363b5a67f5822e9e</td>\n",
       "      <td>fulltime</td>\n",
       "      <td>analytics</td>\n",
       "      <td>15</td>\n",
       "      <td>team support apprentice</td>\n",
       "      <td>whitehat training</td>\n",
       "      <td>london ec2a</td>\n",
       "      <td>0</td>\n",
       "      <td>document/information management control data a...</td>\n",
       "      <td>1</td>\n",
       "      <td>140160000</td>\n",
       "    </tr>\n",
       "    <tr>\n",
       "      <th>1795</th>\n",
       "      <td>jl_006e1da6841037e9</td>\n",
       "      <td>fulltime</td>\n",
       "      <td>data_engineer</td>\n",
       "      <td>23</td>\n",
       "      <td>software engineering apprenticeship</td>\n",
       "      <td>whitehat training</td>\n",
       "      <td>london nw1</td>\n",
       "      <td>0</td>\n",
       "      <td>collaborate with other engineers, product mana...</td>\n",
       "      <td>0</td>\n",
       "      <td>18500</td>\n",
       "    </tr>\n",
       "  </tbody>\n",
       "</table>\n",
       "</div>"
      ],
      "text/plain": [
       "                   job_id job_types        job_tag  post_time  \\\n",
       "34    jl_363b5a67f5822e9e  fulltime      analytics         15   \n",
       "1795  jl_006e1da6841037e9  fulltime  data_engineer         23   \n",
       "\n",
       "                                job_title            company     location  \\\n",
       "34                team support apprentice  whitehat training  london ec2a   \n",
       "1795  software engineering apprenticeship  whitehat training   london nw1   \n",
       "\n",
       "      no_of_review                                        job_summary  \\\n",
       "34               0  document/information management control data a...   \n",
       "1795             0  collaborate with other engineers, product mana...   \n",
       "\n",
       "      salary_high_tier  annual_salary  \n",
       "34                   1      140160000  \n",
       "1795                 0          18500  "
      ]
     },
     "execution_count": 96,
     "metadata": {},
     "output_type": "execute_result"
    }
   ],
   "source": [
    "df_salary_mod[df_salary_mod['company']=='whitehat training']"
   ]
  },
  {
   "cell_type": "markdown",
   "metadata": {},
   "source": [
    "Reduce it to the same scale as the other post. "
   ]
  },
  {
   "cell_type": "code",
   "execution_count": 100,
   "metadata": {},
   "outputs": [],
   "source": [
    "df_salary_mod.iloc[34,-1]=14016"
   ]
  },
  {
   "cell_type": "code",
   "execution_count": 101,
   "metadata": {},
   "outputs": [
    {
     "data": {
      "text/html": [
       "<div>\n",
       "<style scoped>\n",
       "    .dataframe tbody tr th:only-of-type {\n",
       "        vertical-align: middle;\n",
       "    }\n",
       "\n",
       "    .dataframe tbody tr th {\n",
       "        vertical-align: top;\n",
       "    }\n",
       "\n",
       "    .dataframe thead th {\n",
       "        text-align: right;\n",
       "    }\n",
       "</style>\n",
       "<table border=\"1\" class=\"dataframe\">\n",
       "  <thead>\n",
       "    <tr style=\"text-align: right;\">\n",
       "      <th></th>\n",
       "      <th>job_id</th>\n",
       "      <th>job_types</th>\n",
       "      <th>job_tag</th>\n",
       "      <th>post_time</th>\n",
       "      <th>job_title</th>\n",
       "      <th>company</th>\n",
       "      <th>location</th>\n",
       "      <th>no_of_review</th>\n",
       "      <th>job_summary</th>\n",
       "      <th>salary_high_tier</th>\n",
       "      <th>annual_salary</th>\n",
       "    </tr>\n",
       "  </thead>\n",
       "  <tbody>\n",
       "    <tr>\n",
       "      <th>34</th>\n",
       "      <td>jl_363b5a67f5822e9e</td>\n",
       "      <td>fulltime</td>\n",
       "      <td>analytics</td>\n",
       "      <td>15</td>\n",
       "      <td>team support apprentice</td>\n",
       "      <td>whitehat training</td>\n",
       "      <td>london ec2a</td>\n",
       "      <td>0</td>\n",
       "      <td>document/information management control data a...</td>\n",
       "      <td>1</td>\n",
       "      <td>14016</td>\n",
       "    </tr>\n",
       "    <tr>\n",
       "      <th>1795</th>\n",
       "      <td>jl_006e1da6841037e9</td>\n",
       "      <td>fulltime</td>\n",
       "      <td>data_engineer</td>\n",
       "      <td>23</td>\n",
       "      <td>software engineering apprenticeship</td>\n",
       "      <td>whitehat training</td>\n",
       "      <td>london nw1</td>\n",
       "      <td>0</td>\n",
       "      <td>collaborate with other engineers, product mana...</td>\n",
       "      <td>0</td>\n",
       "      <td>18500</td>\n",
       "    </tr>\n",
       "  </tbody>\n",
       "</table>\n",
       "</div>"
      ],
      "text/plain": [
       "                   job_id job_types        job_tag  post_time  \\\n",
       "34    jl_363b5a67f5822e9e  fulltime      analytics         15   \n",
       "1795  jl_006e1da6841037e9  fulltime  data_engineer         23   \n",
       "\n",
       "                                job_title            company     location  \\\n",
       "34                team support apprentice  whitehat training  london ec2a   \n",
       "1795  software engineering apprenticeship  whitehat training   london nw1   \n",
       "\n",
       "      no_of_review                                        job_summary  \\\n",
       "34               0  document/information management control data a...   \n",
       "1795             0  collaborate with other engineers, product mana...   \n",
       "\n",
       "      salary_high_tier  annual_salary  \n",
       "34                   1          14016  \n",
       "1795                 0          18500  "
      ]
     },
     "execution_count": 101,
     "metadata": {},
     "output_type": "execute_result"
    }
   ],
   "source": [
    "df_salary_mod[df_salary_mod['company']=='whitehat training']"
   ]
  },
  {
   "cell_type": "code",
   "execution_count": 103,
   "metadata": {},
   "outputs": [],
   "source": [
    "df_salary_mod.iloc[34,-2]=0"
   ]
  },
  {
   "cell_type": "code",
   "execution_count": 102,
   "metadata": {},
   "outputs": [
    {
     "data": {
      "text/plain": [
       "<matplotlib.axes._subplots.AxesSubplot at 0x1bc822ea3c8>"
      ]
     },
     "execution_count": 102,
     "metadata": {},
     "output_type": "execute_result"
    },
    {
     "data": {
      "image/png": "[encoded data removed]",
      "text/plain": [
       "<Figure size 720x576 with 1 Axes>"
      ]
     },
     "metadata": {},
     "output_type": "display_data"
    }
   ],
   "source": [
    "f, ax=plt.subplots(figsize=(10,8))\n",
    "sns.scatterplot(x='no_of_review',y='annual_salary',data=df_salary_mod)"
   ]
  },
  {
   "cell_type": "code",
   "execution_count": 109,
   "metadata": {},
   "outputs": [
    {
     "data": {
      "text/plain": [
       "1713    40374840\n",
       "354     37011000\n",
       "979     28540080\n",
       "1027    28540080\n",
       "1768    26306280\n",
       "2410    14874480\n",
       "2301    11826000\n",
       "624     11212800\n",
       "754     10319280\n",
       "1330     9320640\n",
       "2534     9154200\n",
       "613      8952720\n",
       "1175     8882640\n",
       "2449     8760000\n",
       "441      7884000\n",
       "2610     7244520\n",
       "2623      363540\n",
       "1856      328500\n",
       "990       280320\n",
       "1323      219000\n",
       "1892      200750\n",
       "1616      200750\n",
       "315       191625\n",
       "1345      187062\n",
       "1868      182682\n",
       "830       182500\n",
       "1847      182500\n",
       "1873      180000\n",
       "2035      151475\n",
       "2090      150000\n",
       "638       146000\n",
       "2072      145000\n",
       "2780      140000\n",
       "1165      140000\n",
       "240       140000\n",
       "997       137500\n",
       "1267      136875\n",
       "419       135000\n",
       "650       133225\n",
       "1447      127750\n",
       "384       125000\n",
       "119       122640\n",
       "1119      120000\n",
       "370       120000\n",
       "178       115000\n",
       "1099      115000\n",
       "1030      110000\n",
       "2540      110000\n",
       "337       110000\n",
       "408       110000\n",
       "Name: annual_salary, dtype: int32"
      ]
     },
     "execution_count": 109,
     "metadata": {},
     "output_type": "execute_result"
    }
   ],
   "source": [
    "df_salary_mod['annual_salary'].sort_values(ascending=False).head(50)"
   ]
  },
  {
   "cell_type": "code",
   "execution_count": 110,
   "metadata": {},
   "outputs": [],
   "source": [
    "outliers=df_salary_mod[df_salary_mod['annual_salary']>=7244520]"
   ]
  },
  {
   "cell_type": "code",
   "execution_count": 112,
   "metadata": {},
   "outputs": [],
   "source": [
    "#drop the extremely high salaries\n",
    "df_salary_mod.drop(outliers.index,inplace=True)"
   ]
  },
  {
   "cell_type": "code",
   "execution_count": 113,
   "metadata": {},
   "outputs": [
    {
     "data": {
      "text/plain": [
       "<matplotlib.axes._subplots.AxesSubplot at 0x1bc82330780>"
      ]
     },
     "execution_count": 113,
     "metadata": {},
     "output_type": "execute_result"
    },
    {
     "data": {
      "image/png": "[encoded data removed]",
      "text/plain": [
       "<Figure size 720x576 with 1 Axes>"
      ]
     },
     "metadata": {},
     "output_type": "display_data"
    }
   ],
   "source": [
    "f, ax=plt.subplots(figsize=(10,8))\n",
    "sns.scatterplot(x='no_of_review',y='annual_salary',data=df_salary_mod)"
   ]
  },
  {
   "cell_type": "markdown",
   "metadata": {},
   "source": [
    "Although dropped the number of reviews, it seem there are still no clear relationship. It seems there is no relationship between number of reviews and the salary."
   ]
  },
  {
   "cell_type": "code",
   "execution_count": 114,
   "metadata": {},
   "outputs": [
    {
     "data": {
      "text/plain": [
       "0    1427\n",
       "1    1405\n",
       "Name: salary_high_tier, dtype: int64"
      ]
     },
     "execution_count": 114,
     "metadata": {},
     "output_type": "execute_result"
    }
   ],
   "source": [
    "df_salary_mod['salary_high_tier'].value_counts()"
   ]
  },
  {
   "cell_type": "markdown",
   "metadata": {},
   "source": [
    "We now need to reasign the higher tier as we removed the outliers."
   ]
  },
  {
   "cell_type": "code",
   "execution_count": 117,
   "metadata": {},
   "outputs": [
    {
     "data": {
      "text/plain": [
       "38131.0"
      ]
     },
     "execution_count": 117,
     "metadata": {},
     "output_type": "execute_result"
    }
   ],
   "source": [
    "median_num=df_salary_mod['annual_salary'].median()\n",
    "median_num"
   ]
  },
  {
   "cell_type": "code",
   "execution_count": 116,
   "metadata": {},
   "outputs": [
    {
     "data": {
      "text/plain": [
       "<matplotlib.axes._subplots.AxesSubplot at 0x1bc82742668>"
      ]
     },
     "execution_count": 116,
     "metadata": {},
     "output_type": "execute_result"
    },
    {
     "data": {
      "image/png": "[encoded data removed]",
      "text/plain": [
       "<Figure size 432x288 with 1 Axes>"
      ]
     },
     "metadata": {},
     "output_type": "display_data"
    }
   ],
   "source": [
    "df_salary_mod['annual_salary'].plot(kind='box')"
   ]
  },
  {
   "cell_type": "markdown",
   "metadata": {},
   "source": [
    "It seems there are quite a number of outliers. However, it is challenging to deal with it."
   ]
  },
  {
   "cell_type": "code",
   "execution_count": 119,
   "metadata": {},
   "outputs": [],
   "source": [
    "df_salary_mod['salary_higher_tier_2']=df_salary_mod['annual_salary'].apply(lambda x:1 if x>median_num else 0)"
   ]
  },
  {
   "cell_type": "code",
   "execution_count": 120,
   "metadata": {},
   "outputs": [
    {
     "data": {
      "text/html": [
       "<div>\n",
       "<style scoped>\n",
       "    .dataframe tbody tr th:only-of-type {\n",
       "        vertical-align: middle;\n",
       "    }\n",
       "\n",
       "    .dataframe tbody tr th {\n",
       "        vertical-align: top;\n",
       "    }\n",
       "\n",
       "    .dataframe thead th {\n",
       "        text-align: right;\n",
       "    }\n",
       "</style>\n",
       "<table border=\"1\" class=\"dataframe\">\n",
       "  <thead>\n",
       "    <tr style=\"text-align: right;\">\n",
       "      <th></th>\n",
       "      <th>job_id</th>\n",
       "      <th>job_types</th>\n",
       "      <th>job_tag</th>\n",
       "      <th>post_time</th>\n",
       "      <th>job_title</th>\n",
       "      <th>company</th>\n",
       "      <th>location</th>\n",
       "      <th>no_of_review</th>\n",
       "      <th>job_summary</th>\n",
       "      <th>salary_high_tier</th>\n",
       "      <th>annual_salary</th>\n",
       "      <th>salary_higher_tier_2</th>\n",
       "    </tr>\n",
       "  </thead>\n",
       "  <tbody>\n",
       "    <tr>\n",
       "      <th>0</th>\n",
       "      <td>jl_719d91b70ae97f1c</td>\n",
       "      <td>fulltime</td>\n",
       "      <td>analytics</td>\n",
       "      <td>1</td>\n",
       "      <td>head of performance  analytics</td>\n",
       "      <td>barnet clinical commissioning group</td>\n",
       "      <td>barnet</td>\n",
       "      <td>0</td>\n",
       "      <td>reporting to the director of qipp, planning an...</td>\n",
       "      <td>1</td>\n",
       "      <td>69830</td>\n",
       "      <td>1</td>\n",
       "    </tr>\n",
       "    <tr>\n",
       "      <th>1</th>\n",
       "      <td>jl_cee98ab894ae35fa</td>\n",
       "      <td>fulltime</td>\n",
       "      <td>analytics</td>\n",
       "      <td>2</td>\n",
       "      <td>reporting analytics manager</td>\n",
       "      <td>homes england</td>\n",
       "      <td>birmingham b3</td>\n",
       "      <td>2</td>\n",
       "      <td>the reporting and analytics manager will repor...</td>\n",
       "      <td>1</td>\n",
       "      <td>44440</td>\n",
       "      <td>1</td>\n",
       "    </tr>\n",
       "    <tr>\n",
       "      <th>2</th>\n",
       "      <td>jl_cf231c48d7af807d</td>\n",
       "      <td>fulltime</td>\n",
       "      <td>analytics</td>\n",
       "      <td>8</td>\n",
       "      <td>contracting analytics specialist</td>\n",
       "      <td>nel</td>\n",
       "      <td>london se1</td>\n",
       "      <td>7</td>\n",
       "      <td>we are looking for an enthusiastic, experience...</td>\n",
       "      <td>1</td>\n",
       "      <td>44785</td>\n",
       "      <td>1</td>\n",
       "    </tr>\n",
       "    <tr>\n",
       "      <th>3</th>\n",
       "      <td>jl_93d5326817f2029b</td>\n",
       "      <td>fulltime</td>\n",
       "      <td>analytics</td>\n",
       "      <td>22</td>\n",
       "      <td>assistant director of analytics deputy cio</td>\n",
       "      <td>east lancashire hospitals nhs trust</td>\n",
       "      <td>blackburn bb2</td>\n",
       "      <td>13</td>\n",
       "      <td>the directorate is looking to employ an assist...</td>\n",
       "      <td>1</td>\n",
       "      <td>77769</td>\n",
       "      <td>1</td>\n",
       "    </tr>\n",
       "    <tr>\n",
       "      <th>4</th>\n",
       "      <td>jl_9bf799089eefea91</td>\n",
       "      <td>fulltime</td>\n",
       "      <td>analytics</td>\n",
       "      <td>6</td>\n",
       "      <td>business support officer</td>\n",
       "      <td>nhs england</td>\n",
       "      <td>leeds ls2</td>\n",
       "      <td>4005</td>\n",
       "      <td>we are particularly interested, across these r...</td>\n",
       "      <td>0</td>\n",
       "      <td>26315</td>\n",
       "      <td>0</td>\n",
       "    </tr>\n",
       "    <tr>\n",
       "      <th>5</th>\n",
       "      <td>jl_59af1463838f3be9</td>\n",
       "      <td>fulltime</td>\n",
       "      <td>analytics</td>\n",
       "      <td>28</td>\n",
       "      <td>research assistant in holoscopic d imaging and...</td>\n",
       "      <td>brunel university</td>\n",
       "      <td>uxbridge</td>\n",
       "      <td>60</td>\n",
       "      <td>this involves low-level visual media analysis ...</td>\n",
       "      <td>0</td>\n",
       "      <td>36728</td>\n",
       "      <td>0</td>\n",
       "    </tr>\n",
       "    <tr>\n",
       "      <th>6</th>\n",
       "      <td>jl_d9fd8c914a29b393</td>\n",
       "      <td>fulltime</td>\n",
       "      <td>analytics</td>\n",
       "      <td>1</td>\n",
       "      <td>research fellow  real estate urban informatics...</td>\n",
       "      <td>oxford brookes university</td>\n",
       "      <td>oxford</td>\n",
       "      <td>70</td>\n",
       "      <td>to email the post of research fellow - real es...</td>\n",
       "      <td>0</td>\n",
       "      <td>31302</td>\n",
       "      <td>0</td>\n",
       "    </tr>\n",
       "    <tr>\n",
       "      <th>7</th>\n",
       "      <td>jl_0f3be053e7ae782d</td>\n",
       "      <td>fulltime</td>\n",
       "      <td>analytics</td>\n",
       "      <td>39</td>\n",
       "      <td>month placement  it  data analytics july</td>\n",
       "      <td>bmw</td>\n",
       "      <td>oxfordshire</td>\n",
       "      <td>2057</td>\n",
       "      <td>&lt;br&gt;&lt;br&gt;we are currently seeking a student wit...</td>\n",
       "      <td>0</td>\n",
       "      <td>17500</td>\n",
       "      <td>0</td>\n",
       "    </tr>\n",
       "    <tr>\n",
       "      <th>8</th>\n",
       "      <td>jl_5873a76350c2f1ef</td>\n",
       "      <td>fulltime</td>\n",
       "      <td>analytics</td>\n",
       "      <td>7</td>\n",
       "      <td>business intelligence officer</td>\n",
       "      <td>central and north west london nhs foundation t...</td>\n",
       "      <td>london nw1</td>\n",
       "      <td>16</td>\n",
       "      <td>as a business intelligence officer you will be...</td>\n",
       "      <td>0</td>\n",
       "      <td>34305</td>\n",
       "      <td>0</td>\n",
       "    </tr>\n",
       "    <tr>\n",
       "      <th>9</th>\n",
       "      <td>jl_500e1d5f202379f6</td>\n",
       "      <td>fulltime</td>\n",
       "      <td>analytics</td>\n",
       "      <td>1</td>\n",
       "      <td>finance assistant</td>\n",
       "      <td>nhs herts valleys clinical commissioning group</td>\n",
       "      <td>hemel hempstead hp2</td>\n",
       "      <td>4005</td>\n",
       "      <td>they will contribute to preparatory work on mo...</td>\n",
       "      <td>0</td>\n",
       "      <td>21756</td>\n",
       "      <td>0</td>\n",
       "    </tr>\n",
       "    <tr>\n",
       "      <th>10</th>\n",
       "      <td>jl_17b9c20525ad5a47</td>\n",
       "      <td>fulltime</td>\n",
       "      <td>analytics</td>\n",
       "      <td>1</td>\n",
       "      <td>biomedical support worker  chemical pathology</td>\n",
       "      <td>homerton university hospital nhs foundation trust</td>\n",
       "      <td>london e9</td>\n",
       "      <td>9</td>\n",
       "      <td>the homerton is an innovative and friendly fou...</td>\n",
       "      <td>0</td>\n",
       "      <td>22407</td>\n",
       "      <td>0</td>\n",
       "    </tr>\n",
       "    <tr>\n",
       "      <th>11</th>\n",
       "      <td>jl_6b8942012bd01c63</td>\n",
       "      <td>fulltime</td>\n",
       "      <td>analytics</td>\n",
       "      <td>2</td>\n",
       "      <td>research and data analyst</td>\n",
       "      <td>office of qualifications and examinations regu...</td>\n",
       "      <td>coventry cv1</td>\n",
       "      <td>0</td>\n",
       "      <td> working with other directorates in the organ...</td>\n",
       "      <td>0</td>\n",
       "      <td>33770</td>\n",
       "      <td>0</td>\n",
       "    </tr>\n",
       "    <tr>\n",
       "      <th>12</th>\n",
       "      <td>jl_f0dc6d793da061de</td>\n",
       "      <td>fulltime</td>\n",
       "      <td>analytics</td>\n",
       "      <td>17</td>\n",
       "      <td>research associate</td>\n",
       "      <td>imperial college london</td>\n",
       "      <td>hammersmith</td>\n",
       "      <td>116</td>\n",
       "      <td>in particular, applicants must hold a phd or e...</td>\n",
       "      <td>1</td>\n",
       "      <td>39449</td>\n",
       "      <td>1</td>\n",
       "    </tr>\n",
       "    <tr>\n",
       "      <th>13</th>\n",
       "      <td>jl_83000d212c1484ce</td>\n",
       "      <td>fulltime</td>\n",
       "      <td>analytics</td>\n",
       "      <td>39</td>\n",
       "      <td>head of analytics</td>\n",
       "      <td>post office ltd</td>\n",
       "      <td>london</td>\n",
       "      <td>273</td>\n",
       "      <td>director of mi, data strategy &amp; analytics. up ...</td>\n",
       "      <td>1</td>\n",
       "      <td>75000</td>\n",
       "      <td>1</td>\n",
       "    </tr>\n",
       "    <tr>\n",
       "      <th>14</th>\n",
       "      <td>jl_6c40f151a07c19fc</td>\n",
       "      <td>fulltime</td>\n",
       "      <td>analytics</td>\n",
       "      <td>2</td>\n",
       "      <td>research assistant ftc  months</td>\n",
       "      <td>office of qualifications and examinations regu...</td>\n",
       "      <td>coventry cv1</td>\n",
       "      <td>0</td>\n",
       "      <td>this post will sit within a newly created data...</td>\n",
       "      <td>0</td>\n",
       "      <td>33770</td>\n",
       "      <td>0</td>\n",
       "    </tr>\n",
       "    <tr>\n",
       "      <th>15</th>\n",
       "      <td>jl_e31e4e2ba51b5026</td>\n",
       "      <td>fulltime</td>\n",
       "      <td>analytics</td>\n",
       "      <td>19</td>\n",
       "      <td>customer performance analyst</td>\n",
       "      <td>london borough of barking and dagenham</td>\n",
       "      <td>barking</td>\n",
       "      <td>36</td>\n",
       "      <td>the ideal candidate should have a practical ex...</td>\n",
       "      <td>0</td>\n",
       "      <td>37492</td>\n",
       "      <td>0</td>\n",
       "    </tr>\n",
       "    <tr>\n",
       "      <th>16</th>\n",
       "      <td>jl_e7af33f4427cbc8d</td>\n",
       "      <td>fulltime</td>\n",
       "      <td>analytics</td>\n",
       "      <td>23</td>\n",
       "      <td>national centre for geospatial intelligence ba...</td>\n",
       "      <td>ministry of defence</td>\n",
       "      <td>huntingdon pe28</td>\n",
       "      <td>405</td>\n",
       "      <td> provide professional advice and guidance on ...</td>\n",
       "      <td>0</td>\n",
       "      <td>25383</td>\n",
       "      <td>0</td>\n",
       "    </tr>\n",
       "    <tr>\n",
       "      <th>17</th>\n",
       "      <td>jl_b049ab6c457e9e20</td>\n",
       "      <td>fulltime</td>\n",
       "      <td>analytics</td>\n",
       "      <td>9</td>\n",
       "      <td>communications officer</td>\n",
       "      <td>ministry of defence</td>\n",
       "      <td>london sw1a</td>\n",
       "      <td>405</td>\n",
       "      <td>undertake user research, evaluate analytics et...</td>\n",
       "      <td>0</td>\n",
       "      <td>32970</td>\n",
       "      <td>0</td>\n",
       "    </tr>\n",
       "    <tr>\n",
       "      <th>18</th>\n",
       "      <td>jl_f227391af4621e53</td>\n",
       "      <td>fulltime</td>\n",
       "      <td>analytics</td>\n",
       "      <td>39</td>\n",
       "      <td>oracle analytics consultant</td>\n",
       "      <td>accenture</td>\n",
       "      <td>united kingdom</td>\n",
       "      <td>14997</td>\n",
       "      <td>oracle business intelligence applications (obi...</td>\n",
       "      <td>1</td>\n",
       "      <td>56000</td>\n",
       "      <td>1</td>\n",
       "    </tr>\n",
       "    <tr>\n",
       "      <th>19</th>\n",
       "      <td>jl_f476bdf8e8b59b72</td>\n",
       "      <td>fulltime</td>\n",
       "      <td>analytics</td>\n",
       "      <td>39</td>\n",
       "      <td>artificial intelligence analytics manager</td>\n",
       "      <td>accenture</td>\n",
       "      <td>united kingdom</td>\n",
       "      <td>14997</td>\n",
       "      <td>should be enthusiastic to learn and use apis (...</td>\n",
       "      <td>1</td>\n",
       "      <td>79000</td>\n",
       "      <td>1</td>\n",
       "    </tr>\n",
       "    <tr>\n",
       "      <th>20</th>\n",
       "      <td>jl_05ccb637667bebac</td>\n",
       "      <td>fulltime</td>\n",
       "      <td>analytics</td>\n",
       "      <td>24</td>\n",
       "      <td>customer insight graduate</td>\n",
       "      <td>centrica</td>\n",
       "      <td>staines-upon-thames tw18</td>\n",
       "      <td>1087</td>\n",
       "      <td>join us, as a customer insight graduate, and y...</td>\n",
       "      <td>0</td>\n",
       "      <td>27000</td>\n",
       "      <td>0</td>\n",
       "    </tr>\n",
       "    <tr>\n",
       "      <th>21</th>\n",
       "      <td>jl_54ba3d330e6fc120</td>\n",
       "      <td>fulltime</td>\n",
       "      <td>analytics</td>\n",
       "      <td>5</td>\n",
       "      <td>ktp associate  datactics</td>\n",
       "      <td>university of ulster</td>\n",
       "      <td>jordanstown</td>\n",
       "      <td>25</td>\n",
       "      <td>work with university experts and develop marke...</td>\n",
       "      <td>0</td>\n",
       "      <td>28000</td>\n",
       "      <td>0</td>\n",
       "    </tr>\n",
       "    <tr>\n",
       "      <th>22</th>\n",
       "      <td>jl_1770263571983e65</td>\n",
       "      <td>fulltime</td>\n",
       "      <td>analytics</td>\n",
       "      <td>39</td>\n",
       "      <td>rollsroyce motor cars   month placement  data ...</td>\n",
       "      <td>bmw</td>\n",
       "      <td>goodwood</td>\n",
       "      <td>2057</td>\n",
       "      <td>as a student, you will have hands on experienc...</td>\n",
       "      <td>0</td>\n",
       "      <td>17500</td>\n",
       "      <td>0</td>\n",
       "    </tr>\n",
       "    <tr>\n",
       "      <th>23</th>\n",
       "      <td>jl_6a6426ab72911fe3</td>\n",
       "      <td>fulltime</td>\n",
       "      <td>analytics</td>\n",
       "      <td>39</td>\n",
       "      <td>ecommerce analyst  web analytics</td>\n",
       "      <td>sports direct</td>\n",
       "      <td>nottingham</td>\n",
       "      <td>2657</td>\n",
       "      <td>ecommerce analyst - web analytics. salary â£26...</td>\n",
       "      <td>0</td>\n",
       "      <td>28000</td>\n",
       "      <td>0</td>\n",
       "    </tr>\n",
       "    <tr>\n",
       "      <th>24</th>\n",
       "      <td>jl_4650447530c1df4d</td>\n",
       "      <td>fulltime</td>\n",
       "      <td>analytics</td>\n",
       "      <td>3</td>\n",
       "      <td>corporate information analyst</td>\n",
       "      <td>university hospitals of morecambe bay nhs foun...</td>\n",
       "      <td>lancaster la1</td>\n",
       "      <td>0</td>\n",
       "      <td>you will work with raw data from hospital syst...</td>\n",
       "      <td>0</td>\n",
       "      <td>26315</td>\n",
       "      <td>0</td>\n",
       "    </tr>\n",
       "    <tr>\n",
       "      <th>25</th>\n",
       "      <td>jl_3b3d1262d4b5bc3c</td>\n",
       "      <td>fulltime</td>\n",
       "      <td>analytics</td>\n",
       "      <td>39</td>\n",
       "      <td>oracle analytics manager</td>\n",
       "      <td>accenture</td>\n",
       "      <td>united kingdom</td>\n",
       "      <td>14997</td>\n",
       "      <td>oracle business intelligence applications (obi...</td>\n",
       "      <td>1</td>\n",
       "      <td>78500</td>\n",
       "      <td>1</td>\n",
       "    </tr>\n",
       "    <tr>\n",
       "      <th>26</th>\n",
       "      <td>jl_3e5cb725234f4288</td>\n",
       "      <td>fulltime</td>\n",
       "      <td>analytics</td>\n",
       "      <td>1</td>\n",
       "      <td>systems analyst web</td>\n",
       "      <td>derbyshire healthcare nhs foundation trust</td>\n",
       "      <td>derby de22</td>\n",
       "      <td>6</td>\n",
       "      <td>as a member of the data warehouse, integration...</td>\n",
       "      <td>0</td>\n",
       "      <td>26315</td>\n",
       "      <td>0</td>\n",
       "    </tr>\n",
       "    <tr>\n",
       "      <th>27</th>\n",
       "      <td>jl_cbeda8d671dc18c0</td>\n",
       "      <td>fulltime</td>\n",
       "      <td>analytics</td>\n",
       "      <td>2</td>\n",
       "      <td>digital communications officer</td>\n",
       "      <td>sense</td>\n",
       "      <td>king's cross</td>\n",
       "      <td>279</td>\n",
       "      <td>this will include day to day maintenance of th...</td>\n",
       "      <td>0</td>\n",
       "      <td>29204</td>\n",
       "      <td>0</td>\n",
       "    </tr>\n",
       "    <tr>\n",
       "      <th>28</th>\n",
       "      <td>jl_5ca8ee1570ccd719</td>\n",
       "      <td>fulltime</td>\n",
       "      <td>analytics</td>\n",
       "      <td>39</td>\n",
       "      <td>sap analytics consultant</td>\n",
       "      <td>accenture</td>\n",
       "      <td>united kingdom</td>\n",
       "      <td>14997</td>\n",
       "      <td>providing advisory services and thought leader...</td>\n",
       "      <td>1</td>\n",
       "      <td>56000</td>\n",
       "      <td>1</td>\n",
       "    </tr>\n",
       "    <tr>\n",
       "      <th>29</th>\n",
       "      <td>jl_229b158d95d7601a</td>\n",
       "      <td>fulltime</td>\n",
       "      <td>analytics</td>\n",
       "      <td>21</td>\n",
       "      <td>full time funded phd studentship</td>\n",
       "      <td>the open university uk</td>\n",
       "      <td>milton keynes</td>\n",
       "      <td>0</td>\n",
       "      <td>web-scale research analytics for identifying h...</td>\n",
       "      <td>0</td>\n",
       "      <td>24070</td>\n",
       "      <td>0</td>\n",
       "    </tr>\n",
       "    <tr>\n",
       "      <th>...</th>\n",
       "      <td>...</td>\n",
       "      <td>...</td>\n",
       "      <td>...</td>\n",
       "      <td>...</td>\n",
       "      <td>...</td>\n",
       "      <td>...</td>\n",
       "      <td>...</td>\n",
       "      <td>...</td>\n",
       "      <td>...</td>\n",
       "      <td>...</td>\n",
       "      <td>...</td>\n",
       "      <td>...</td>\n",
       "    </tr>\n",
       "    <tr>\n",
       "      <th>2818</th>\n",
       "      <td>jl_58b54ed980aa53d3</td>\n",
       "      <td>permanent</td>\n",
       "      <td>research_scientist</td>\n",
       "      <td>39</td>\n",
       "      <td>computer vision scientistsoftware engineer</td>\n",
       "      <td>re&amp;m</td>\n",
       "      <td>home counties</td>\n",
       "      <td>0</td>\n",
       "      <td>you will be involved in the research and devel...</td>\n",
       "      <td>1</td>\n",
       "      <td>45000</td>\n",
       "      <td>1</td>\n",
       "    </tr>\n",
       "    <tr>\n",
       "      <th>2819</th>\n",
       "      <td>jl_68fc23bfc2583bed</td>\n",
       "      <td>permanent</td>\n",
       "      <td>research_scientist</td>\n",
       "      <td>39</td>\n",
       "      <td>senior development chemist</td>\n",
       "      <td>bluebolt recruitment</td>\n",
       "      <td>thetford</td>\n",
       "      <td>0</td>\n",
       "      <td>consumer healthcare personal care cosmetic per...</td>\n",
       "      <td>0</td>\n",
       "      <td>35000</td>\n",
       "      <td>0</td>\n",
       "    </tr>\n",
       "    <tr>\n",
       "      <th>2820</th>\n",
       "      <td>jl_de76b9ed85879300</td>\n",
       "      <td>permanent</td>\n",
       "      <td>research_scientist</td>\n",
       "      <td>39</td>\n",
       "      <td>data scientist</td>\n",
       "      <td>inspiring interns</td>\n",
       "      <td>manchester</td>\n",
       "      <td>4</td>\n",
       "      <td>or master’s degree in a relevant research area...</td>\n",
       "      <td>0</td>\n",
       "      <td>30000</td>\n",
       "      <td>0</td>\n",
       "    </tr>\n",
       "    <tr>\n",
       "      <th>2821</th>\n",
       "      <td>jl_25a717a04bdded69</td>\n",
       "      <td>permanent</td>\n",
       "      <td>research_scientist</td>\n",
       "      <td>8</td>\n",
       "      <td>economistanalyst  london</td>\n",
       "      <td>additional resources</td>\n",
       "      <td>greater london</td>\n",
       "      <td>0</td>\n",
       "      <td>they are a firm of expert economists, statisti...</td>\n",
       "      <td>0</td>\n",
       "      <td>35000</td>\n",
       "      <td>0</td>\n",
       "    </tr>\n",
       "    <tr>\n",
       "      <th>2822</th>\n",
       "      <td>jl_aaa176576c5fdb28</td>\n",
       "      <td>permanent</td>\n",
       "      <td>research_scientist</td>\n",
       "      <td>22</td>\n",
       "      <td>graduate software phdbsc physicist mathematic</td>\n",
       "      <td>re&amp;m</td>\n",
       "      <td>south east</td>\n",
       "      <td>0</td>\n",
       "      <td>graduate software engineers will be developing...</td>\n",
       "      <td>0</td>\n",
       "      <td>30000</td>\n",
       "      <td>0</td>\n",
       "    </tr>\n",
       "    <tr>\n",
       "      <th>2823</th>\n",
       "      <td>jl_d276f28901455dd4</td>\n",
       "      <td>permanent</td>\n",
       "      <td>research_scientist</td>\n",
       "      <td>39</td>\n",
       "      <td>fibre fabrication engineers  scientists all leve</td>\n",
       "      <td>re&amp;m</td>\n",
       "      <td>south east</td>\n",
       "      <td>0</td>\n",
       "      <td>you will be involved in the manufacture perfor...</td>\n",
       "      <td>1</td>\n",
       "      <td>45000</td>\n",
       "      <td>1</td>\n",
       "    </tr>\n",
       "    <tr>\n",
       "      <th>2824</th>\n",
       "      <td>jl_12eb2baa2680b4c5</td>\n",
       "      <td>permanent</td>\n",
       "      <td>research_scientist</td>\n",
       "      <td>39</td>\n",
       "      <td>image analysis data scientist</td>\n",
       "      <td>xist4 it recruitment</td>\n",
       "      <td>cambridgeshire</td>\n",
       "      <td>0</td>\n",
       "      <td>image analysis/data scientist - key skills:. i...</td>\n",
       "      <td>1</td>\n",
       "      <td>57500</td>\n",
       "      <td>1</td>\n",
       "    </tr>\n",
       "    <tr>\n",
       "      <th>2825</th>\n",
       "      <td>jl_d029fce6f70cdf80</td>\n",
       "      <td>permanent</td>\n",
       "      <td>research_scientist</td>\n",
       "      <td>39</td>\n",
       "      <td>senior data scientist</td>\n",
       "      <td>mcgregor boyall</td>\n",
       "      <td>london</td>\n",
       "      <td>5</td>\n",
       "      <td>an exciting opportunity has arisen for a senio...</td>\n",
       "      <td>1</td>\n",
       "      <td>70000</td>\n",
       "      <td>1</td>\n",
       "    </tr>\n",
       "    <tr>\n",
       "      <th>2826</th>\n",
       "      <td>jl_7bd3f0f659fcdd0d</td>\n",
       "      <td>permanent</td>\n",
       "      <td>research_scientist</td>\n",
       "      <td>20</td>\n",
       "      <td>lead data scientist</td>\n",
       "      <td>opus recruitment solutions</td>\n",
       "      <td>manchester</td>\n",
       "      <td>0</td>\n",
       "      <td>if you have a few years’ experience as a data ...</td>\n",
       "      <td>1</td>\n",
       "      <td>70000</td>\n",
       "      <td>1</td>\n",
       "    </tr>\n",
       "    <tr>\n",
       "      <th>2827</th>\n",
       "      <td>jl_d3b8026e8cce7715</td>\n",
       "      <td>permanent</td>\n",
       "      <td>research_scientist</td>\n",
       "      <td>13</td>\n",
       "      <td>product manager shortlist</td>\n",
       "      <td>adzuna</td>\n",
       "      <td>london</td>\n",
       "      <td>0</td>\n",
       "      <td>experience organising and running user researc...</td>\n",
       "      <td>1</td>\n",
       "      <td>45000</td>\n",
       "      <td>1</td>\n",
       "    </tr>\n",
       "    <tr>\n",
       "      <th>2828</th>\n",
       "      <td>jl_4790de8fd18ac4bf</td>\n",
       "      <td>permanent</td>\n",
       "      <td>research_scientist</td>\n",
       "      <td>4</td>\n",
       "      <td>rd ai data science computer vision software en</td>\n",
       "      <td>re&amp;m</td>\n",
       "      <td>south west</td>\n",
       "      <td>0</td>\n",
       "      <td>track record of successful research *. the res...</td>\n",
       "      <td>1</td>\n",
       "      <td>52500</td>\n",
       "      <td>1</td>\n",
       "    </tr>\n",
       "    <tr>\n",
       "      <th>2829</th>\n",
       "      <td>jl_bc1d81d9b2b52ef7</td>\n",
       "      <td>permanent</td>\n",
       "      <td>research_scientist</td>\n",
       "      <td>39</td>\n",
       "      <td>senior formulation leader</td>\n",
       "      <td>templarfox consultancy</td>\n",
       "      <td>oxford</td>\n",
       "      <td>0</td>\n",
       "      <td>as the senior formulation leader/ senior resea...</td>\n",
       "      <td>1</td>\n",
       "      <td>45000</td>\n",
       "      <td>1</td>\n",
       "    </tr>\n",
       "    <tr>\n",
       "      <th>2830</th>\n",
       "      <td>jl_8815a5d2a1173780</td>\n",
       "      <td>permanent</td>\n",
       "      <td>research_scientist</td>\n",
       "      <td>39</td>\n",
       "      <td>development technician  somerset</td>\n",
       "      <td>manufacturing recruitment ltd</td>\n",
       "      <td>somerset</td>\n",
       "      <td>0</td>\n",
       "      <td>understand and interpret scientists' requireme...</td>\n",
       "      <td>0</td>\n",
       "      <td>25000</td>\n",
       "      <td>0</td>\n",
       "    </tr>\n",
       "    <tr>\n",
       "      <th>2831</th>\n",
       "      <td>jl_1152a2cded735504</td>\n",
       "      <td>permanent</td>\n",
       "      <td>research_scientist</td>\n",
       "      <td>15</td>\n",
       "      <td>sales representative</td>\n",
       "      <td>inspiring interns</td>\n",
       "      <td>west london</td>\n",
       "      <td>4</td>\n",
       "      <td>they provide new sources of information for sc...</td>\n",
       "      <td>0</td>\n",
       "      <td>24000</td>\n",
       "      <td>0</td>\n",
       "    </tr>\n",
       "    <tr>\n",
       "      <th>2832</th>\n",
       "      <td>jl_fed932d3f2a3b624</td>\n",
       "      <td>permanent</td>\n",
       "      <td>research_scientist</td>\n",
       "      <td>7</td>\n",
       "      <td>sales development</td>\n",
       "      <td>inspiring interns</td>\n",
       "      <td>west london</td>\n",
       "      <td>4</td>\n",
       "      <td>identify and research target companies within ...</td>\n",
       "      <td>0</td>\n",
       "      <td>24000</td>\n",
       "      <td>0</td>\n",
       "    </tr>\n",
       "    <tr>\n",
       "      <th>2833</th>\n",
       "      <td>jl_beda06f2e486a757</td>\n",
       "      <td>permanent</td>\n",
       "      <td>research_scientist</td>\n",
       "      <td>39</td>\n",
       "      <td>quality specialist</td>\n",
       "      <td>scientific people</td>\n",
       "      <td>united kingdom</td>\n",
       "      <td>0</td>\n",
       "      <td>antibody analytics is a young, innovative and ...</td>\n",
       "      <td>0</td>\n",
       "      <td>32000</td>\n",
       "      <td>0</td>\n",
       "    </tr>\n",
       "    <tr>\n",
       "      <th>2834</th>\n",
       "      <td>jl_72c3539d35c954ed</td>\n",
       "      <td>permanent</td>\n",
       "      <td>research_scientist</td>\n",
       "      <td>39</td>\n",
       "      <td>clinical psychologist neuropsychologist</td>\n",
       "      <td>fieldbay</td>\n",
       "      <td>swansea</td>\n",
       "      <td>0</td>\n",
       "      <td>research and development . research, service e...</td>\n",
       "      <td>0</td>\n",
       "      <td>36741</td>\n",
       "      <td>0</td>\n",
       "    </tr>\n",
       "    <tr>\n",
       "      <th>2835</th>\n",
       "      <td>jl_cb8b921a3ffe0b2e</td>\n",
       "      <td>permanent</td>\n",
       "      <td>research_scientist</td>\n",
       "      <td>39</td>\n",
       "      <td>graduate softwarephysicsmathselectronics</td>\n",
       "      <td>re&amp;m</td>\n",
       "      <td>south east</td>\n",
       "      <td>0</td>\n",
       "      <td>graduate software engineers, electronic engine...</td>\n",
       "      <td>0</td>\n",
       "      <td>26500</td>\n",
       "      <td>0</td>\n",
       "    </tr>\n",
       "    <tr>\n",
       "      <th>2836</th>\n",
       "      <td>jl_91316f97ee588146</td>\n",
       "      <td>permanent</td>\n",
       "      <td>research_scientist</td>\n",
       "      <td>39</td>\n",
       "      <td>graduate software engineer c</td>\n",
       "      <td>re&amp;m</td>\n",
       "      <td>west midlands</td>\n",
       "      <td>0</td>\n",
       "      <td>looking to recruit graduate software engineers...</td>\n",
       "      <td>0</td>\n",
       "      <td>19000</td>\n",
       "      <td>0</td>\n",
       "    </tr>\n",
       "    <tr>\n",
       "      <th>2837</th>\n",
       "      <td>jl_e4b84149d76f1add</td>\n",
       "      <td>permanent</td>\n",
       "      <td>research_scientist</td>\n",
       "      <td>8</td>\n",
       "      <td>senior economistanalyst  london</td>\n",
       "      <td>additional resources</td>\n",
       "      <td>greater london</td>\n",
       "      <td>0</td>\n",
       "      <td>they are a firm of expert economists, statisti...</td>\n",
       "      <td>1</td>\n",
       "      <td>53500</td>\n",
       "      <td>1</td>\n",
       "    </tr>\n",
       "    <tr>\n",
       "      <th>2838</th>\n",
       "      <td>jl_f04c1e4f002f6335</td>\n",
       "      <td>permanent</td>\n",
       "      <td>research_scientist</td>\n",
       "      <td>28</td>\n",
       "      <td>senior delivery manager  data science  jid</td>\n",
       "      <td>spinwell global</td>\n",
       "      <td>taunton</td>\n",
       "      <td>0</td>\n",
       "      <td>you’ll be responsible for maintaining collabor...</td>\n",
       "      <td>1</td>\n",
       "      <td>53202</td>\n",
       "      <td>1</td>\n",
       "    </tr>\n",
       "    <tr>\n",
       "      <th>2839</th>\n",
       "      <td>jl_5df29c583944d45c</td>\n",
       "      <td>permanent</td>\n",
       "      <td>research_scientist</td>\n",
       "      <td>39</td>\n",
       "      <td>rd software engineer algorithms dsp c oxfor</td>\n",
       "      <td>re&amp;m</td>\n",
       "      <td>south east</td>\n",
       "      <td>0</td>\n",
       "      <td>r&amp;d (c++) position for a scientist or software...</td>\n",
       "      <td>1</td>\n",
       "      <td>40000</td>\n",
       "      <td>1</td>\n",
       "    </tr>\n",
       "    <tr>\n",
       "      <th>2840</th>\n",
       "      <td>jl_79797981c430ece3</td>\n",
       "      <td>permanent</td>\n",
       "      <td>research_scientist</td>\n",
       "      <td>13</td>\n",
       "      <td>information scientist  digital content deliver...</td>\n",
       "      <td>additional resources</td>\n",
       "      <td>gloucestershire</td>\n",
       "      <td>0</td>\n",
       "      <td>information scientist - digital content delive...</td>\n",
       "      <td>0</td>\n",
       "      <td>30000</td>\n",
       "      <td>0</td>\n",
       "    </tr>\n",
       "    <tr>\n",
       "      <th>2841</th>\n",
       "      <td>jl_53c306194c1b8b4c</td>\n",
       "      <td>permanent</td>\n",
       "      <td>research_scientist</td>\n",
       "      <td>39</td>\n",
       "      <td>image processing engineersoftwarealgorithm engin</td>\n",
       "      <td>re&amp;m</td>\n",
       "      <td>home counties</td>\n",
       "      <td>0</td>\n",
       "      <td>responsibilities will include research and dev...</td>\n",
       "      <td>1</td>\n",
       "      <td>40000</td>\n",
       "      <td>1</td>\n",
       "    </tr>\n",
       "    <tr>\n",
       "      <th>2842</th>\n",
       "      <td>jl_b04b7f77d1ed71a5</td>\n",
       "      <td>permanent</td>\n",
       "      <td>research_scientist</td>\n",
       "      <td>10</td>\n",
       "      <td>marketing executive</td>\n",
       "      <td>inspiring interns</td>\n",
       "      <td>south london</td>\n",
       "      <td>4</td>\n",
       "      <td>a growing medical publishing company specialis...</td>\n",
       "      <td>0</td>\n",
       "      <td>22000</td>\n",
       "      <td>0</td>\n",
       "    </tr>\n",
       "    <tr>\n",
       "      <th>2843</th>\n",
       "      <td>jl_c4ea979146ed5561</td>\n",
       "      <td>permanent</td>\n",
       "      <td>research_scientist</td>\n",
       "      <td>7</td>\n",
       "      <td>european qualityregulatory affairs manager</td>\n",
       "      <td>lica scientific ltd</td>\n",
       "      <td>bristol</td>\n",
       "      <td>0</td>\n",
       "      <td>they are a trusted manufacturer/supplier of in...</td>\n",
       "      <td>1</td>\n",
       "      <td>47500</td>\n",
       "      <td>1</td>\n",
       "    </tr>\n",
       "    <tr>\n",
       "      <th>2844</th>\n",
       "      <td>jl_0e61366b0b416df6</td>\n",
       "      <td>permanent</td>\n",
       "      <td>research_scientist</td>\n",
       "      <td>9</td>\n",
       "      <td>medical writer technical content writer</td>\n",
       "      <td>next phase recruitment limited</td>\n",
       "      <td>oxford</td>\n",
       "      <td>0</td>\n",
       "      <td>publication support – assisting scientists wit...</td>\n",
       "      <td>0</td>\n",
       "      <td>30000</td>\n",
       "      <td>0</td>\n",
       "    </tr>\n",
       "    <tr>\n",
       "      <th>2845</th>\n",
       "      <td>jl_64f3eb76c0aeaa46</td>\n",
       "      <td>permanent</td>\n",
       "      <td>research_scientist</td>\n",
       "      <td>14</td>\n",
       "      <td>lead product designer uxui</td>\n",
       "      <td>soma analytics</td>\n",
       "      <td>london</td>\n",
       "      <td>0</td>\n",
       "      <td>able to conduct user research, usability testi...</td>\n",
       "      <td>1</td>\n",
       "      <td>39000</td>\n",
       "      <td>1</td>\n",
       "    </tr>\n",
       "    <tr>\n",
       "      <th>2846</th>\n",
       "      <td>jl_8d0d48b99f01ffe9</td>\n",
       "      <td>permanent</td>\n",
       "      <td>research_scientist</td>\n",
       "      <td>21</td>\n",
       "      <td>event marketing executive</td>\n",
       "      <td>inspiring interns</td>\n",
       "      <td>west london</td>\n",
       "      <td>4</td>\n",
       "      <td>a growing medical publishing company specialis...</td>\n",
       "      <td>0</td>\n",
       "      <td>24000</td>\n",
       "      <td>0</td>\n",
       "    </tr>\n",
       "    <tr>\n",
       "      <th>2847</th>\n",
       "      <td>jl_e8ace30d24971614</td>\n",
       "      <td>permanent</td>\n",
       "      <td>research_scientist</td>\n",
       "      <td>39</td>\n",
       "      <td>devops engineer  linuxunix aws</td>\n",
       "      <td>richard wheeler associates</td>\n",
       "      <td>london</td>\n",
       "      <td>0</td>\n",
       "      <td>technology evaluation &amp; research for increased...</td>\n",
       "      <td>1</td>\n",
       "      <td>62500</td>\n",
       "      <td>1</td>\n",
       "    </tr>\n",
       "  </tbody>\n",
       "</table>\n",
       "<p>2832 rows × 12 columns</p>\n",
       "</div>"
      ],
      "text/plain": [
       "                   job_id  job_types             job_tag  post_time  \\\n",
       "0     jl_719d91b70ae97f1c   fulltime           analytics          1   \n",
       "1     jl_cee98ab894ae35fa   fulltime           analytics          2   \n",
       "2     jl_cf231c48d7af807d   fulltime           analytics          8   \n",
       "3     jl_93d5326817f2029b   fulltime           analytics         22   \n",
       "4     jl_9bf799089eefea91   fulltime           analytics          6   \n",
       "5     jl_59af1463838f3be9   fulltime           analytics         28   \n",
       "6     jl_d9fd8c914a29b393   fulltime           analytics          1   \n",
       "7     jl_0f3be053e7ae782d   fulltime           analytics         39   \n",
       "8     jl_5873a76350c2f1ef   fulltime           analytics          7   \n",
       "9     jl_500e1d5f202379f6   fulltime           analytics          1   \n",
       "10    jl_17b9c20525ad5a47   fulltime           analytics          1   \n",
       "11    jl_6b8942012bd01c63   fulltime           analytics          2   \n",
       "12    jl_f0dc6d793da061de   fulltime           analytics         17   \n",
       "13    jl_83000d212c1484ce   fulltime           analytics         39   \n",
       "14    jl_6c40f151a07c19fc   fulltime           analytics          2   \n",
       "15    jl_e31e4e2ba51b5026   fulltime           analytics         19   \n",
       "16    jl_e7af33f4427cbc8d   fulltime           analytics         23   \n",
       "17    jl_b049ab6c457e9e20   fulltime           analytics          9   \n",
       "18    jl_f227391af4621e53   fulltime           analytics         39   \n",
       "19    jl_f476bdf8e8b59b72   fulltime           analytics         39   \n",
       "20    jl_05ccb637667bebac   fulltime           analytics         24   \n",
       "21    jl_54ba3d330e6fc120   fulltime           analytics          5   \n",
       "22    jl_1770263571983e65   fulltime           analytics         39   \n",
       "23    jl_6a6426ab72911fe3   fulltime           analytics         39   \n",
       "24    jl_4650447530c1df4d   fulltime           analytics          3   \n",
       "25    jl_3b3d1262d4b5bc3c   fulltime           analytics         39   \n",
       "26    jl_3e5cb725234f4288   fulltime           analytics          1   \n",
       "27    jl_cbeda8d671dc18c0   fulltime           analytics          2   \n",
       "28    jl_5ca8ee1570ccd719   fulltime           analytics         39   \n",
       "29    jl_229b158d95d7601a   fulltime           analytics         21   \n",
       "...                   ...        ...                 ...        ...   \n",
       "2818  jl_58b54ed980aa53d3  permanent  research_scientist         39   \n",
       "2819  jl_68fc23bfc2583bed  permanent  research_scientist         39   \n",
       "2820  jl_de76b9ed85879300  permanent  research_scientist         39   \n",
       "2821  jl_25a717a04bdded69  permanent  research_scientist          8   \n",
       "2822  jl_aaa176576c5fdb28  permanent  research_scientist         22   \n",
       "2823  jl_d276f28901455dd4  permanent  research_scientist         39   \n",
       "2824  jl_12eb2baa2680b4c5  permanent  research_scientist         39   \n",
       "2825  jl_d029fce6f70cdf80  permanent  research_scientist         39   \n",
       "2826  jl_7bd3f0f659fcdd0d  permanent  research_scientist         20   \n",
       "2827  jl_d3b8026e8cce7715  permanent  research_scientist         13   \n",
       "2828  jl_4790de8fd18ac4bf  permanent  research_scientist          4   \n",
       "2829  jl_bc1d81d9b2b52ef7  permanent  research_scientist         39   \n",
       "2830  jl_8815a5d2a1173780  permanent  research_scientist         39   \n",
       "2831  jl_1152a2cded735504  permanent  research_scientist         15   \n",
       "2832  jl_fed932d3f2a3b624  permanent  research_scientist          7   \n",
       "2833  jl_beda06f2e486a757  permanent  research_scientist         39   \n",
       "2834  jl_72c3539d35c954ed  permanent  research_scientist         39   \n",
       "2835  jl_cb8b921a3ffe0b2e  permanent  research_scientist         39   \n",
       "2836  jl_91316f97ee588146  permanent  research_scientist         39   \n",
       "2837  jl_e4b84149d76f1add  permanent  research_scientist          8   \n",
       "2838  jl_f04c1e4f002f6335  permanent  research_scientist         28   \n",
       "2839  jl_5df29c583944d45c  permanent  research_scientist         39   \n",
       "2840  jl_79797981c430ece3  permanent  research_scientist         13   \n",
       "2841  jl_53c306194c1b8b4c  permanent  research_scientist         39   \n",
       "2842  jl_b04b7f77d1ed71a5  permanent  research_scientist         10   \n",
       "2843  jl_c4ea979146ed5561  permanent  research_scientist          7   \n",
       "2844  jl_0e61366b0b416df6  permanent  research_scientist          9   \n",
       "2845  jl_64f3eb76c0aeaa46  permanent  research_scientist         14   \n",
       "2846  jl_8d0d48b99f01ffe9  permanent  research_scientist         21   \n",
       "2847  jl_e8ace30d24971614  permanent  research_scientist         39   \n",
       "\n",
       "                                              job_title  \\\n",
       "0                        head of performance  analytics   \n",
       "1                           reporting analytics manager   \n",
       "2                      contracting analytics specialist   \n",
       "3            assistant director of analytics deputy cio   \n",
       "4                              business support officer   \n",
       "5     research assistant in holoscopic d imaging and...   \n",
       "6     research fellow  real estate urban informatics...   \n",
       "7              month placement  it  data analytics july   \n",
       "8                         business intelligence officer   \n",
       "9                                     finance assistant   \n",
       "10        biomedical support worker  chemical pathology   \n",
       "11                            research and data analyst   \n",
       "12                                   research associate   \n",
       "13                                    head of analytics   \n",
       "14                       research assistant ftc  months   \n",
       "15                         customer performance analyst   \n",
       "16    national centre for geospatial intelligence ba...   \n",
       "17                               communications officer   \n",
       "18                          oracle analytics consultant   \n",
       "19            artificial intelligence analytics manager   \n",
       "20                            customer insight graduate   \n",
       "21                             ktp associate  datactics   \n",
       "22    rollsroyce motor cars   month placement  data ...   \n",
       "23                     ecommerce analyst  web analytics   \n",
       "24                        corporate information analyst   \n",
       "25                             oracle analytics manager   \n",
       "26                                  systems analyst web   \n",
       "27                       digital communications officer   \n",
       "28                             sap analytics consultant   \n",
       "29                     full time funded phd studentship   \n",
       "...                                                 ...   \n",
       "2818         computer vision scientistsoftware engineer   \n",
       "2819                         senior development chemist   \n",
       "2820                                     data scientist   \n",
       "2821                           economistanalyst  london   \n",
       "2822      graduate software phdbsc physicist mathematic   \n",
       "2823   fibre fabrication engineers  scientists all leve   \n",
       "2824                      image analysis data scientist   \n",
       "2825                              senior data scientist   \n",
       "2826                                lead data scientist   \n",
       "2827                          product manager shortlist   \n",
       "2828     rd ai data science computer vision software en   \n",
       "2829                          senior formulation leader   \n",
       "2830                   development technician  somerset   \n",
       "2831                               sales representative   \n",
       "2832                                  sales development   \n",
       "2833                                 quality specialist   \n",
       "2834            clinical psychologist neuropsychologist   \n",
       "2835           graduate softwarephysicsmathselectronics   \n",
       "2836                       graduate software engineer c   \n",
       "2837                    senior economistanalyst  london   \n",
       "2838         senior delivery manager  data science  jid   \n",
       "2839        rd software engineer algorithms dsp c oxfor   \n",
       "2840  information scientist  digital content deliver...   \n",
       "2841   image processing engineersoftwarealgorithm engin   \n",
       "2842                                marketing executive   \n",
       "2843         european qualityregulatory affairs manager   \n",
       "2844            medical writer technical content writer   \n",
       "2845                         lead product designer uxui   \n",
       "2846                          event marketing executive   \n",
       "2847                     devops engineer  linuxunix aws   \n",
       "\n",
       "                                                company  \\\n",
       "0                   barnet clinical commissioning group   \n",
       "1                                         homes england   \n",
       "2                                                   nel   \n",
       "3                   east lancashire hospitals nhs trust   \n",
       "4                                           nhs england   \n",
       "5                                     brunel university   \n",
       "6                             oxford brookes university   \n",
       "7                                                   bmw   \n",
       "8     central and north west london nhs foundation t...   \n",
       "9        nhs herts valleys clinical commissioning group   \n",
       "10    homerton university hospital nhs foundation trust   \n",
       "11    office of qualifications and examinations regu...   \n",
       "12                              imperial college london   \n",
       "13                                      post office ltd   \n",
       "14    office of qualifications and examinations regu...   \n",
       "15               london borough of barking and dagenham   \n",
       "16                                  ministry of defence   \n",
       "17                                  ministry of defence   \n",
       "18                                            accenture   \n",
       "19                                            accenture   \n",
       "20                                             centrica   \n",
       "21                                 university of ulster   \n",
       "22                                                  bmw   \n",
       "23                                        sports direct   \n",
       "24    university hospitals of morecambe bay nhs foun...   \n",
       "25                                            accenture   \n",
       "26           derbyshire healthcare nhs foundation trust   \n",
       "27                                                sense   \n",
       "28                                            accenture   \n",
       "29                               the open university uk   \n",
       "...                                                 ...   \n",
       "2818                                               re&m   \n",
       "2819                               bluebolt recruitment   \n",
       "2820                                  inspiring interns   \n",
       "2821                               additional resources   \n",
       "2822                                               re&m   \n",
       "2823                                               re&m   \n",
       "2824                               xist4 it recruitment   \n",
       "2825                                    mcgregor boyall   \n",
       "2826                         opus recruitment solutions   \n",
       "2827                                             adzuna   \n",
       "2828                                               re&m   \n",
       "2829                             templarfox consultancy   \n",
       "2830                      manufacturing recruitment ltd   \n",
       "2831                                  inspiring interns   \n",
       "2832                                  inspiring interns   \n",
       "2833                                  scientific people   \n",
       "2834                                           fieldbay   \n",
       "2835                                               re&m   \n",
       "2836                                               re&m   \n",
       "2837                               additional resources   \n",
       "2838                                    spinwell global   \n",
       "2839                                               re&m   \n",
       "2840                               additional resources   \n",
       "2841                                               re&m   \n",
       "2842                                  inspiring interns   \n",
       "2843                                lica scientific ltd   \n",
       "2844                     next phase recruitment limited   \n",
       "2845                                     soma analytics   \n",
       "2846                                  inspiring interns   \n",
       "2847                         richard wheeler associates   \n",
       "\n",
       "                      location  no_of_review  \\\n",
       "0                       barnet             0   \n",
       "1                birmingham b3             2   \n",
       "2                   london se1             7   \n",
       "3                blackburn bb2            13   \n",
       "4                    leeds ls2          4005   \n",
       "5                     uxbridge            60   \n",
       "6                       oxford            70   \n",
       "7                  oxfordshire          2057   \n",
       "8                   london nw1            16   \n",
       "9          hemel hempstead hp2          4005   \n",
       "10                   london e9             9   \n",
       "11                coventry cv1             0   \n",
       "12                 hammersmith           116   \n",
       "13                      london           273   \n",
       "14                coventry cv1             0   \n",
       "15                     barking            36   \n",
       "16             huntingdon pe28           405   \n",
       "17                 london sw1a           405   \n",
       "18              united kingdom         14997   \n",
       "19              united kingdom         14997   \n",
       "20    staines-upon-thames tw18          1087   \n",
       "21                 jordanstown            25   \n",
       "22                    goodwood          2057   \n",
       "23                  nottingham          2657   \n",
       "24               lancaster la1             0   \n",
       "25              united kingdom         14997   \n",
       "26                  derby de22             6   \n",
       "27                king's cross           279   \n",
       "28              united kingdom         14997   \n",
       "29               milton keynes             0   \n",
       "...                        ...           ...   \n",
       "2818             home counties             0   \n",
       "2819                  thetford             0   \n",
       "2820                manchester             4   \n",
       "2821            greater london             0   \n",
       "2822                south east             0   \n",
       "2823                south east             0   \n",
       "2824            cambridgeshire             0   \n",
       "2825                    london             5   \n",
       "2826                manchester             0   \n",
       "2827                    london             0   \n",
       "2828                south west             0   \n",
       "2829                    oxford             0   \n",
       "2830                  somerset             0   \n",
       "2831               west london             4   \n",
       "2832               west london             4   \n",
       "2833            united kingdom             0   \n",
       "2834                   swansea             0   \n",
       "2835                south east             0   \n",
       "2836             west midlands             0   \n",
       "2837            greater london             0   \n",
       "2838                   taunton             0   \n",
       "2839                south east             0   \n",
       "2840           gloucestershire             0   \n",
       "2841             home counties             0   \n",
       "2842              south london             4   \n",
       "2843                   bristol             0   \n",
       "2844                    oxford             0   \n",
       "2845                    london             0   \n",
       "2846               west london             4   \n",
       "2847                    london             0   \n",
       "\n",
       "                                            job_summary  salary_high_tier  \\\n",
       "0     reporting to the director of qipp, planning an...                 1   \n",
       "1     the reporting and analytics manager will repor...                 1   \n",
       "2     we are looking for an enthusiastic, experience...                 1   \n",
       "3     the directorate is looking to employ an assist...                 1   \n",
       "4     we are particularly interested, across these r...                 0   \n",
       "5     this involves low-level visual media analysis ...                 0   \n",
       "6     to email the post of research fellow - real es...                 0   \n",
       "7     <br><br>we are currently seeking a student wit...                 0   \n",
       "8     as a business intelligence officer you will be...                 0   \n",
       "9     they will contribute to preparatory work on mo...                 0   \n",
       "10    the homerton is an innovative and friendly fou...                 0   \n",
       "11     working with other directorates in the organ...                 0   \n",
       "12    in particular, applicants must hold a phd or e...                 1   \n",
       "13    director of mi, data strategy & analytics. up ...                 1   \n",
       "14    this post will sit within a newly created data...                 0   \n",
       "15    the ideal candidate should have a practical ex...                 0   \n",
       "16     provide professional advice and guidance on ...                 0   \n",
       "17    undertake user research, evaluate analytics et...                 0   \n",
       "18    oracle business intelligence applications (obi...                 1   \n",
       "19    should be enthusiastic to learn and use apis (...                 1   \n",
       "20    join us, as a customer insight graduate, and y...                 0   \n",
       "21    work with university experts and develop marke...                 0   \n",
       "22    as a student, you will have hands on experienc...                 0   \n",
       "23    ecommerce analyst - web analytics. salary â£26...                 0   \n",
       "24    you will work with raw data from hospital syst...                 0   \n",
       "25    oracle business intelligence applications (obi...                 1   \n",
       "26    as a member of the data warehouse, integration...                 0   \n",
       "27    this will include day to day maintenance of th...                 0   \n",
       "28    providing advisory services and thought leader...                 1   \n",
       "29    web-scale research analytics for identifying h...                 0   \n",
       "...                                                 ...               ...   \n",
       "2818  you will be involved in the research and devel...                 1   \n",
       "2819  consumer healthcare personal care cosmetic per...                 0   \n",
       "2820  or master’s degree in a relevant research area...                 0   \n",
       "2821  they are a firm of expert economists, statisti...                 0   \n",
       "2822  graduate software engineers will be developing...                 0   \n",
       "2823  you will be involved in the manufacture perfor...                 1   \n",
       "2824  image analysis/data scientist - key skills:. i...                 1   \n",
       "2825  an exciting opportunity has arisen for a senio...                 1   \n",
       "2826  if you have a few years’ experience as a data ...                 1   \n",
       "2827  experience organising and running user researc...                 1   \n",
       "2828  track record of successful research *. the res...                 1   \n",
       "2829  as the senior formulation leader/ senior resea...                 1   \n",
       "2830  understand and interpret scientists' requireme...                 0   \n",
       "2831  they provide new sources of information for sc...                 0   \n",
       "2832  identify and research target companies within ...                 0   \n",
       "2833  antibody analytics is a young, innovative and ...                 0   \n",
       "2834  research and development . research, service e...                 0   \n",
       "2835  graduate software engineers, electronic engine...                 0   \n",
       "2836  looking to recruit graduate software engineers...                 0   \n",
       "2837  they are a firm of expert economists, statisti...                 1   \n",
       "2838  you’ll be responsible for maintaining collabor...                 1   \n",
       "2839  r&d (c++) position for a scientist or software...                 1   \n",
       "2840  information scientist - digital content delive...                 0   \n",
       "2841  responsibilities will include research and dev...                 1   \n",
       "2842  a growing medical publishing company specialis...                 0   \n",
       "2843  they are a trusted manufacturer/supplier of in...                 1   \n",
       "2844  publication support – assisting scientists wit...                 0   \n",
       "2845  able to conduct user research, usability testi...                 1   \n",
       "2846  a growing medical publishing company specialis...                 0   \n",
       "2847  technology evaluation & research for increased...                 1   \n",
       "\n",
       "      annual_salary  salary_higher_tier_2  \n",
       "0             69830                     1  \n",
       "1             44440                     1  \n",
       "2             44785                     1  \n",
       "3             77769                     1  \n",
       "4             26315                     0  \n",
       "5             36728                     0  \n",
       "6             31302                     0  \n",
       "7             17500                     0  \n",
       "8             34305                     0  \n",
       "9             21756                     0  \n",
       "10            22407                     0  \n",
       "11            33770                     0  \n",
       "12            39449                     1  \n",
       "13            75000                     1  \n",
       "14            33770                     0  \n",
       "15            37492                     0  \n",
       "16            25383                     0  \n",
       "17            32970                     0  \n",
       "18            56000                     1  \n",
       "19            79000                     1  \n",
       "20            27000                     0  \n",
       "21            28000                     0  \n",
       "22            17500                     0  \n",
       "23            28000                     0  \n",
       "24            26315                     0  \n",
       "25            78500                     1  \n",
       "26            26315                     0  \n",
       "27            29204                     0  \n",
       "28            56000                     1  \n",
       "29            24070                     0  \n",
       "...             ...                   ...  \n",
       "2818          45000                     1  \n",
       "2819          35000                     0  \n",
       "2820          30000                     0  \n",
       "2821          35000                     0  \n",
       "2822          30000                     0  \n",
       "2823          45000                     1  \n",
       "2824          57500                     1  \n",
       "2825          70000                     1  \n",
       "2826          70000                     1  \n",
       "2827          45000                     1  \n",
       "2828          52500                     1  \n",
       "2829          45000                     1  \n",
       "2830          25000                     0  \n",
       "2831          24000                     0  \n",
       "2832          24000                     0  \n",
       "2833          32000                     0  \n",
       "2834          36741                     0  \n",
       "2835          26500                     0  \n",
       "2836          19000                     0  \n",
       "2837          53500                     1  \n",
       "2838          53202                     1  \n",
       "2839          40000                     1  \n",
       "2840          30000                     0  \n",
       "2841          40000                     1  \n",
       "2842          22000                     0  \n",
       "2843          47500                     1  \n",
       "2844          30000                     0  \n",
       "2845          39000                     1  \n",
       "2846          24000                     0  \n",
       "2847          62500                     1  \n",
       "\n",
       "[2832 rows x 12 columns]"
      ]
     },
     "execution_count": 120,
     "metadata": {},
     "output_type": "execute_result"
    }
   ],
   "source": [
    "df_salary_mod"
   ]
  },
  {
   "cell_type": "code",
   "execution_count": 122,
   "metadata": {},
   "outputs": [
    {
     "data": {
      "text/plain": [
       "2832"
      ]
     },
     "execution_count": 122,
     "metadata": {},
     "output_type": "execute_result"
    }
   ],
   "source": [
    "(df_salary_mod['salary_higher_tier_2'] == df_salary_mod['salary_high_tier']).sum()"
   ]
  },
  {
   "cell_type": "code",
   "execution_count": 123,
   "metadata": {},
   "outputs": [
    {
     "data": {
      "text/plain": [
       "2832"
      ]
     },
     "execution_count": 123,
     "metadata": {},
     "output_type": "execute_result"
    }
   ],
   "source": [
    "len(df_salary_mod)"
   ]
  },
  {
   "cell_type": "markdown",
   "metadata": {},
   "source": [
    "It seems the outlier are heavliy affecting the median."
   ]
  },
  {
   "cell_type": "markdown",
   "metadata": {},
   "source": [
    "## BAG OF WORDS MODELLING¶"
   ]
  },
  {
   "cell_type": "markdown",
   "metadata": {},
   "source": [
    "# Question 1:\n",
    "\n",
    "Get TFIDF of job title, company, location, summary. Use data with salary to predict those without.From out features with highest significant in distinguishing high vs low salary jobs. Then collect TFIDF again for whole dataset and do second round of modelling. Check to see whether top features are the same with round 1. Features that appear highly significant in both rounds are the factors that are best at distinguishing.high vs low salaryFor my study, i will generate features from my dataset using TFIDF. Then I will use log reg and decision tree to predict, unless results really bad. It seems there is no need to do processing for the data with no salary since most of the features we are using is the nlp, not really numerical data."
   ]
  },
  {
   "cell_type": "code",
   "execution_count": 151,
   "metadata": {},
   "outputs": [
    {
     "name": "stdout",
     "output_type": "stream",
     "text": [
      "Index(['job_id', 'job_types', 'job_tag', 'post_time', 'job_title', 'company',\n",
      "       'location', 'no_of_review', 'job_summary', 'salary_high_tier',\n",
      "       'annual_salary', 'salary_higher_tier_2'],\n",
      "      dtype='object')\n"
     ]
    }
   ],
   "source": [
    "print (df_salary_mod.columns)"
   ]
  },
  {
   "cell_type": "code",
   "execution_count": 152,
   "metadata": {},
   "outputs": [],
   "source": [
    "#notice that the removing of extreme outliers does not affect the tier\n",
    "q1_col=['job_title', 'company','location', 'job_summary', 'salary_high_tier']"
   ]
  },
  {
   "cell_type": "code",
   "execution_count": 155,
   "metadata": {},
   "outputs": [
    {
     "data": {
      "text/html": [
       "<div>\n",
       "<style scoped>\n",
       "    .dataframe tbody tr th:only-of-type {\n",
       "        vertical-align: middle;\n",
       "    }\n",
       "\n",
       "    .dataframe tbody tr th {\n",
       "        vertical-align: top;\n",
       "    }\n",
       "\n",
       "    .dataframe thead th {\n",
       "        text-align: right;\n",
       "    }\n",
       "</style>\n",
       "<table border=\"1\" class=\"dataframe\">\n",
       "  <thead>\n",
       "    <tr style=\"text-align: right;\">\n",
       "      <th></th>\n",
       "      <th>job_title</th>\n",
       "      <th>company</th>\n",
       "      <th>location</th>\n",
       "      <th>job_summary</th>\n",
       "      <th>salary_high_tier</th>\n",
       "    </tr>\n",
       "  </thead>\n",
       "  <tbody>\n",
       "    <tr>\n",
       "      <th>0</th>\n",
       "      <td>head of performance  analytics</td>\n",
       "      <td>barnet clinical commissioning group</td>\n",
       "      <td>barnet</td>\n",
       "      <td>reporting to the director of qipp, planning an...</td>\n",
       "      <td>1</td>\n",
       "    </tr>\n",
       "    <tr>\n",
       "      <th>1</th>\n",
       "      <td>reporting analytics manager</td>\n",
       "      <td>homes england</td>\n",
       "      <td>birmingham b3</td>\n",
       "      <td>the reporting and analytics manager will repor...</td>\n",
       "      <td>1</td>\n",
       "    </tr>\n",
       "  </tbody>\n",
       "</table>\n",
       "</div>"
      ],
      "text/plain": [
       "                        job_title                              company  \\\n",
       "0  head of performance  analytics  barnet clinical commissioning group   \n",
       "1     reporting analytics manager                        homes england   \n",
       "\n",
       "        location                                        job_summary  \\\n",
       "0         barnet  reporting to the director of qipp, planning an...   \n",
       "1  birmingham b3  the reporting and analytics manager will repor...   \n",
       "\n",
       "   salary_high_tier  \n",
       "0                 1  \n",
       "1                 1  "
      ]
     },
     "execution_count": 155,
     "metadata": {},
     "output_type": "execute_result"
    }
   ],
   "source": [
    "q1_salary=df_salary_mod[q1_col]\n",
    "q1_salary.head(2)"
   ]
  },
  {
   "cell_type": "markdown",
   "metadata": {},
   "source": [
    "Logistic regression are used, as mentioned earlier, the numerical values are totally hopeless and could not establish clear relationship. Thus, NLP is a good application. The first classificaiton model is using logistic regression and Scikit Learn libirary packages. More sepecifically, the TfidfVectorizer as we are using the TF-IDF bag of n-grams approach. This is because we are using bag of words modeling, it is straightforward yet powerful.TF-IDF weight is a statistical measure used to evaluate how important a word is to a document in a collection or corpus. The importance increases proportionally to the number of times a word appears in the document but is offset by the frequency of the word in the corpus."
   ]
  },
  {
   "cell_type": "code",
   "execution_count": 156,
   "metadata": {},
   "outputs": [],
   "source": [
    "from sklearn.feature_extraction.text import TfidfVectorizer\n",
    "from sklearn.model_selection import train_test_split, cross_val_predict, GridSearchCV\n",
    "from sklearn.linear_model import LogisticRegression, LogisticRegressionCV\n",
    "from sklearn import metrics\n",
    "from sklearn.metrics import classification_report\n",
    "from sklearn.preprocessing import StandardScaler"
   ]
  },
  {
   "cell_type": "code",
   "execution_count": 157,
   "metadata": {},
   "outputs": [],
   "source": [
    "# Get TFIDF for job summary\n",
    "job_summary_tvec = TfidfVectorizer(ngram_range=(1,3), stop_words='english', min_df=2, max_df=0.5, max_features=25)\n",
    "job_summary_tvec.fit(q1_salary['job_summary'])\n",
    "job_summary_tvec_df = pd.DataFrame(job_summary_tvec.transform(q1_salary['job_summary']).todense(),\n",
    "                       columns=['summary_[' + f + ']' for f in job_summary_tvec.get_feature_names()])"
   ]
  },
  {
   "cell_type": "code",
   "execution_count": 158,
   "metadata": {},
   "outputs": [],
   "source": [
    "# Get TFIDF for job title\n",
    "job_title_tvec = TfidfVectorizer(ngram_range=(1,3), stop_words='english', min_df=2, max_df=0.5, max_features=25)\n",
    "job_title_tvec.fit(q1_salary['job_title'])\n",
    "job_title_tvec_df = pd.DataFrame(job_title_tvec.transform(q1_salary['job_title']).todense(),\n",
    "                       columns=['title_[' + f + ']' for f in job_title_tvec.get_feature_names()])"
   ]
  },
  {
   "cell_type": "code",
   "execution_count": 159,
   "metadata": {},
   "outputs": [],
   "source": [
    "# Get TFIDF for company name\n",
    "job_company_tvec = TfidfVectorizer(ngram_range=(1,3), stop_words='english', min_df=2, max_df=0.5, max_features=25)\n",
    "job_company_tvec.fit(q1_salary['company'])\n",
    "job_company_tvec_df = pd.DataFrame(job_company_tvec.transform(q1_salary['company']).todense(),\n",
    "                       columns=['company_[' + f + ']' for f in job_company_tvec.get_feature_names()])"
   ]
  },
  {
   "cell_type": "code",
   "execution_count": 160,
   "metadata": {},
   "outputs": [],
   "source": [
    "# Get TFIDF for company location\n",
    "job_location_tvec = TfidfVectorizer(ngram_range=(1,3), stop_words='english', min_df=2, max_df=0.5, max_features=25)\n",
    "job_location_tvec.fit(q1_salary['location'])\n",
    "job_location_tvec_df = pd.DataFrame(job_company_tvec.transform(q1_salary['location']).todense(),\n",
    "                       columns=['location_[' + f + ']' for f in job_company_tvec.get_feature_names()])"
   ]
  },
  {
   "cell_type": "code",
   "execution_count": 161,
   "metadata": {},
   "outputs": [],
   "source": [
    "y_with_sal = q1_salary['salary_high_tier']\n",
    "X_with_sal = pd.concat([job_summary_tvec_df,job_title_tvec_df,job_company_tvec_df,job_location_tvec_df], axis=1)"
   ]
  },
  {
   "cell_type": "code",
   "execution_count": 162,
   "metadata": {},
   "outputs": [],
   "source": [
    "# Get training and testing set\n",
    "X_train, X_test, y_train, y_test = train_test_split(X_with_sal, y_with_sal, test_size=0.3, random_state=42)"
   ]
  },
  {
   "cell_type": "code",
   "execution_count": 163,
   "metadata": {},
   "outputs": [],
   "source": [
    "# Standardize predictors\n",
    "X_train_ss = StandardScaler().fit_transform(X_train)\n",
    "X_test_ss = StandardScaler().fit_transform(X_test)"
   ]
  },
  {
   "cell_type": "code",
   "execution_count": 164,
   "metadata": {},
   "outputs": [],
   "source": [
    "X_train_ss = pd.DataFrame(X_train_ss, columns=X_train.columns)\n",
    "X_test_ss = pd.DataFrame(X_test_ss, columns=X_train.columns)"
   ]
  },
  {
   "cell_type": "code",
   "execution_count": 165,
   "metadata": {},
   "outputs": [
    {
     "name": "stderr",
     "output_type": "stream",
     "text": [
      "C:\\Users\\zhixi\\Anaconda3\\lib\\site-packages\\sklearn\\linear_model\\logistic.py:432: FutureWarning: Default solver will be changed to 'lbfgs' in 0.22. Specify a solver to silence this warning.\n",
      "  FutureWarning)\n"
     ]
    },
    {
     "data": {
      "text/plain": [
       "LogisticRegression(C=1.0, class_weight=None, dual=False, fit_intercept=True,\n",
       "          intercept_scaling=1, max_iter=100, multi_class='warn',\n",
       "          n_jobs=None, penalty='l2', random_state=None, solver='warn',\n",
       "          tol=0.0001, verbose=0, warm_start=False)"
      ]
     },
     "execution_count": 165,
     "metadata": {},
     "output_type": "execute_result"
    }
   ],
   "source": [
    "# Fit with plain logistic regression\n",
    "lr = LogisticRegression()\n",
    "lr.fit(X_train_ss, y_train)"
   ]
  },
  {
   "cell_type": "code",
   "execution_count": 166,
   "metadata": {},
   "outputs": [
    {
     "name": "stdout",
     "output_type": "stream",
     "text": [
      "              precision    recall  f1-score   support\n",
      "\n",
      "           0       0.77      0.71      0.74       450\n",
      "           1       0.70      0.76      0.73       400\n",
      "\n",
      "   micro avg       0.73      0.73      0.73       850\n",
      "   macro avg       0.73      0.73      0.73       850\n",
      "weighted avg       0.73      0.73      0.73       850\n",
      "\n",
      "f1-score: 0.7259615384615385\n"
     ]
    }
   ],
   "source": [
    "pred = lr.predict(X_test_ss)\n",
    "score = metrics.f1_score(y_test, pred)\n",
    "print(classification_report(y_test, pred))\n",
    "print('f1-score:', score)"
   ]
  },
  {
   "cell_type": "markdown",
   "metadata": {},
   "source": [
    "With a precision of 0.69 and recall of 0.7, it seems not that bad at first, having both high precision and recall at the same time. However, take note that this is only the baseline model. <br>\n",
    "Next, try Gridsearch for Ridge and Lasso Logistic Regression in the hope to optimize the model."
   ]
  },
  {
   "cell_type": "code",
   "execution_count": 167,
   "metadata": {},
   "outputs": [
    {
     "name": "stdout",
     "output_type": "stream",
     "text": [
      "GRID SEARCH:\n",
      "Best parameters set:\n",
      "\tC: 0.012045035402587823\n",
      "\tpenalty: 'l2'\n",
      "\tsolver: 'liblinear'\n"
     ]
    }
   ],
   "source": [
    "# Gridsearch for Ridge and Lasso Logistic Regression\n",
    "\n",
    "parameters = {\n",
    "    'penalty':['l1','l2'],\n",
    "    'solver':['liblinear'],\n",
    "    'C':np.logspace(-5,0,100)\n",
    "}\n",
    "\n",
    "print (\"GRID SEARCH:\")\n",
    "lr_grid_search = GridSearchCV(LogisticRegression(), parameters, cv=10, verbose=0)\n",
    "lr_grid_search.fit(X_train_ss, y_train)\n",
    "print (\"Best parameters set:\")\n",
    "lr_best_parameters = lr_grid_search.best_estimator_.get_params()\n",
    "for param_name in sorted(parameters.keys()):\n",
    "    print (\"\\t%s: %r\" % (param_name, lr_best_parameters[param_name]))"
   ]
  },
  {
   "cell_type": "code",
   "execution_count": 168,
   "metadata": {},
   "outputs": [
    {
     "name": "stdout",
     "output_type": "stream",
     "text": [
      "Logistic Regression with best parameter:\n",
      "              precision    recall  f1-score   support\n",
      "\n",
      " high salary       0.71      0.74      0.73       400\n",
      "  low salary       0.76      0.73      0.75       450\n",
      "\n",
      "   micro avg       0.74      0.74      0.74       850\n",
      "   macro avg       0.74      0.74      0.74       850\n",
      "weighted avg       0.74      0.74      0.74       850\n",
      "\n"
     ]
    }
   ],
   "source": [
    "print (\"Logistic Regression with best parameter:\")\n",
    "clf = LogisticRegression(**lr_best_parameters)\n",
    "clf.fit(X_train_ss, y_train)\n",
    "lr_gs_pred = clf.predict(X_test_ss)\n",
    "print(metrics.classification_report(y_test, lr_gs_pred, labels=[1,0], target_names=['high salary','low salary']))"
   ]
  },
  {
   "cell_type": "markdown",
   "metadata": {},
   "source": [
    "Using the best paramters does not seem to improve our baseline.This time round, decisiontree is used.Decision tree learning uses a decision tree (as a predictive model) to go from observations about an item (represented in the branches) to conclusions about the item's target value (represented in the leaves)."
   ]
  },
  {
   "cell_type": "code",
   "execution_count": 169,
   "metadata": {},
   "outputs": [],
   "source": [
    "from sklearn.tree import DecisionTreeClassifier"
   ]
  },
  {
   "cell_type": "code",
   "execution_count": 170,
   "metadata": {},
   "outputs": [],
   "source": [
    "# gridsearch params\n",
    "dtc_params = {\n",
    "    'max_depth':[None,1,2,3,4],\n",
    "    'max_features':[None,'log2','sqrt',2,3,4,5],\n",
    "    'min_samples_split':[2,3,4,5,10,15,20,25,30,40,50]\n",
    "}\n",
    "\n",
    "# set the gridsearch\n",
    "dtc_gs = GridSearchCV(DecisionTreeClassifier(), dtc_params, cv=5, verbose=1)"
   ]
  },
  {
   "cell_type": "code",
   "execution_count": 171,
   "metadata": {},
   "outputs": [
    {
     "name": "stdout",
     "output_type": "stream",
     "text": [
      "Fitting 5 folds for each of 385 candidates, totalling 1925 fits\n"
     ]
    },
    {
     "name": "stderr",
     "output_type": "stream",
     "text": [
      "[Parallel(n_jobs=1)]: Using backend SequentialBackend with 1 concurrent workers.\n",
      "[Parallel(n_jobs=1)]: Done 1925 out of 1925 | elapsed:    8.7s finished\n"
     ]
    },
    {
     "data": {
      "text/plain": [
       "GridSearchCV(cv=5, error_score='raise-deprecating',\n",
       "       estimator=DecisionTreeClassifier(class_weight=None, criterion='gini', max_depth=None,\n",
       "            max_features=None, max_leaf_nodes=None,\n",
       "            min_impurity_decrease=0.0, min_impurity_split=None,\n",
       "            min_samples_leaf=1, min_samples_split=2,\n",
       "            min_weight_fraction_leaf=0.0, presort=False, random_state=None,\n",
       "            splitter='best'),\n",
       "       fit_params=None, iid='warn', n_jobs=None,\n",
       "       param_grid={'max_depth': [None, 1, 2, 3, 4], 'max_features': [None, 'log2', 'sqrt', 2, 3, 4, 5], 'min_samples_split': [2, 3, 4, 5, 10, 15, 20, 25, 30, 40, 50]},\n",
       "       pre_dispatch='2*n_jobs', refit=True, return_train_score='warn',\n",
       "       scoring=None, verbose=1)"
      ]
     },
     "execution_count": 171,
     "metadata": {},
     "output_type": "execute_result"
    }
   ],
   "source": [
    "dtc_gs.fit(X_train_ss, y_train)"
   ]
  },
  {
   "cell_type": "code",
   "execution_count": 172,
   "metadata": {},
   "outputs": [
    {
     "name": "stdout",
     "output_type": "stream",
     "text": [
      "{'max_depth': None, 'max_features': 'sqrt', 'min_samples_split': 40}\n",
      "0.6892028254288597\n"
     ]
    }
   ],
   "source": [
    "# Best Estimator\n",
    "dtc_best = dtc_gs.best_estimator_\n",
    "print(dtc_gs.best_params_)\n",
    "print(dtc_gs.best_score_)"
   ]
  },
  {
   "cell_type": "code",
   "execution_count": 173,
   "metadata": {},
   "outputs": [
    {
     "data": {
      "text/html": [
       "<div>\n",
       "<style scoped>\n",
       "    .dataframe tbody tr th:only-of-type {\n",
       "        vertical-align: middle;\n",
       "    }\n",
       "\n",
       "    .dataframe tbody tr th {\n",
       "        vertical-align: top;\n",
       "    }\n",
       "\n",
       "    .dataframe thead th {\n",
       "        text-align: right;\n",
       "    }\n",
       "</style>\n",
       "<table border=\"1\" class=\"dataframe\">\n",
       "  <thead>\n",
       "    <tr style=\"text-align: right;\">\n",
       "      <th></th>\n",
       "      <th>feature</th>\n",
       "      <th>importance</th>\n",
       "    </tr>\n",
       "  </thead>\n",
       "  <tbody>\n",
       "    <tr>\n",
       "      <th>85</th>\n",
       "      <td>location_[london]</td>\n",
       "      <td>0.094337</td>\n",
       "    </tr>\n",
       "    <tr>\n",
       "      <th>39</th>\n",
       "      <td>title_[graduate]</td>\n",
       "      <td>0.060173</td>\n",
       "    </tr>\n",
       "    <tr>\n",
       "      <th>33</th>\n",
       "      <td>title_[data engineer]</td>\n",
       "      <td>0.052786</td>\n",
       "    </tr>\n",
       "    <tr>\n",
       "      <th>25</th>\n",
       "      <td>title_[analyst]</td>\n",
       "      <td>0.047338</td>\n",
       "    </tr>\n",
       "    <tr>\n",
       "      <th>1</th>\n",
       "      <td>summary_[analytics]</td>\n",
       "      <td>0.045603</td>\n",
       "    </tr>\n",
       "    <tr>\n",
       "      <th>40</th>\n",
       "      <td>title_[head]</td>\n",
       "      <td>0.043114</td>\n",
       "    </tr>\n",
       "    <tr>\n",
       "      <th>47</th>\n",
       "      <td>title_[senior]</td>\n",
       "      <td>0.032811</td>\n",
       "    </tr>\n",
       "    <tr>\n",
       "      <th>31</th>\n",
       "      <td>title_[data]</td>\n",
       "      <td>0.032625</td>\n",
       "    </tr>\n",
       "    <tr>\n",
       "      <th>3</th>\n",
       "      <td>summary_[business]</td>\n",
       "      <td>0.032550</td>\n",
       "    </tr>\n",
       "    <tr>\n",
       "      <th>0</th>\n",
       "      <td>summary_[analyst]</td>\n",
       "      <td>0.027236</td>\n",
       "    </tr>\n",
       "  </tbody>\n",
       "</table>\n",
       "</div>"
      ],
      "text/plain": [
       "                  feature  importance\n",
       "85      location_[london]    0.094337\n",
       "39       title_[graduate]    0.060173\n",
       "33  title_[data engineer]    0.052786\n",
       "25        title_[analyst]    0.047338\n",
       "1     summary_[analytics]    0.045603\n",
       "40           title_[head]    0.043114\n",
       "47         title_[senior]    0.032811\n",
       "31           title_[data]    0.032625\n",
       "3      summary_[business]    0.032550\n",
       "0       summary_[analyst]    0.027236"
      ]
     },
     "execution_count": 173,
     "metadata": {},
     "output_type": "execute_result"
    }
   ],
   "source": [
    "fi = pd.DataFrame({\n",
    "        'feature':X_train_ss.columns,\n",
    "        'importance':dtc_best.feature_importances_\n",
    "    })\n",
    "\n",
    "fi.sort_values('importance', ascending=False, inplace=True)\n",
    "fi.head(10)"
   ]
  },
  {
   "cell_type": "code",
   "execution_count": 174,
   "metadata": {},
   "outputs": [
    {
     "data": {
      "text/html": [
       "<div>\n",
       "<style scoped>\n",
       "    .dataframe tbody tr th:only-of-type {\n",
       "        vertical-align: middle;\n",
       "    }\n",
       "\n",
       "    .dataframe tbody tr th {\n",
       "        vertical-align: top;\n",
       "    }\n",
       "\n",
       "    .dataframe thead th {\n",
       "        text-align: right;\n",
       "    }\n",
       "</style>\n",
       "<table border=\"1\" class=\"dataframe\">\n",
       "  <thead>\n",
       "    <tr style=\"text-align: right;\">\n",
       "      <th></th>\n",
       "      <th>coef</th>\n",
       "      <th>mag</th>\n",
       "      <th>pred</th>\n",
       "    </tr>\n",
       "  </thead>\n",
       "  <tbody>\n",
       "    <tr>\n",
       "      <th>85</th>\n",
       "      <td>0.437236</td>\n",
       "      <td>0.437236</td>\n",
       "      <td>location_[london]</td>\n",
       "    </tr>\n",
       "    <tr>\n",
       "      <th>40</th>\n",
       "      <td>0.373235</td>\n",
       "      <td>0.373235</td>\n",
       "      <td>title_[head]</td>\n",
       "    </tr>\n",
       "    <tr>\n",
       "      <th>39</th>\n",
       "      <td>-0.345173</td>\n",
       "      <td>0.345173</td>\n",
       "      <td>title_[graduate]</td>\n",
       "    </tr>\n",
       "    <tr>\n",
       "      <th>43</th>\n",
       "      <td>0.293432</td>\n",
       "      <td>0.293432</td>\n",
       "      <td>title_[manager]</td>\n",
       "    </tr>\n",
       "    <tr>\n",
       "      <th>42</th>\n",
       "      <td>0.234805</td>\n",
       "      <td>0.234805</td>\n",
       "      <td>title_[lead]</td>\n",
       "    </tr>\n",
       "    <tr>\n",
       "      <th>57</th>\n",
       "      <td>0.208388</td>\n",
       "      <td>0.208388</td>\n",
       "      <td>company_[harnham]</td>\n",
       "    </tr>\n",
       "    <tr>\n",
       "      <th>26</th>\n",
       "      <td>0.206738</td>\n",
       "      <td>0.206738</td>\n",
       "      <td>title_[analytics]</td>\n",
       "    </tr>\n",
       "    <tr>\n",
       "      <th>34</th>\n",
       "      <td>0.206700</td>\n",
       "      <td>0.206700</td>\n",
       "      <td>title_[data scientist]</td>\n",
       "    </tr>\n",
       "    <tr>\n",
       "      <th>38</th>\n",
       "      <td>0.194499</td>\n",
       "      <td>0.194499</td>\n",
       "      <td>title_[engineer]</td>\n",
       "    </tr>\n",
       "    <tr>\n",
       "      <th>47</th>\n",
       "      <td>0.193157</td>\n",
       "      <td>0.193157</td>\n",
       "      <td>title_[senior]</td>\n",
       "    </tr>\n",
       "  </tbody>\n",
       "</table>\n",
       "</div>"
      ],
      "text/plain": [
       "        coef       mag                    pred\n",
       "85  0.437236  0.437236       location_[london]\n",
       "40  0.373235  0.373235            title_[head]\n",
       "39 -0.345173  0.345173        title_[graduate]\n",
       "43  0.293432  0.293432         title_[manager]\n",
       "42  0.234805  0.234805            title_[lead]\n",
       "57  0.208388  0.208388       company_[harnham]\n",
       "26  0.206738  0.206738       title_[analytics]\n",
       "34  0.206700  0.206700  title_[data scientist]\n",
       "38  0.194499  0.194499        title_[engineer]\n",
       "47  0.193157  0.193157          title_[senior]"
      ]
     },
     "execution_count": 174,
     "metadata": {},
     "output_type": "execute_result"
    }
   ],
   "source": [
    "coef = lr_grid_search.best_estimator_.coef_\n",
    "lr_coef = pd.DataFrame({'coef':coef.ravel(),\n",
    "                    'mag':np.abs(coef.ravel()),\n",
    "                    'pred':X_test_ss.columns})\n",
    "\n",
    "lr_coef.sort_values('mag', ascending=False, inplace=True)\n",
    "lr_coef.head(10)"
   ]
  },
  {
   "cell_type": "code",
   "execution_count": 175,
   "metadata": {},
   "outputs": [
    {
     "name": "stdout",
     "output_type": "stream",
     "text": [
      "              precision    recall  f1-score   support\n",
      "\n",
      " high salary       0.61      0.68      0.65       400\n",
      "  low salary       0.69      0.62      0.65       450\n",
      "\n",
      "   micro avg       0.65      0.65      0.65       850\n",
      "   macro avg       0.65      0.65      0.65       850\n",
      "weighted avg       0.65      0.65      0.65       850\n",
      "\n"
     ]
    }
   ],
   "source": [
    "pred = dtc_best.predict(X_test_ss)\n",
    "print(classification_report(y_test, pred, labels=[1,0], target_names=['high salary','low salary']))"
   ]
  },
  {
   "cell_type": "markdown",
   "metadata": {},
   "source": [
    "For now, logistic regression has slightly better score comapred to decision tree model."
   ]
  },
  {
   "cell_type": "code",
   "execution_count": 176,
   "metadata": {},
   "outputs": [
    {
     "name": "stdout",
     "output_type": "stream",
     "text": [
      "<class 'pandas.core.frame.DataFrame'>\n",
      "Int64Index: 4747 entries, 0 to 9741\n",
      "Data columns (total 10 columns):\n",
      "job_id          4747 non-null object\n",
      "job_types       4747 non-null object\n",
      "job_tag         4747 non-null object\n",
      "post_time       4747 non-null object\n",
      "job_title       4747 non-null object\n",
      "company         4747 non-null object\n",
      "salary          0 non-null object\n",
      "location        4747 non-null object\n",
      "no_of_review    3609 non-null object\n",
      "job_summary     4747 non-null object\n",
      "dtypes: object(10)\n",
      "memory usage: 407.9+ KB\n"
     ]
    }
   ],
   "source": [
    "df_no_salary.info()"
   ]
  },
  {
   "cell_type": "code",
   "execution_count": 182,
   "metadata": {},
   "outputs": [
    {
     "data": {
      "text/html": [
       "<div>\n",
       "<style scoped>\n",
       "    .dataframe tbody tr th:only-of-type {\n",
       "        vertical-align: middle;\n",
       "    }\n",
       "\n",
       "    .dataframe tbody tr th {\n",
       "        vertical-align: top;\n",
       "    }\n",
       "\n",
       "    .dataframe thead th {\n",
       "        text-align: right;\n",
       "    }\n",
       "</style>\n",
       "<table border=\"1\" class=\"dataframe\">\n",
       "  <thead>\n",
       "    <tr style=\"text-align: right;\">\n",
       "      <th></th>\n",
       "      <th>job_title</th>\n",
       "      <th>company</th>\n",
       "      <th>location</th>\n",
       "      <th>job_summary</th>\n",
       "    </tr>\n",
       "  </thead>\n",
       "  <tbody>\n",
       "    <tr>\n",
       "      <th>0</th>\n",
       "      <td>head of customer insight  analytics</td>\n",
       "      <td>rank group</td>\n",
       "      <td>maidenhead</td>\n",
       "      <td>� responsible for leading a team of analysts a...</td>\n",
       "    </tr>\n",
       "    <tr>\n",
       "      <th>2</th>\n",
       "      <td>insights  analytics intern   week summer place...</td>\n",
       "      <td>asos.com</td>\n",
       "      <td>london</td>\n",
       "      <td>developing a great understanding of modern ana...</td>\n",
       "    </tr>\n",
       "    <tr>\n",
       "      <th>3</th>\n",
       "      <td>intern data analytics</td>\n",
       "      <td>keppel corporation</td>\n",
       "      <td>keppel</td>\n",
       "      <td>supports the data analytics team on project ba...</td>\n",
       "    </tr>\n",
       "    <tr>\n",
       "      <th>4</th>\n",
       "      <td>data  analytics analyst</td>\n",
       "      <td>rbs</td>\n",
       "      <td>belfast</td>\n",
       "      <td>strong analytic and problem solving abilities....</td>\n",
       "    </tr>\n",
       "    <tr>\n",
       "      <th>5</th>\n",
       "      <td>analytics graduate programme</td>\n",
       "      <td>accenture</td>\n",
       "      <td>london</td>\n",
       "      <td>analytics graduate programme. the answer is an...</td>\n",
       "    </tr>\n",
       "  </tbody>\n",
       "</table>\n",
       "</div>"
      ],
      "text/plain": [
       "                                           job_title             company  \\\n",
       "0                head of customer insight  analytics          rank group   \n",
       "2  insights  analytics intern   week summer place...            asos.com   \n",
       "3                              intern data analytics  keppel corporation   \n",
       "4                            data  analytics analyst                 rbs   \n",
       "5                       analytics graduate programme           accenture   \n",
       "\n",
       "     location                                        job_summary  \n",
       "0  maidenhead  � responsible for leading a team of analysts a...  \n",
       "2      london  developing a great understanding of modern ana...  \n",
       "3      keppel  supports the data analytics team on project ba...  \n",
       "4     belfast  strong analytic and problem solving abilities....  \n",
       "5      london  analytics graduate programme. the answer is an...  "
      ]
     },
     "execution_count": 182,
     "metadata": {},
     "output_type": "execute_result"
    }
   ],
   "source": [
    "q1_no_salary=df_no_salary[['job_title', 'company','location', 'job_summary']]\n",
    "q1_no_salary.head()"
   ]
  },
  {
   "cell_type": "code",
   "execution_count": 186,
   "metadata": {},
   "outputs": [],
   "source": [
    "# Get TFIDF for job title\n",
    "job_title_tvec_nosal = TfidfVectorizer(ngram_range=(1,3), stop_words='english', min_df=2, max_df=0.5, max_features=25)\n",
    "job_title_tvec_nosal.fit(q1_no_salary['job_title'])\n",
    "job_title_tvec_nosal_df = pd.DataFrame(job_title_tvec_nosal.transform(q1_no_salary['job_title']).todense(),\n",
    "                       columns=['title_[' + f + ']' for f in job_title_tvec_nosal.get_feature_names()])"
   ]
  },
  {
   "cell_type": "code",
   "execution_count": 187,
   "metadata": {},
   "outputs": [],
   "source": [
    "# Get TFIDF for job summary\n",
    "job_summary_tvec_nosal = TfidfVectorizer(ngram_range=(1,3), stop_words='english', min_df=2, max_df=0.5, max_features=25)\n",
    "job_summary_tvec_nosal.fit(q1_no_salary['job_summary'])\n",
    "job_summary_tvec_nosal_df = pd.DataFrame(job_summary_tvec_nosal.transform(q1_no_salary['job_summary']).todense(),\n",
    "                       columns=['title_[' + f + ']' for f in job_summary_tvec_nosal.get_feature_names()])"
   ]
  },
  {
   "cell_type": "code",
   "execution_count": 188,
   "metadata": {},
   "outputs": [],
   "source": [
    "# Get TFIDF for company\n",
    "job_company_tvec_nosal = TfidfVectorizer(ngram_range=(1,3), stop_words='english', min_df=2, max_df=0.5, max_features=25)\n",
    "job_company_tvec_nosal.fit(q1_no_salary['company'])\n",
    "job_company_tvec_nosal_df = pd.DataFrame(job_company_tvec_nosal.transform(q1_no_salary['company']).todense(),\n",
    "                       columns=['title_[' + f + ']' for f in job_company_tvec_nosal.get_feature_names()])"
   ]
  },
  {
   "cell_type": "code",
   "execution_count": 189,
   "metadata": {},
   "outputs": [],
   "source": [
    "# Get TFIDF for location\n",
    "job_location_tvec_nosal = TfidfVectorizer(ngram_range=(1,3), stop_words='english', min_df=2, max_df=0.5, max_features=25)\n",
    "job_location_tvec_nosal.fit(q1_no_salary['location'])\n",
    "job_location_tvec_nosal_df = pd.DataFrame(job_location_tvec_nosal.transform(q1_no_salary['location']).todense(),\n",
    "                       columns=['title_[' + f + ']' for f in job_location_tvec_nosal.get_feature_names()])"
   ]
  },
  {
   "cell_type": "code",
   "execution_count": 190,
   "metadata": {},
   "outputs": [],
   "source": [
    "X_without_sal = pd.concat([job_title_tvec_nosal_df,job_summary_tvec_nosal_df,job_company_tvec_nosal_df,job_location_tvec_nosal_df], axis=1)"
   ]
  },
  {
   "cell_type": "code",
   "execution_count": 191,
   "metadata": {},
   "outputs": [],
   "source": [
    "# Standardize predictors\n",
    "X_without_sal_ss = StandardScaler().fit_transform(X_without_sal)"
   ]
  },
  {
   "cell_type": "code",
   "execution_count": 192,
   "metadata": {},
   "outputs": [],
   "source": [
    "X_without_sal_ss = pd.DataFrame(X_without_sal_ss, columns=X_without_sal.columns)"
   ]
  },
  {
   "cell_type": "code",
   "execution_count": 196,
   "metadata": {},
   "outputs": [
    {
     "name": "stderr",
     "output_type": "stream",
     "text": [
      "C:\\Users\\zhixi\\Anaconda3\\lib\\site-packages\\ipykernel_launcher.py:2: SettingWithCopyWarning: \n",
      "A value is trying to be set on a copy of a slice from a DataFrame.\n",
      "Try using .loc[row_indexer,col_indexer] = value instead\n",
      "\n",
      "See the caveats in the documentation: http://pandas.pydata.org/pandas-docs/stable/indexing.html#indexing-view-versus-copy\n",
      "  \n",
      "C:\\Users\\zhixi\\Anaconda3\\lib\\site-packages\\pandas\\core\\frame.py:3781: SettingWithCopyWarning: \n",
      "A value is trying to be set on a copy of a slice from a DataFrame\n",
      "\n",
      "See the caveats in the documentation: http://pandas.pydata.org/pandas-docs/stable/indexing.html#indexing-view-versus-copy\n",
      "  return super(DataFrame, self).rename(**kwargs)\n"
     ]
    }
   ],
   "source": [
    "pred = dtc_best.predict(X_without_sal_ss)\n",
    "q1_no_salary['salary'] = pred\n",
    "q1_no_salary.rename(index=str, columns={\"salary\": \"salary_high_tier\"}, inplace=True)"
   ]
  },
  {
   "cell_type": "code",
   "execution_count": 197,
   "metadata": {},
   "outputs": [
    {
     "data": {
      "text/html": [
       "<div>\n",
       "<style scoped>\n",
       "    .dataframe tbody tr th:only-of-type {\n",
       "        vertical-align: middle;\n",
       "    }\n",
       "\n",
       "    .dataframe tbody tr th {\n",
       "        vertical-align: top;\n",
       "    }\n",
       "\n",
       "    .dataframe thead th {\n",
       "        text-align: right;\n",
       "    }\n",
       "</style>\n",
       "<table border=\"1\" class=\"dataframe\">\n",
       "  <thead>\n",
       "    <tr style=\"text-align: right;\">\n",
       "      <th></th>\n",
       "      <th>job_title</th>\n",
       "      <th>company</th>\n",
       "      <th>location</th>\n",
       "      <th>job_summary</th>\n",
       "      <th>salary_high_tier</th>\n",
       "    </tr>\n",
       "  </thead>\n",
       "  <tbody>\n",
       "    <tr>\n",
       "      <th>0</th>\n",
       "      <td>head of customer insight  analytics</td>\n",
       "      <td>rank group</td>\n",
       "      <td>maidenhead</td>\n",
       "      <td>� responsible for leading a team of analysts a...</td>\n",
       "      <td>0</td>\n",
       "    </tr>\n",
       "    <tr>\n",
       "      <th>2</th>\n",
       "      <td>insights  analytics intern   week summer place...</td>\n",
       "      <td>asos.com</td>\n",
       "      <td>london</td>\n",
       "      <td>developing a great understanding of modern ana...</td>\n",
       "      <td>0</td>\n",
       "    </tr>\n",
       "    <tr>\n",
       "      <th>3</th>\n",
       "      <td>intern data analytics</td>\n",
       "      <td>keppel corporation</td>\n",
       "      <td>keppel</td>\n",
       "      <td>supports the data analytics team on project ba...</td>\n",
       "      <td>0</td>\n",
       "    </tr>\n",
       "    <tr>\n",
       "      <th>4</th>\n",
       "      <td>data  analytics analyst</td>\n",
       "      <td>rbs</td>\n",
       "      <td>belfast</td>\n",
       "      <td>strong analytic and problem solving abilities....</td>\n",
       "      <td>0</td>\n",
       "    </tr>\n",
       "    <tr>\n",
       "      <th>5</th>\n",
       "      <td>analytics graduate programme</td>\n",
       "      <td>accenture</td>\n",
       "      <td>london</td>\n",
       "      <td>analytics graduate programme. the answer is an...</td>\n",
       "      <td>0</td>\n",
       "    </tr>\n",
       "  </tbody>\n",
       "</table>\n",
       "</div>"
      ],
      "text/plain": [
       "                                           job_title             company  \\\n",
       "0                head of customer insight  analytics          rank group   \n",
       "2  insights  analytics intern   week summer place...            asos.com   \n",
       "3                              intern data analytics  keppel corporation   \n",
       "4                            data  analytics analyst                 rbs   \n",
       "5                       analytics graduate programme           accenture   \n",
       "\n",
       "     location                                        job_summary  \\\n",
       "0  maidenhead  � responsible for leading a team of analysts a...   \n",
       "2      london  developing a great understanding of modern ana...   \n",
       "3      keppel  supports the data analytics team on project ba...   \n",
       "4     belfast  strong analytic and problem solving abilities....   \n",
       "5      london  analytics graduate programme. the answer is an...   \n",
       "\n",
       "   salary_high_tier  \n",
       "0                 0  \n",
       "2                 0  \n",
       "3                 0  \n",
       "4                 0  \n",
       "5                 0  "
      ]
     },
     "execution_count": 197,
     "metadata": {},
     "output_type": "execute_result"
    }
   ],
   "source": [
    "q1_no_salary.head()"
   ]
  },
  {
   "cell_type": "code",
   "execution_count": 198,
   "metadata": {},
   "outputs": [
    {
     "data": {
      "text/plain": [
       "0    2872\n",
       "1    1875\n",
       "Name: salary_high_tier, dtype: int64"
      ]
     },
     "execution_count": 198,
     "metadata": {},
     "output_type": "execute_result"
    }
   ],
   "source": [
    "q1_no_salary['salary_high_tier'].value_counts()"
   ]
  },
  {
   "cell_type": "code",
   "execution_count": 199,
   "metadata": {},
   "outputs": [],
   "source": [
    "# Merge predicted with original\n",
    "final_df = pd.concat([q1_no_salary, q1_salary], axis=0, ignore_index=True)"
   ]
  },
  {
   "cell_type": "code",
   "execution_count": 200,
   "metadata": {},
   "outputs": [
    {
     "data": {
      "text/plain": [
       "7579"
      ]
     },
     "execution_count": 200,
     "metadata": {},
     "output_type": "execute_result"
    }
   ],
   "source": [
    "len(final_df)"
   ]
  },
  {
   "cell_type": "code",
   "execution_count": 201,
   "metadata": {},
   "outputs": [
    {
     "data": {
      "text/html": [
       "<div>\n",
       "<style scoped>\n",
       "    .dataframe tbody tr th:only-of-type {\n",
       "        vertical-align: middle;\n",
       "    }\n",
       "\n",
       "    .dataframe tbody tr th {\n",
       "        vertical-align: top;\n",
       "    }\n",
       "\n",
       "    .dataframe thead th {\n",
       "        text-align: right;\n",
       "    }\n",
       "</style>\n",
       "<table border=\"1\" class=\"dataframe\">\n",
       "  <thead>\n",
       "    <tr style=\"text-align: right;\">\n",
       "      <th></th>\n",
       "      <th>job_title</th>\n",
       "      <th>company</th>\n",
       "      <th>location</th>\n",
       "      <th>job_summary</th>\n",
       "      <th>salary_high_tier</th>\n",
       "    </tr>\n",
       "  </thead>\n",
       "  <tbody>\n",
       "    <tr>\n",
       "      <th>0</th>\n",
       "      <td>head of customer insight  analytics</td>\n",
       "      <td>rank group</td>\n",
       "      <td>maidenhead</td>\n",
       "      <td>� responsible for leading a team of analysts a...</td>\n",
       "      <td>0</td>\n",
       "    </tr>\n",
       "    <tr>\n",
       "      <th>1</th>\n",
       "      <td>insights  analytics intern   week summer place...</td>\n",
       "      <td>asos.com</td>\n",
       "      <td>london</td>\n",
       "      <td>developing a great understanding of modern ana...</td>\n",
       "      <td>0</td>\n",
       "    </tr>\n",
       "    <tr>\n",
       "      <th>2</th>\n",
       "      <td>intern data analytics</td>\n",
       "      <td>keppel corporation</td>\n",
       "      <td>keppel</td>\n",
       "      <td>supports the data analytics team on project ba...</td>\n",
       "      <td>0</td>\n",
       "    </tr>\n",
       "    <tr>\n",
       "      <th>3</th>\n",
       "      <td>data  analytics analyst</td>\n",
       "      <td>rbs</td>\n",
       "      <td>belfast</td>\n",
       "      <td>strong analytic and problem solving abilities....</td>\n",
       "      <td>0</td>\n",
       "    </tr>\n",
       "    <tr>\n",
       "      <th>4</th>\n",
       "      <td>analytics graduate programme</td>\n",
       "      <td>accenture</td>\n",
       "      <td>london</td>\n",
       "      <td>analytics graduate programme. the answer is an...</td>\n",
       "      <td>0</td>\n",
       "    </tr>\n",
       "  </tbody>\n",
       "</table>\n",
       "</div>"
      ],
      "text/plain": [
       "                                           job_title             company  \\\n",
       "0                head of customer insight  analytics          rank group   \n",
       "1  insights  analytics intern   week summer place...            asos.com   \n",
       "2                              intern data analytics  keppel corporation   \n",
       "3                            data  analytics analyst                 rbs   \n",
       "4                       analytics graduate programme           accenture   \n",
       "\n",
       "     location                                        job_summary  \\\n",
       "0  maidenhead  � responsible for leading a team of analysts a...   \n",
       "1      london  developing a great understanding of modern ana...   \n",
       "2      keppel  supports the data analytics team on project ba...   \n",
       "3     belfast  strong analytic and problem solving abilities....   \n",
       "4      london  analytics graduate programme. the answer is an...   \n",
       "\n",
       "   salary_high_tier  \n",
       "0                 0  \n",
       "1                 0  \n",
       "2                 0  \n",
       "3                 0  \n",
       "4                 0  "
      ]
     },
     "execution_count": 201,
     "metadata": {},
     "output_type": "execute_result"
    }
   ],
   "source": [
    "final_df.head()"
   ]
  },
  {
   "cell_type": "code",
   "execution_count": 202,
   "metadata": {},
   "outputs": [
    {
     "name": "stdout",
     "output_type": "stream",
     "text": [
      "<class 'pandas.core.frame.DataFrame'>\n",
      "RangeIndex: 7579 entries, 0 to 7578\n",
      "Data columns (total 5 columns):\n",
      "job_title           7579 non-null object\n",
      "company             7579 non-null object\n",
      "location            7579 non-null object\n",
      "job_summary         7579 non-null object\n",
      "salary_high_tier    7579 non-null int64\n",
      "dtypes: int64(1), object(4)\n",
      "memory usage: 296.1+ KB\n"
     ]
    }
   ],
   "source": [
    "final_df.info()"
   ]
  },
  {
   "cell_type": "code",
   "execution_count": 204,
   "metadata": {},
   "outputs": [
    {
     "data": {
      "text/plain": [
       "0    4299\n",
       "1    3280\n",
       "Name: salary_high_tier, dtype: int64"
      ]
     },
     "execution_count": 204,
     "metadata": {},
     "output_type": "execute_result"
    }
   ],
   "source": [
    "final_df['salary_high_tier'].value_counts()"
   ]
  },
  {
   "cell_type": "code",
   "execution_count": 205,
   "metadata": {},
   "outputs": [],
   "source": [
    "# Get TFIDF for job title\n",
    "job_title_tvec_final = TfidfVectorizer(ngram_range=(1,3), stop_words='english', min_df=2, max_df=0.5, max_features=25)\n",
    "job_title_tvec_final.fit(final_df.job_title)\n",
    "job_title_tvec_final_df = pd.DataFrame(job_title_tvec_final.transform(final_df.job_title).todense(),\n",
    "                       columns=['title_[' + f + ']' for f in job_title_tvec_final.get_feature_names()])"
   ]
  },
  {
   "cell_type": "code",
   "execution_count": 206,
   "metadata": {},
   "outputs": [],
   "source": [
    "# Get TFIDF for job summary\n",
    "job_summary_tvec_final = TfidfVectorizer(ngram_range=(1,3), stop_words='english', min_df=2, max_df=0.5, max_features=25)\n",
    "job_summary_tvec_final.fit(final_df['job_summary'])\n",
    "job_summary_tvec_final_df = pd.DataFrame(job_summary_tvec_final.transform(final_df['job_summary']).todense(),\n",
    "                       columns=['summary_[' + f + ']' for f in job_summary_tvec_final.get_feature_names()])"
   ]
  },
  {
   "cell_type": "code",
   "execution_count": 207,
   "metadata": {},
   "outputs": [],
   "source": [
    "# Get TFIDF for company name\n",
    "job_company_tvec_final = TfidfVectorizer(ngram_range=(1,3), stop_words='english', min_df=2, max_df=0.5, max_features=25)\n",
    "job_company_tvec_final.fit(final_df['company'])\n",
    "job_company_tvec_final_df = pd.DataFrame(job_company_tvec_final.transform(final_df['company']).todense(),\n",
    "                       columns=['company_[' + f + ']' for f in job_company_tvec_final.get_feature_names()])"
   ]
  },
  {
   "cell_type": "code",
   "execution_count": 208,
   "metadata": {},
   "outputs": [],
   "source": [
    "# Get TFIDF for location \n",
    "job_location_tvec_final = TfidfVectorizer(ngram_range=(1,3), stop_words='english', min_df=2, max_df=0.5, max_features=25)\n",
    "job_location_tvec_final.fit(final_df['location'])\n",
    "job_location_tvec_final_df = pd.DataFrame(job_location_tvec_final.transform(final_df['location']).todense(),\n",
    "                       columns=['company_[' + f + ']' for f in job_location_tvec_final.get_feature_names()])"
   ]
  },
  {
   "cell_type": "code",
   "execution_count": 209,
   "metadata": {},
   "outputs": [],
   "source": [
    "X = pd.concat([job_title_tvec_final_df, job_summary_tvec_final_df, job_company_tvec_final_df,job_location_tvec_final_df], axis=1)\n",
    "y = final_df['salary_high_tier']"
   ]
  },
  {
   "cell_type": "code",
   "execution_count": 210,
   "metadata": {},
   "outputs": [],
   "source": [
    "# Standardize predictors\n",
    "Xs = StandardScaler().fit_transform(X)\n",
    "Xs = pd.DataFrame(Xs, columns=X.columns)"
   ]
  },
  {
   "cell_type": "code",
   "execution_count": 211,
   "metadata": {},
   "outputs": [],
   "source": [
    "X_train, X_test, y_train, y_test = train_test_split(Xs, y, test_size=0.33, random_state=42)"
   ]
  },
  {
   "cell_type": "code",
   "execution_count": 212,
   "metadata": {},
   "outputs": [
    {
     "name": "stdout",
     "output_type": "stream",
     "text": [
      "GRID SEARCH:\n",
      "Best parameters set:\n",
      "\tC: 0.04328761281083057\n",
      "\tpenalty: 'l1'\n",
      "\tsolver: 'liblinear'\n"
     ]
    }
   ],
   "source": [
    "# Gridsearch for Ridge and Lasso Logistic Regression, optimize C\n",
    "\n",
    "parameters = {\n",
    "    'penalty':['l1','l2'],\n",
    "    'solver':['liblinear'],\n",
    "    'C':np.logspace(-5,0,100)\n",
    "}\n",
    "\n",
    "print (\"GRID SEARCH:\")\n",
    "lr_grid_search = GridSearchCV(LogisticRegression(), parameters, cv=10, verbose=0)\n",
    "lr_grid_search.fit(X_train, y_train)\n",
    "print (\"Best parameters set:\")\n",
    "lr_best_parameters = lr_grid_search.best_estimator_.get_params()\n",
    "for param_name in sorted(parameters.keys()):\n",
    "    print (\"\\t%s: %r\" % (param_name, lr_best_parameters[param_name]))"
   ]
  },
  {
   "cell_type": "code",
   "execution_count": 213,
   "metadata": {},
   "outputs": [
    {
     "name": "stdout",
     "output_type": "stream",
     "text": [
      "Logistic Regression with best param:\n",
      "              precision    recall  f1-score   support\n",
      "\n",
      " high salary       0.73      0.64      0.68      1050\n",
      "  low salary       0.76      0.83      0.79      1452\n",
      "\n",
      "   micro avg       0.75      0.75      0.75      2502\n",
      "   macro avg       0.74      0.73      0.74      2502\n",
      "weighted avg       0.75      0.75      0.74      2502\n",
      "\n"
     ]
    }
   ],
   "source": [
    "print(\"Logistic Regression with best param:\")\n",
    "clf = LogisticRegression(**lr_best_parameters)\n",
    "clf.fit(X_train, y_train)\n",
    "lr_gs_pred = clf.predict(X_test)\n",
    "print(metrics.classification_report(y_test, lr_gs_pred, labels=[1,0], target_names=['high salary','low salary']))"
   ]
  },
  {
   "cell_type": "code",
   "execution_count": 214,
   "metadata": {},
   "outputs": [],
   "source": [
    "# Gridsearch params for decision tree classifier\n",
    "dtc_params = {\n",
    "    'max_depth':[None,1,2,3,4],\n",
    "    'max_features':[None,'log2','sqrt',2,3,4,5],\n",
    "    'min_samples_split':[2,3,4,5,10,15,20,25,30,40,50]\n",
    "}\n",
    "\n",
    "# set the gridsearch\n",
    "dtc_gs = GridSearchCV(DecisionTreeClassifier(), dtc_params, cv=5, verbose=1)"
   ]
  },
  {
   "cell_type": "code",
   "execution_count": 215,
   "metadata": {},
   "outputs": [
    {
     "name": "stdout",
     "output_type": "stream",
     "text": [
      "Fitting 5 folds for each of 385 candidates, totalling 1925 fits\n"
     ]
    },
    {
     "name": "stderr",
     "output_type": "stream",
     "text": [
      "[Parallel(n_jobs=1)]: Using backend SequentialBackend with 1 concurrent workers.\n",
      "[Parallel(n_jobs=1)]: Done 1925 out of 1925 | elapsed:   19.9s finished\n"
     ]
    },
    {
     "data": {
      "text/plain": [
       "GridSearchCV(cv=5, error_score='raise-deprecating',\n",
       "       estimator=DecisionTreeClassifier(class_weight=None, criterion='gini', max_depth=None,\n",
       "            max_features=None, max_leaf_nodes=None,\n",
       "            min_impurity_decrease=0.0, min_impurity_split=None,\n",
       "            min_samples_leaf=1, min_samples_split=2,\n",
       "            min_weight_fraction_leaf=0.0, presort=False, random_state=None,\n",
       "            splitter='best'),\n",
       "       fit_params=None, iid='warn', n_jobs=None,\n",
       "       param_grid={'max_depth': [None, 1, 2, 3, 4], 'max_features': [None, 'log2', 'sqrt', 2, 3, 4, 5], 'min_samples_split': [2, 3, 4, 5, 10, 15, 20, 25, 30, 40, 50]},\n",
       "       pre_dispatch='2*n_jobs', refit=True, return_train_score='warn',\n",
       "       scoring=None, verbose=1)"
      ]
     },
     "execution_count": 215,
     "metadata": {},
     "output_type": "execute_result"
    }
   ],
   "source": [
    "# use the gridsearch C model to fit the data\n",
    "dtc_gs.fit(X_train, y_train)"
   ]
  },
  {
   "cell_type": "code",
   "execution_count": 216,
   "metadata": {},
   "outputs": [
    {
     "name": "stdout",
     "output_type": "stream",
     "text": [
      "{'max_depth': None, 'max_features': None, 'min_samples_split': 50}\n",
      "0.7167618672444357\n"
     ]
    }
   ],
   "source": [
    "# Best Estimator\n",
    "dtc_best = dtc_gs.best_estimator_\n",
    "print(dtc_gs.best_params_)\n",
    "print(dtc_gs.best_score_)"
   ]
  },
  {
   "cell_type": "code",
   "execution_count": 217,
   "metadata": {},
   "outputs": [
    {
     "name": "stdout",
     "output_type": "stream",
     "text": [
      "              precision    recall  f1-score   support\n",
      "\n",
      " high salary       0.70      0.69      0.69      1050\n",
      "  low salary       0.78      0.78      0.78      1452\n",
      "\n",
      "   micro avg       0.74      0.74      0.74      2502\n",
      "   macro avg       0.74      0.74      0.74      2502\n",
      "weighted avg       0.74      0.74      0.74      2502\n",
      "\n"
     ]
    }
   ],
   "source": [
    "pred = dtc_best.predict(X_test)\n",
    "print(classification_report(y_test, pred, labels=[1,0], target_names=['high salary','low salary']))"
   ]
  },
  {
   "cell_type": "markdown",
   "metadata": {},
   "source": [
    "It seems for the final nmodel, the decision tree and logistic regression achieve similar results."
   ]
  },
  {
   "cell_type": "code",
   "execution_count": 218,
   "metadata": {},
   "outputs": [
    {
     "data": {
      "text/html": [
       "<div>\n",
       "<style scoped>\n",
       "    .dataframe tbody tr th:only-of-type {\n",
       "        vertical-align: middle;\n",
       "    }\n",
       "\n",
       "    .dataframe tbody tr th {\n",
       "        vertical-align: top;\n",
       "    }\n",
       "\n",
       "    .dataframe thead th {\n",
       "        text-align: right;\n",
       "    }\n",
       "</style>\n",
       "<table border=\"1\" class=\"dataframe\">\n",
       "  <thead>\n",
       "    <tr style=\"text-align: right;\">\n",
       "      <th></th>\n",
       "      <th>feature</th>\n",
       "      <th>importance</th>\n",
       "    </tr>\n",
       "  </thead>\n",
       "  <tbody>\n",
       "    <tr>\n",
       "      <th>33</th>\n",
       "      <td>summary_[engineer]</td>\n",
       "      <td>0.110808</td>\n",
       "    </tr>\n",
       "    <tr>\n",
       "      <th>44</th>\n",
       "      <td>summary_[scientist]</td>\n",
       "      <td>0.058249</td>\n",
       "    </tr>\n",
       "    <tr>\n",
       "      <th>41</th>\n",
       "      <td>summary_[new]</td>\n",
       "      <td>0.052027</td>\n",
       "    </tr>\n",
       "    <tr>\n",
       "      <th>27</th>\n",
       "      <td>summary_[analytics]</td>\n",
       "      <td>0.049484</td>\n",
       "    </tr>\n",
       "    <tr>\n",
       "      <th>0</th>\n",
       "      <td>title_[analyst]</td>\n",
       "      <td>0.043906</td>\n",
       "    </tr>\n",
       "    <tr>\n",
       "      <th>21</th>\n",
       "      <td>title_[senior]</td>\n",
       "      <td>0.043271</td>\n",
       "    </tr>\n",
       "    <tr>\n",
       "      <th>40</th>\n",
       "      <td>summary_[management]</td>\n",
       "      <td>0.032787</td>\n",
       "    </tr>\n",
       "    <tr>\n",
       "      <th>55</th>\n",
       "      <td>company_[harnham]</td>\n",
       "      <td>0.030893</td>\n",
       "    </tr>\n",
       "    <tr>\n",
       "      <th>39</th>\n",
       "      <td>summary_[looking]</td>\n",
       "      <td>0.026596</td>\n",
       "    </tr>\n",
       "    <tr>\n",
       "      <th>36</th>\n",
       "      <td>summary_[information]</td>\n",
       "      <td>0.024826</td>\n",
       "    </tr>\n",
       "  </tbody>\n",
       "</table>\n",
       "</div>"
      ],
      "text/plain": [
       "                  feature  importance\n",
       "33     summary_[engineer]    0.110808\n",
       "44    summary_[scientist]    0.058249\n",
       "41          summary_[new]    0.052027\n",
       "27    summary_[analytics]    0.049484\n",
       "0         title_[analyst]    0.043906\n",
       "21         title_[senior]    0.043271\n",
       "40   summary_[management]    0.032787\n",
       "55      company_[harnham]    0.030893\n",
       "39      summary_[looking]    0.026596\n",
       "36  summary_[information]    0.024826"
      ]
     },
     "execution_count": 218,
     "metadata": {},
     "output_type": "execute_result"
    }
   ],
   "source": [
    "fi = pd.DataFrame({\n",
    "        'feature':X_train.columns,\n",
    "        'importance':dtc_best.feature_importances_\n",
    "    })\n",
    "\n",
    "fi.sort_values('importance', ascending=False, inplace=True)\n",
    "fi.head(10)"
   ]
  },
  {
   "cell_type": "code",
   "execution_count": 219,
   "metadata": {},
   "outputs": [
    {
     "data": {
      "text/html": [
       "<div>\n",
       "<style scoped>\n",
       "    .dataframe tbody tr th:only-of-type {\n",
       "        vertical-align: middle;\n",
       "    }\n",
       "\n",
       "    .dataframe tbody tr th {\n",
       "        vertical-align: top;\n",
       "    }\n",
       "\n",
       "    .dataframe thead th {\n",
       "        text-align: right;\n",
       "    }\n",
       "</style>\n",
       "<table border=\"1\" class=\"dataframe\">\n",
       "  <thead>\n",
       "    <tr style=\"text-align: right;\">\n",
       "      <th></th>\n",
       "      <th>coef</th>\n",
       "      <th>mag</th>\n",
       "      <th>pred</th>\n",
       "    </tr>\n",
       "  </thead>\n",
       "  <tbody>\n",
       "    <tr>\n",
       "      <th>33</th>\n",
       "      <td>0.514950</td>\n",
       "      <td>0.514950</td>\n",
       "      <td>summary_[engineer]</td>\n",
       "    </tr>\n",
       "    <tr>\n",
       "      <th>44</th>\n",
       "      <td>0.402233</td>\n",
       "      <td>0.402233</td>\n",
       "      <td>summary_[scientist]</td>\n",
       "    </tr>\n",
       "    <tr>\n",
       "      <th>41</th>\n",
       "      <td>0.330121</td>\n",
       "      <td>0.330121</td>\n",
       "      <td>summary_[new]</td>\n",
       "    </tr>\n",
       "    <tr>\n",
       "      <th>27</th>\n",
       "      <td>0.299814</td>\n",
       "      <td>0.299814</td>\n",
       "      <td>summary_[analytics]</td>\n",
       "    </tr>\n",
       "    <tr>\n",
       "      <th>40</th>\n",
       "      <td>-0.273622</td>\n",
       "      <td>0.273622</td>\n",
       "      <td>summary_[management]</td>\n",
       "    </tr>\n",
       "    <tr>\n",
       "      <th>21</th>\n",
       "      <td>0.272458</td>\n",
       "      <td>0.272458</td>\n",
       "      <td>title_[senior]</td>\n",
       "    </tr>\n",
       "    <tr>\n",
       "      <th>0</th>\n",
       "      <td>-0.266348</td>\n",
       "      <td>0.266348</td>\n",
       "      <td>title_[analyst]</td>\n",
       "    </tr>\n",
       "    <tr>\n",
       "      <th>55</th>\n",
       "      <td>0.234146</td>\n",
       "      <td>0.234146</td>\n",
       "      <td>company_[harnham]</td>\n",
       "    </tr>\n",
       "    <tr>\n",
       "      <th>39</th>\n",
       "      <td>0.207034</td>\n",
       "      <td>0.207034</td>\n",
       "      <td>summary_[looking]</td>\n",
       "    </tr>\n",
       "    <tr>\n",
       "      <th>86</th>\n",
       "      <td>0.196601</td>\n",
       "      <td>0.196601</td>\n",
       "      <td>company_[london]</td>\n",
       "    </tr>\n",
       "  </tbody>\n",
       "</table>\n",
       "</div>"
      ],
      "text/plain": [
       "        coef       mag                  pred\n",
       "33  0.514950  0.514950    summary_[engineer]\n",
       "44  0.402233  0.402233   summary_[scientist]\n",
       "41  0.330121  0.330121         summary_[new]\n",
       "27  0.299814  0.299814   summary_[analytics]\n",
       "40 -0.273622  0.273622  summary_[management]\n",
       "21  0.272458  0.272458        title_[senior]\n",
       "0  -0.266348  0.266348       title_[analyst]\n",
       "55  0.234146  0.234146     company_[harnham]\n",
       "39  0.207034  0.207034     summary_[looking]\n",
       "86  0.196601  0.196601      company_[london]"
      ]
     },
     "execution_count": 219,
     "metadata": {},
     "output_type": "execute_result"
    }
   ],
   "source": [
    "lr_coef = pd.DataFrame({'coef':clf.coef_.ravel(),\n",
    "                    'mag':np.abs(clf.coef_.ravel()),\n",
    "                    'pred':X_test.columns})\n",
    "\n",
    "lr_coef.sort_values('mag', ascending=False, inplace=True)\n",
    "lr_coef.head(10)"
   ]
  },
  {
   "cell_type": "markdown",
   "metadata": {},
   "source": [
    "Interstingly, decision tree gives us the most important feature for the combined data is now 'engineer' and second by 'scientist'. Perhaps, the demand for data engineer or machine learning engineer is increasing. It seems these two models are not very good as the results are not consisten. As our baseline model says the top 2 important features are : location (london) and job title(graduate), and now the final model says the top 2 important features are both from job summary: engineer and scientist. "
   ]
  },
  {
   "cell_type": "code",
   "execution_count": 220,
   "metadata": {},
   "outputs": [],
   "source": [
    "final_df.to_csv('q1_final.csv')"
   ]
  },
  {
   "cell_type": "code",
   "execution_count": 321,
   "metadata": {},
   "outputs": [
    {
     "data": {
      "text/html": [
       "<div>\n",
       "<style scoped>\n",
       "    .dataframe tbody tr th:only-of-type {\n",
       "        vertical-align: middle;\n",
       "    }\n",
       "\n",
       "    .dataframe tbody tr th {\n",
       "        vertical-align: top;\n",
       "    }\n",
       "\n",
       "    .dataframe thead th {\n",
       "        text-align: right;\n",
       "    }\n",
       "</style>\n",
       "<table border=\"1\" class=\"dataframe\">\n",
       "  <thead>\n",
       "    <tr style=\"text-align: right;\">\n",
       "      <th></th>\n",
       "      <th>job_title</th>\n",
       "      <th>company</th>\n",
       "      <th>location</th>\n",
       "      <th>job_summary</th>\n",
       "      <th>salary_high_tier</th>\n",
       "    </tr>\n",
       "  </thead>\n",
       "  <tbody>\n",
       "    <tr>\n",
       "      <th>0</th>\n",
       "      <td>head of customer insight  analytics</td>\n",
       "      <td>rank group</td>\n",
       "      <td>maidenhead</td>\n",
       "      <td>� responsible for leading a team of analysts a...</td>\n",
       "      <td>0</td>\n",
       "    </tr>\n",
       "    <tr>\n",
       "      <th>1</th>\n",
       "      <td>insights  analytics intern   week summer place...</td>\n",
       "      <td>asos.com</td>\n",
       "      <td>london</td>\n",
       "      <td>developing a great understanding of modern ana...</td>\n",
       "      <td>0</td>\n",
       "    </tr>\n",
       "  </tbody>\n",
       "</table>\n",
       "</div>"
      ],
      "text/plain": [
       "                                           job_title     company    location  \\\n",
       "0                head of customer insight  analytics  rank group  maidenhead   \n",
       "1  insights  analytics intern   week summer place...    asos.com      london   \n",
       "\n",
       "                                         job_summary  salary_high_tier  \n",
       "0  � responsible for leading a team of analysts a...                 0  \n",
       "1  developing a great understanding of modern ana...                 0  "
      ]
     },
     "execution_count": 321,
     "metadata": {},
     "output_type": "execute_result"
    }
   ],
   "source": [
    "final_df.head(2)"
   ]
  },
  {
   "cell_type": "markdown",
   "metadata": {},
   "source": [
    "## Question 2\n",
    "Using the job postings you scraped for part 1 (or potentially new job postings from a second round of scraping), identify features in the data related to job postings that can distinguish job titles from each other. There are a variety of interesting ways you can frame the target variable, for example:\n",
    "\n",
    "    What components of a job posting distinguish data scientists from other data jobs?\n",
    "    What features are important for distinguishing junior vs. senior positions?\n",
    "    Do the requirements for titles vary significantly with industry (e.g. healthcare vs. government)?\n",
    "\n",
    "You may end up making multiple classification models to tackle different questions. Be sure to clearly explain your hypotheses and framing, any feature engineering, and what your target variables are. The type of classification model you choose is up to you. Be sure to interpret your results and evaluate your models' performance."
   ]
  },
  {
   "cell_type": "code",
   "execution_count": 322,
   "metadata": {},
   "outputs": [],
   "source": [
    "#q2_df =final_df.copy()"
   ]
  },
  {
   "cell_type": "code",
   "execution_count": 2,
   "metadata": {},
   "outputs": [],
   "source": [
    "q2_df=pd.read_csv('q1_final.csv')"
   ]
  },
  {
   "cell_type": "code",
   "execution_count": 3,
   "metadata": {},
   "outputs": [
    {
     "data": {
      "text/html": [
       "<div>\n",
       "<style scoped>\n",
       "    .dataframe tbody tr th:only-of-type {\n",
       "        vertical-align: middle;\n",
       "    }\n",
       "\n",
       "    .dataframe tbody tr th {\n",
       "        vertical-align: top;\n",
       "    }\n",
       "\n",
       "    .dataframe thead th {\n",
       "        text-align: right;\n",
       "    }\n",
       "</style>\n",
       "<table border=\"1\" class=\"dataframe\">\n",
       "  <thead>\n",
       "    <tr style=\"text-align: right;\">\n",
       "      <th></th>\n",
       "      <th>Unnamed: 0</th>\n",
       "      <th>job_title</th>\n",
       "      <th>company</th>\n",
       "      <th>location</th>\n",
       "      <th>job_summary</th>\n",
       "      <th>salary_high_tier</th>\n",
       "    </tr>\n",
       "  </thead>\n",
       "  <tbody>\n",
       "    <tr>\n",
       "      <th>0</th>\n",
       "      <td>0</td>\n",
       "      <td>head of customer insight  analytics</td>\n",
       "      <td>rank group</td>\n",
       "      <td>maidenhead</td>\n",
       "      <td>� responsible for leading a team of analysts a...</td>\n",
       "      <td>0</td>\n",
       "    </tr>\n",
       "    <tr>\n",
       "      <th>1</th>\n",
       "      <td>1</td>\n",
       "      <td>insights  analytics intern   week summer place...</td>\n",
       "      <td>asos.com</td>\n",
       "      <td>london</td>\n",
       "      <td>developing a great understanding of modern ana...</td>\n",
       "      <td>0</td>\n",
       "    </tr>\n",
       "  </tbody>\n",
       "</table>\n",
       "</div>"
      ],
      "text/plain": [
       "   Unnamed: 0                                          job_title     company  \\\n",
       "0           0                head of customer insight  analytics  rank group   \n",
       "1           1  insights  analytics intern   week summer place...    asos.com   \n",
       "\n",
       "     location                                        job_summary  \\\n",
       "0  maidenhead  � responsible for leading a team of analysts a...   \n",
       "1      london  developing a great understanding of modern ana...   \n",
       "\n",
       "   salary_high_tier  \n",
       "0                 0  \n",
       "1                 0  "
      ]
     },
     "execution_count": 3,
     "metadata": {},
     "output_type": "execute_result"
    }
   ],
   "source": [
    "q2_df.head(2)"
   ]
  },
  {
   "cell_type": "code",
   "execution_count": 4,
   "metadata": {},
   "outputs": [
    {
     "data": {
      "text/plain": [
       "Index(['Unnamed: 0', 'job_title', 'company', 'location', 'job_summary',\n",
       "       'salary_high_tier'],\n",
       "      dtype='object')"
      ]
     },
     "execution_count": 4,
     "metadata": {},
     "output_type": "execute_result"
    }
   ],
   "source": [
    "q2_df.columns"
   ]
  },
  {
   "cell_type": "code",
   "execution_count": 5,
   "metadata": {},
   "outputs": [
    {
     "data": {
      "text/html": [
       "<div>\n",
       "<style scoped>\n",
       "    .dataframe tbody tr th:only-of-type {\n",
       "        vertical-align: middle;\n",
       "    }\n",
       "\n",
       "    .dataframe tbody tr th {\n",
       "        vertical-align: top;\n",
       "    }\n",
       "\n",
       "    .dataframe thead th {\n",
       "        text-align: right;\n",
       "    }\n",
       "</style>\n",
       "<table border=\"1\" class=\"dataframe\">\n",
       "  <thead>\n",
       "    <tr style=\"text-align: right;\">\n",
       "      <th></th>\n",
       "      <th>job_title</th>\n",
       "      <th>company</th>\n",
       "      <th>location</th>\n",
       "      <th>job_summary</th>\n",
       "      <th>salary_high_tier</th>\n",
       "    </tr>\n",
       "  </thead>\n",
       "  <tbody>\n",
       "    <tr>\n",
       "      <th>0</th>\n",
       "      <td>head of customer insight  analytics</td>\n",
       "      <td>rank group</td>\n",
       "      <td>maidenhead</td>\n",
       "      <td>� responsible for leading a team of analysts a...</td>\n",
       "      <td>0</td>\n",
       "    </tr>\n",
       "    <tr>\n",
       "      <th>1</th>\n",
       "      <td>insights  analytics intern   week summer place...</td>\n",
       "      <td>asos.com</td>\n",
       "      <td>london</td>\n",
       "      <td>developing a great understanding of modern ana...</td>\n",
       "      <td>0</td>\n",
       "    </tr>\n",
       "  </tbody>\n",
       "</table>\n",
       "</div>"
      ],
      "text/plain": [
       "                                           job_title     company    location  \\\n",
       "0                head of customer insight  analytics  rank group  maidenhead   \n",
       "1  insights  analytics intern   week summer place...    asos.com      london   \n",
       "\n",
       "                                         job_summary  salary_high_tier  \n",
       "0  � responsible for leading a team of analysts a...                 0  \n",
       "1  developing a great understanding of modern ana...                 0  "
      ]
     },
     "execution_count": 5,
     "metadata": {},
     "output_type": "execute_result"
    }
   ],
   "source": [
    "q2_df.drop('Unnamed: 0',inplace=True,axis=1)\n",
    "q2_df.head(2)"
   ]
  },
  {
   "cell_type": "code",
   "execution_count": 6,
   "metadata": {},
   "outputs": [],
   "source": [
    "data_jobs = q2_df[q2_df['job_title'].str.contains('data')]"
   ]
  },
  {
   "cell_type": "code",
   "execution_count": 7,
   "metadata": {},
   "outputs": [],
   "source": [
    "non_data_jobs = q2_df[~q2_df['job_title'].str.contains('data')]"
   ]
  },
  {
   "cell_type": "code",
   "execution_count": 8,
   "metadata": {},
   "outputs": [
    {
     "data": {
      "text/plain": [
       "(1347, 5)"
      ]
     },
     "execution_count": 8,
     "metadata": {},
     "output_type": "execute_result"
    }
   ],
   "source": [
    "data_jobs.shape"
   ]
  },
  {
   "cell_type": "code",
   "execution_count": 9,
   "metadata": {},
   "outputs": [
    {
     "data": {
      "text/plain": [
       "(6232, 5)"
      ]
     },
     "execution_count": 9,
     "metadata": {},
     "output_type": "execute_result"
    }
   ],
   "source": [
    "non_data_jobs.shape"
   ]
  },
  {
   "cell_type": "code",
   "execution_count": 10,
   "metadata": {},
   "outputs": [],
   "source": [
    "analyst_job=non_data_jobs[non_data_jobs['job_title'].str.contains('analyst')]\n",
    "non_analyst_job=non_data_jobs[~non_data_jobs['job_title'].str.contains('analyst')]"
   ]
  },
  {
   "cell_type": "code",
   "execution_count": 11,
   "metadata": {},
   "outputs": [
    {
     "data": {
      "text/plain": [
       "(1313, 5)"
      ]
     },
     "execution_count": 11,
     "metadata": {},
     "output_type": "execute_result"
    }
   ],
   "source": [
    "analyst_job.shape"
   ]
  },
  {
   "cell_type": "code",
   "execution_count": 12,
   "metadata": {},
   "outputs": [
    {
     "data": {
      "text/plain": [
       "(4919, 5)"
      ]
     },
     "execution_count": 12,
     "metadata": {},
     "output_type": "execute_result"
    }
   ],
   "source": [
    "non_analyst_job.shape"
   ]
  },
  {
   "cell_type": "code",
   "execution_count": 13,
   "metadata": {},
   "outputs": [],
   "source": [
    "# database_job = non_analyst_job[non_analyst_job['job_title'].str.contains('database')]\n",
    "# # non_database_job=non_analyst_job[~non_analyst_job['job_title'].str.contains('database')]"
   ]
  },
  {
   "cell_type": "code",
   "execution_count": 14,
   "metadata": {},
   "outputs": [],
   "source": [
    "# database_job.shape"
   ]
  },
  {
   "cell_type": "code",
   "execution_count": 15,
   "metadata": {},
   "outputs": [],
   "source": [
    "# non_database_job.shape"
   ]
  },
  {
   "cell_type": "code",
   "execution_count": 16,
   "metadata": {},
   "outputs": [],
   "source": [
    "engineer_job=non_analyst_job[non_analyst_job['job_title'].str.contains('engineer')]\n",
    "non_engineer_job=non_analyst_job[~non_analyst_job['job_title'].str.contains('engineer')]"
   ]
  },
  {
   "cell_type": "code",
   "execution_count": 17,
   "metadata": {},
   "outputs": [
    {
     "data": {
      "text/plain": [
       "(1397, 5)"
      ]
     },
     "execution_count": 17,
     "metadata": {},
     "output_type": "execute_result"
    }
   ],
   "source": [
    "engineer_job.shape"
   ]
  },
  {
   "cell_type": "code",
   "execution_count": 18,
   "metadata": {},
   "outputs": [
    {
     "data": {
      "text/plain": [
       "(3522, 5)"
      ]
     },
     "execution_count": 18,
     "metadata": {},
     "output_type": "execute_result"
    }
   ],
   "source": [
    "non_engineer_job.shape"
   ]
  },
  {
   "cell_type": "code",
   "execution_count": 19,
   "metadata": {},
   "outputs": [],
   "source": [
    "manager_job=non_engineer_job[non_engineer_job['job_title'].str.contains('manager')]\n",
    "non_manger_job=non_engineer_job[~non_engineer_job['job_title'].str.contains('manager')]"
   ]
  },
  {
   "cell_type": "code",
   "execution_count": 20,
   "metadata": {},
   "outputs": [
    {
     "data": {
      "text/plain": [
       "(677, 5)"
      ]
     },
     "execution_count": 20,
     "metadata": {},
     "output_type": "execute_result"
    }
   ],
   "source": [
    "manager_job.shape"
   ]
  },
  {
   "cell_type": "code",
   "execution_count": 21,
   "metadata": {},
   "outputs": [
    {
     "data": {
      "text/plain": [
       "(2845, 5)"
      ]
     },
     "execution_count": 21,
     "metadata": {},
     "output_type": "execute_result"
    }
   ],
   "source": [
    "non_manger_job.shape"
   ]
  },
  {
   "cell_type": "code",
   "execution_count": 22,
   "metadata": {},
   "outputs": [
    {
     "data": {
      "text/plain": [
       "bi developer                                                  20\n",
       "business intelligence developer                               16\n",
       "business development executive                                13\n",
       "product owner                                                  9\n",
       "marketing assistant                                            9\n",
       "senior scientist                                               8\n",
       "buyer                                                          8\n",
       "research associate                                             6\n",
       "machine learning scientist                                     5\n",
       "head of analytics                                              5\n",
       "marketing executive                                            5\n",
       "research scientist                                             5\n",
       "research technician                                            4\n",
       "social media executive                                         4\n",
       "biomedical scientist                                           4\n",
       "analytics director                                             4\n",
       "administrator                                                  4\n",
       "consultant                                                     4\n",
       "senior bi developer                                            4\n",
       "analytical scientist                                           4\n",
       "finance business partner                                       4\n",
       "frontend developer                                             4\n",
       "analytics developer                                            3\n",
       "immunoassay development scientist                              3\n",
       "customer scientist                                             3\n",
       "c developer                                                    3\n",
       "postdoctoral research associate                                3\n",
       "contracts  proposals opportunities at iqvia                    3\n",
       "clinical scientist                                             3\n",
       "etl developer                                                  3\n",
       "                                                              ..\n",
       "content editor cambridge                                       1\n",
       "senior project officer programme delivery change               1\n",
       "lead developer  web analytics                                  1\n",
       "presales solutions architect                                   1\n",
       "user experience designerdeveloper  employee system             1\n",
       "iss accreditor                                                 1\n",
       "commercial finance developer                                   1\n",
       "vp content technology                                          1\n",
       "senior commercial officer                                      1\n",
       "onsite merchandising coordinator                               1\n",
       "in house cra  fluent in romanian farnborough edinburgh p       1\n",
       "financial lead telecommunication services                      1\n",
       "informatics scientist                                          1\n",
       "analytics insights executive                                   1\n",
       "principal consultant  business intelligence  analytics pra     1\n",
       "assistant estimator                                            1\n",
       "executive assistant entertainmenthospitality                   1\n",
       "senior project officer                                         1\n",
       "project support assistant                                      1\n",
       "regional marketing specialist                                  1\n",
       "business intelligence developer  ssrs  ssis                    1\n",
       "risk analytics lead                                            1\n",
       "innovation  development officer  business intelligence  w      1\n",
       "iss dais accreditor asst hd                                    1\n",
       "laboratory technician ii  cell culture  months                 1\n",
       "head of business admin services                                1\n",
       "pet chemist qcproduction                                       1\n",
       "a  biomedical scientist                                        1\n",
       "staff clinical research scientist                              1\n",
       "research associate in human population genetics                1\n",
       "Name: job_title, Length: 2488, dtype: int64"
      ]
     },
     "execution_count": 22,
     "metadata": {},
     "output_type": "execute_result"
    }
   ],
   "source": [
    "non_manger_job['job_title'].value_counts(ascending=False)"
   ]
  },
  {
   "cell_type": "code",
   "execution_count": 23,
   "metadata": {},
   "outputs": [],
   "source": [
    "scientist=non_manger_job[non_manger_job['job_title'].str.contains('scientist')]\n",
    "non_scientist=non_manger_job[~non_manger_job['job_title'].str.contains('scientist')]"
   ]
  },
  {
   "cell_type": "code",
   "execution_count": 24,
   "metadata": {},
   "outputs": [
    {
     "data": {
      "text/plain": [
       "(363, 5)"
      ]
     },
     "execution_count": 24,
     "metadata": {},
     "output_type": "execute_result"
    }
   ],
   "source": [
    "scientist.shape"
   ]
  },
  {
   "cell_type": "code",
   "execution_count": 25,
   "metadata": {},
   "outputs": [
    {
     "data": {
      "text/plain": [
       "(2482, 5)"
      ]
     },
     "execution_count": 25,
     "metadata": {},
     "output_type": "execute_result"
    }
   ],
   "source": [
    "non_scientist.shape"
   ]
  },
  {
   "cell_type": "code",
   "execution_count": 26,
   "metadata": {},
   "outputs": [],
   "source": [
    "research_job=non_scientist[non_scientist['job_title'].str.contains('research')]"
   ]
  },
  {
   "cell_type": "code",
   "execution_count": 27,
   "metadata": {},
   "outputs": [],
   "source": [
    "non_research_job=non_scientist[~non_scientist['job_title'].str.contains('research')]"
   ]
  },
  {
   "cell_type": "code",
   "execution_count": 28,
   "metadata": {},
   "outputs": [
    {
     "data": {
      "text/plain": [
       "(157, 5)"
      ]
     },
     "execution_count": 28,
     "metadata": {},
     "output_type": "execute_result"
    }
   ],
   "source": [
    "research_job.shape"
   ]
  },
  {
   "cell_type": "code",
   "execution_count": 29,
   "metadata": {},
   "outputs": [
    {
     "data": {
      "text/plain": [
       "(2325, 5)"
      ]
     },
     "execution_count": 29,
     "metadata": {},
     "output_type": "execute_result"
    }
   ],
   "source": [
    "non_research_job.shape"
   ]
  },
  {
   "cell_type": "code",
   "execution_count": 30,
   "metadata": {},
   "outputs": [
    {
     "data": {
      "text/plain": [
       "bi developer                       20\n",
       "business intelligence developer    16\n",
       "business development executive     13\n",
       "marketing assistant                 9\n",
       "product owner                       9\n",
       "buyer                               8\n",
       "marketing executive                 5\n",
       "head of analytics                   5\n",
       "analytics director                  4\n",
       "frontend developer                  4\n",
       "Name: job_title, dtype: int64"
      ]
     },
     "execution_count": 30,
     "metadata": {},
     "output_type": "execute_result"
    }
   ],
   "source": [
    "non_research_job['job_title'].value_counts(ascending=False).head(10)"
   ]
  },
  {
   "cell_type": "code",
   "execution_count": 31,
   "metadata": {},
   "outputs": [],
   "source": [
    "bi_job = non_research_job[(non_research_job['job_title'].str.contains('bi'))|(non_research_job['job_title'].str.contains('intelligence'))]\n",
    "non_bi_job= non_research_job[(~non_research_job['job_title'].str.contains('bi'))&(~non_research_job['job_title'].str.contains('intelligence'))]"
   ]
  },
  {
   "cell_type": "code",
   "execution_count": 32,
   "metadata": {},
   "outputs": [
    {
     "data": {
      "text/plain": [
       "(217, 5)"
      ]
     },
     "execution_count": 32,
     "metadata": {},
     "output_type": "execute_result"
    }
   ],
   "source": [
    "bi_job.shape"
   ]
  },
  {
   "cell_type": "code",
   "execution_count": 33,
   "metadata": {},
   "outputs": [
    {
     "data": {
      "text/plain": [
       "(2108, 5)"
      ]
     },
     "execution_count": 33,
     "metadata": {},
     "output_type": "execute_result"
    }
   ],
   "source": [
    "non_bi_job.shape"
   ]
  },
  {
   "cell_type": "code",
   "execution_count": 34,
   "metadata": {},
   "outputs": [
    {
     "data": {
      "text/html": [
       "<div>\n",
       "<style scoped>\n",
       "    .dataframe tbody tr th:only-of-type {\n",
       "        vertical-align: middle;\n",
       "    }\n",
       "\n",
       "    .dataframe tbody tr th {\n",
       "        vertical-align: top;\n",
       "    }\n",
       "\n",
       "    .dataframe thead th {\n",
       "        text-align: right;\n",
       "    }\n",
       "</style>\n",
       "<table border=\"1\" class=\"dataframe\">\n",
       "  <thead>\n",
       "    <tr style=\"text-align: right;\">\n",
       "      <th></th>\n",
       "      <th>job_title</th>\n",
       "      <th>company</th>\n",
       "      <th>location</th>\n",
       "      <th>job_summary</th>\n",
       "      <th>salary_high_tier</th>\n",
       "    </tr>\n",
       "  </thead>\n",
       "  <tbody>\n",
       "    <tr>\n",
       "      <th>47</th>\n",
       "      <td>intelligence intern  months</td>\n",
       "      <td>airbus group</td>\n",
       "      <td>leicester</td>\n",
       "      <td>this role will sit in the energy, infrastructu...</td>\n",
       "      <td>0</td>\n",
       "    </tr>\n",
       "    <tr>\n",
       "      <th>130</th>\n",
       "      <td>scientific editor environmental science and su...</td>\n",
       "      <td>elsevier</td>\n",
       "      <td>united kingdom</td>\n",
       "      <td>elsevier is part of relx group, a global provi...</td>\n",
       "      <td>1</td>\n",
       "    </tr>\n",
       "    <tr>\n",
       "      <th>139</th>\n",
       "      <td>european pharma  biopharma applications develo...</td>\n",
       "      <td>thermo fisher scientific</td>\n",
       "      <td>hemel hempstead</td>\n",
       "      <td>collaborative approach to developing and shari...</td>\n",
       "      <td>1</td>\n",
       "    </tr>\n",
       "    <tr>\n",
       "      <th>211</th>\n",
       "      <td>junior security intelligence  operations sioc ...</td>\n",
       "      <td>ibm</td>\n",
       "      <td>london</td>\n",
       "      <td>our goal in our sioc practice for our consulta...</td>\n",
       "      <td>0</td>\n",
       "    </tr>\n",
       "    <tr>\n",
       "      <th>269</th>\n",
       "      <td>game developer  big pixel studios</td>\n",
       "      <td>time warner</td>\n",
       "      <td>london</td>\n",
       "      <td>balance progression and difficulty curves base...</td>\n",
       "      <td>1</td>\n",
       "    </tr>\n",
       "    <tr>\n",
       "      <th>273</th>\n",
       "      <td>global anticounterfeiting intelligence and enf...</td>\n",
       "      <td>glaxosmithkline</td>\n",
       "      <td>london</td>\n",
       "      <td>experience of performing online investigations...</td>\n",
       "      <td>1</td>\n",
       "    </tr>\n",
       "    <tr>\n",
       "      <th>300</th>\n",
       "      <td>billing assistant</td>\n",
       "      <td>freshfields bruckhaus deringer llp</td>\n",
       "      <td>manchester</td>\n",
       "      <td>in addition, the team provides support and gui...</td>\n",
       "      <td>0</td>\n",
       "    </tr>\n",
       "    <tr>\n",
       "      <th>311</th>\n",
       "      <td>business intelligence and analytics graduate</td>\n",
       "      <td>pa consulting group</td>\n",
       "      <td>london</td>\n",
       "      <td>your role in business intelligence &amp; analytics...</td>\n",
       "      <td>0</td>\n",
       "    </tr>\n",
       "    <tr>\n",
       "      <th>386</th>\n",
       "      <td>market intelligence specialist associate</td>\n",
       "      <td>blackrock</td>\n",
       "      <td>london</td>\n",
       "      <td>excellent analytic and creative problem solvin...</td>\n",
       "      <td>0</td>\n",
       "    </tr>\n",
       "    <tr>\n",
       "      <th>392</th>\n",
       "      <td>business intelligence and analytics industrial...</td>\n",
       "      <td>pa consulting group</td>\n",
       "      <td>london</td>\n",
       "      <td>business intelligence &amp; analytics industrial p...</td>\n",
       "      <td>0</td>\n",
       "    </tr>\n",
       "    <tr>\n",
       "      <th>425</th>\n",
       "      <td>lead global mobility partner</td>\n",
       "      <td>astrazeneca</td>\n",
       "      <td>cambridge cb2</td>\n",
       "      <td>provide analytics for key performance metric r...</td>\n",
       "      <td>1</td>\n",
       "    </tr>\n",
       "    <tr>\n",
       "      <th>554</th>\n",
       "      <td>managing consultant  business intelligence  an...</td>\n",
       "      <td>pa consulting group</td>\n",
       "      <td>london</td>\n",
       "      <td>our bi &amp; analytics service offerings include:....</td>\n",
       "      <td>0</td>\n",
       "    </tr>\n",
       "    <tr>\n",
       "      <th>612</th>\n",
       "      <td>pricing intelligence executive</td>\n",
       "      <td>evo group</td>\n",
       "      <td>normanton</td>\n",
       "      <td>if you have had previous involvement within th...</td>\n",
       "      <td>1</td>\n",
       "    </tr>\n",
       "    <tr>\n",
       "      <th>734</th>\n",
       "      <td>bi developer</td>\n",
       "      <td>acrotrend</td>\n",
       "      <td>london</td>\n",
       "      <td>maintain and support data analytics platforms....</td>\n",
       "      <td>0</td>\n",
       "    </tr>\n",
       "    <tr>\n",
       "      <th>868</th>\n",
       "      <td>feasibility intern starting july  months</td>\n",
       "      <td>hilton corporate</td>\n",
       "      <td>watford</td>\n",
       "      <td>( job number: eur013gi ) work locations : hilt...</td>\n",
       "      <td>0</td>\n",
       "    </tr>\n",
       "    <tr>\n",
       "      <th>986</th>\n",
       "      <td>power bi developer</td>\n",
       "      <td>ladbrokes coral group</td>\n",
       "      <td>stratford</td>\n",
       "      <td>experience in designing and developing advance...</td>\n",
       "      <td>0</td>\n",
       "    </tr>\n",
       "    <tr>\n",
       "      <th>1068</th>\n",
       "      <td>techno functional consultant bi analytics</td>\n",
       "      <td>vichag ltd.</td>\n",
       "      <td>birmingham</td>\n",
       "      <td>to implement, configure and test the enterpris...</td>\n",
       "      <td>0</td>\n",
       "    </tr>\n",
       "    <tr>\n",
       "      <th>1075</th>\n",
       "      <td>msbi consultant</td>\n",
       "      <td>capgemini</td>\n",
       "      <td>united kingdom</td>\n",
       "      <td>if you are keen to join a team of highly skill...</td>\n",
       "      <td>0</td>\n",
       "    </tr>\n",
       "    <tr>\n",
       "      <th>1147</th>\n",
       "      <td>bi developer</td>\n",
       "      <td>bjss</td>\n",
       "      <td>london</td>\n",
       "      <td>the bjss data team covers a range of data rela...</td>\n",
       "      <td>0</td>\n",
       "    </tr>\n",
       "    <tr>\n",
       "      <th>1187</th>\n",
       "      <td>msbi solution architect</td>\n",
       "      <td>capgemini</td>\n",
       "      <td>united kingdom</td>\n",
       "      <td>experience of designing and creating data anal...</td>\n",
       "      <td>0</td>\n",
       "    </tr>\n",
       "    <tr>\n",
       "      <th>1232</th>\n",
       "      <td>full stack developer  nodejs elasticsearch api...</td>\n",
       "      <td>cornwaliis elt</td>\n",
       "      <td>london</td>\n",
       "      <td>full stack developer – node.js, elasticsearch,...</td>\n",
       "      <td>1</td>\n",
       "    </tr>\n",
       "    <tr>\n",
       "      <th>1271</th>\n",
       "      <td>bi developer  sql</td>\n",
       "      <td>mediacom</td>\n",
       "      <td>manchester</td>\n",
       "      <td>knowledge of web analytics platforms such as g...</td>\n",
       "      <td>1</td>\n",
       "    </tr>\n",
       "    <tr>\n",
       "      <th>1290</th>\n",
       "      <td>business intelligence internship</td>\n",
       "      <td>kapeinternships</td>\n",
       "      <td>london</td>\n",
       "      <td>distributing these templated business intellig...</td>\n",
       "      <td>1</td>\n",
       "    </tr>\n",
       "    <tr>\n",
       "      <th>1291</th>\n",
       "      <td>business intelligence developer</td>\n",
       "      <td>joules limited</td>\n",
       "      <td>corby</td>\n",
       "      <td>supporting the day to day running of joules bu...</td>\n",
       "      <td>1</td>\n",
       "    </tr>\n",
       "    <tr>\n",
       "      <th>1293</th>\n",
       "      <td>business intelligence developer</td>\n",
       "      <td>voyage care</td>\n",
       "      <td>lichfield</td>\n",
       "      <td>we are looking to recruit an enthusiastic busi...</td>\n",
       "      <td>1</td>\n",
       "    </tr>\n",
       "    <tr>\n",
       "      <th>1294</th>\n",
       "      <td>intelligence associatebilingual</td>\n",
       "      <td>pwc</td>\n",
       "      <td>belfast</td>\n",
       "      <td>our deals business is an exciting, fast-paced ...</td>\n",
       "      <td>0</td>\n",
       "    </tr>\n",
       "    <tr>\n",
       "      <th>1296</th>\n",
       "      <td>business intelligence developer</td>\n",
       "      <td>stericycle</td>\n",
       "      <td>leeds</td>\n",
       "      <td>we are looking for a business intelligence dev...</td>\n",
       "      <td>1</td>\n",
       "    </tr>\n",
       "    <tr>\n",
       "      <th>1299</th>\n",
       "      <td>business intelligence consultant with qliktableau</td>\n",
       "      <td>ngdata</td>\n",
       "      <td>london</td>\n",
       "      <td>we’re seeking a creative, driven professional ...</td>\n",
       "      <td>1</td>\n",
       "    </tr>\n",
       "    <tr>\n",
       "      <th>1300</th>\n",
       "      <td>business intelligence developer</td>\n",
       "      <td>aldermore</td>\n",
       "      <td>reading</td>\n",
       "      <td>today, we’re an award-winning bank that has he...</td>\n",
       "      <td>0</td>\n",
       "    </tr>\n",
       "    <tr>\n",
       "      <th>1304</th>\n",
       "      <td>business intelligence specialist</td>\n",
       "      <td>elekta</td>\n",
       "      <td>crawley</td>\n",
       "      <td>business intelligence specialist. this role is...</td>\n",
       "      <td>1</td>\n",
       "    </tr>\n",
       "    <tr>\n",
       "      <th>...</th>\n",
       "      <td>...</td>\n",
       "      <td>...</td>\n",
       "      <td>...</td>\n",
       "      <td>...</td>\n",
       "      <td>...</td>\n",
       "    </tr>\n",
       "    <tr>\n",
       "      <th>5621</th>\n",
       "      <td>business intelligence developer sql server or ...</td>\n",
       "      <td>michael page uk</td>\n",
       "      <td>bristol</td>\n",
       "      <td>deliver the mi / business intelligence solutio...</td>\n",
       "      <td>1</td>\n",
       "    </tr>\n",
       "    <tr>\n",
       "      <th>5657</th>\n",
       "      <td>head of bidding</td>\n",
       "      <td>fuel recruitment</td>\n",
       "      <td>warwick</td>\n",
       "      <td>business operations skills – experience:. a hi...</td>\n",
       "      <td>1</td>\n",
       "    </tr>\n",
       "    <tr>\n",
       "      <th>5661</th>\n",
       "      <td>marketing intelligence director</td>\n",
       "      <td>ninety thousand hours</td>\n",
       "      <td>london</td>\n",
       "      <td>you are a confident self starter, with a blend...</td>\n",
       "      <td>1</td>\n",
       "    </tr>\n",
       "    <tr>\n",
       "      <th>5685</th>\n",
       "      <td>bi developer</td>\n",
       "      <td>mcgregor boyall</td>\n",
       "      <td>west midlands</td>\n",
       "      <td>bi sql server developer – northampton bi / bus...</td>\n",
       "      <td>1</td>\n",
       "    </tr>\n",
       "    <tr>\n",
       "      <th>5688</th>\n",
       "      <td>exhibition sales professional</td>\n",
       "      <td>media iq recruitment</td>\n",
       "      <td>london</td>\n",
       "      <td>their brands are market-leaders and span print...</td>\n",
       "      <td>0</td>\n",
       "    </tr>\n",
       "    <tr>\n",
       "      <th>5701</th>\n",
       "      <td>graduate bi consultant</td>\n",
       "      <td>nigel frank international limited</td>\n",
       "      <td>slough</td>\n",
       "      <td>graduate bi consultant role based in slough - ...</td>\n",
       "      <td>0</td>\n",
       "    </tr>\n",
       "    <tr>\n",
       "      <th>5713</th>\n",
       "      <td>bi developer sql</td>\n",
       "      <td>easywebrecruitment</td>\n",
       "      <td>stoke-on-trent st1</td>\n",
       "      <td>support the business intelligence and data man...</td>\n",
       "      <td>0</td>\n",
       "    </tr>\n",
       "    <tr>\n",
       "      <th>5715</th>\n",
       "      <td>bi developer br</td>\n",
       "      <td>interquest group</td>\n",
       "      <td>leeds</td>\n",
       "      <td>reporting to the business intelligence (bi) ma...</td>\n",
       "      <td>1</td>\n",
       "    </tr>\n",
       "    <tr>\n",
       "      <th>5722</th>\n",
       "      <td>bid architect  artificial intelligence</td>\n",
       "      <td>the jm group</td>\n",
       "      <td>hampshire</td>\n",
       "      <td>bid architect - artificial intelligence - sc c...</td>\n",
       "      <td>1</td>\n",
       "    </tr>\n",
       "    <tr>\n",
       "      <th>5744</th>\n",
       "      <td>business intelligence developer  sql server  m...</td>\n",
       "      <td>michael page uk</td>\n",
       "      <td>cardiff</td>\n",
       "      <td>previous experience in business intelligence t...</td>\n",
       "      <td>0</td>\n",
       "    </tr>\n",
       "    <tr>\n",
       "      <th>5745</th>\n",
       "      <td>bi developer havant</td>\n",
       "      <td>nigel frank international limited</td>\n",
       "      <td>havant</td>\n",
       "      <td>havant- hampshire- portsmouth- ms sql server- ...</td>\n",
       "      <td>1</td>\n",
       "    </tr>\n",
       "    <tr>\n",
       "      <th>5807</th>\n",
       "      <td>bi developer</td>\n",
       "      <td>nigel wright group</td>\n",
       "      <td>darlington</td>\n",
       "      <td>business intelligence tools. develop spreadshe...</td>\n",
       "      <td>0</td>\n",
       "    </tr>\n",
       "    <tr>\n",
       "      <th>5813</th>\n",
       "      <td>bi developer</td>\n",
       "      <td>asset resourcing</td>\n",
       "      <td>chester</td>\n",
       "      <td>my client’s business intelligence team is resp...</td>\n",
       "      <td>0</td>\n",
       "    </tr>\n",
       "    <tr>\n",
       "      <th>5817</th>\n",
       "      <td>power bi consultant  london  gbp</td>\n",
       "      <td>nigel frank international limited</td>\n",
       "      <td>london</td>\n",
       "      <td>nigel frank international is the leading micro...</td>\n",
       "      <td>1</td>\n",
       "    </tr>\n",
       "    <tr>\n",
       "      <th>5820</th>\n",
       "      <td>senior bi developer</td>\n",
       "      <td>michael page uk</td>\n",
       "      <td>london</td>\n",
       "      <td>as a senior bi team leader you will lead a tea...</td>\n",
       "      <td>1</td>\n",
       "    </tr>\n",
       "    <tr>\n",
       "      <th>5849</th>\n",
       "      <td>sqlbi developer</td>\n",
       "      <td>michael page uk</td>\n",
       "      <td>watford</td>\n",
       "      <td>as a business intelligence developer you will ...</td>\n",
       "      <td>1</td>\n",
       "    </tr>\n",
       "    <tr>\n",
       "      <th>5867</th>\n",
       "      <td>bi reports developer</td>\n",
       "      <td>modis</td>\n",
       "      <td>wakefield</td>\n",
       "      <td>business intelligence developer - data warehou...</td>\n",
       "      <td>0</td>\n",
       "    </tr>\n",
       "    <tr>\n",
       "      <th>5868</th>\n",
       "      <td>etl  ssis  bi developer  maidenhead</td>\n",
       "      <td>nigel frank international limited</td>\n",
       "      <td>maidenhead</td>\n",
       "      <td>business intelligence, bi, developer, sql serv...</td>\n",
       "      <td>1</td>\n",
       "    </tr>\n",
       "    <tr>\n",
       "      <th>5875</th>\n",
       "      <td>bi developer</td>\n",
       "      <td>harnham</td>\n",
       "      <td>london</td>\n",
       "      <td>liaise with third parties and clients regardin...</td>\n",
       "      <td>1</td>\n",
       "    </tr>\n",
       "    <tr>\n",
       "      <th>5883</th>\n",
       "      <td>bi consultant  ssis  ssrs  ssas  gbpk  se england</td>\n",
       "      <td>nigel frank international limited</td>\n",
       "      <td>london</td>\n",
       "      <td>nigel frank international is the leading micro...</td>\n",
       "      <td>1</td>\n",
       "    </tr>\n",
       "    <tr>\n",
       "      <th>5898</th>\n",
       "      <td>sql bi developer</td>\n",
       "      <td>harnham</td>\n",
       "      <td>london</td>\n",
       "      <td>liaise with third parties and clients regardin...</td>\n",
       "      <td>1</td>\n",
       "    </tr>\n",
       "    <tr>\n",
       "      <th>5905</th>\n",
       "      <td>enterprise account director artificial intelli...</td>\n",
       "      <td>dcl search and selection</td>\n",
       "      <td>london</td>\n",
       "      <td>knowledge of artificial intelligence. i am wor...</td>\n",
       "      <td>1</td>\n",
       "    </tr>\n",
       "    <tr>\n",
       "      <th>5909</th>\n",
       "      <td>bi consultant  londonsouth of england  gbp</td>\n",
       "      <td>nigel frank international limited</td>\n",
       "      <td>london</td>\n",
       "      <td>business intelligence consultant. business int...</td>\n",
       "      <td>1</td>\n",
       "    </tr>\n",
       "    <tr>\n",
       "      <th>5917</th>\n",
       "      <td>bi developer  investment bank  london</td>\n",
       "      <td>twenty recruitment group</td>\n",
       "      <td>london</td>\n",
       "      <td>business objects platform knowledge v4.1 or la...</td>\n",
       "      <td>1</td>\n",
       "    </tr>\n",
       "    <tr>\n",
       "      <th>7155</th>\n",
       "      <td>student placement  ecmc combinations alliance ...</td>\n",
       "      <td>cancer research uk</td>\n",
       "      <td>london</td>\n",
       "      <td>are you an organised individual looking to dev...</td>\n",
       "      <td>0</td>\n",
       "    </tr>\n",
       "    <tr>\n",
       "      <th>7259</th>\n",
       "      <td>programme leader track  cell biology  dr sean ...</td>\n",
       "      <td>medical research council</td>\n",
       "      <td>cambridge</td>\n",
       "      <td>to develop and lead a programme of research ad...</td>\n",
       "      <td>1</td>\n",
       "    </tr>\n",
       "    <tr>\n",
       "      <th>7412</th>\n",
       "      <td>senior biochemistprotein production  character...</td>\n",
       "      <td>ck group</td>\n",
       "      <td>hertfordshire</td>\n",
       "      <td>you will express, purify and characterise prot...</td>\n",
       "      <td>0</td>\n",
       "    </tr>\n",
       "    <tr>\n",
       "      <th>7417</th>\n",
       "      <td>mk  healthcare associate practitioner biorepos...</td>\n",
       "      <td>nhs scotland recruitment</td>\n",
       "      <td>grampian region</td>\n",
       "      <td>we are a small department offering a research ...</td>\n",
       "      <td>0</td>\n",
       "    </tr>\n",
       "    <tr>\n",
       "      <th>7468</th>\n",
       "      <td>head of bioinformatics</td>\n",
       "      <td>linkpoint resources ltd</td>\n",
       "      <td>manchester</td>\n",
       "      <td>design research projects from scratch. we have...</td>\n",
       "      <td>1</td>\n",
       "    </tr>\n",
       "    <tr>\n",
       "      <th>7477</th>\n",
       "      <td>head of bioinformatics</td>\n",
       "      <td>service care solutions</td>\n",
       "      <td>manchester</td>\n",
       "      <td>head of bioinformatics opportunity based in gr...</td>\n",
       "      <td>1</td>\n",
       "    </tr>\n",
       "  </tbody>\n",
       "</table>\n",
       "<p>217 rows × 5 columns</p>\n",
       "</div>"
      ],
      "text/plain": [
       "                                              job_title  \\\n",
       "47                          intelligence intern  months   \n",
       "130   scientific editor environmental science and su...   \n",
       "139   european pharma  biopharma applications develo...   \n",
       "211   junior security intelligence  operations sioc ...   \n",
       "269                   game developer  big pixel studios   \n",
       "273   global anticounterfeiting intelligence and enf...   \n",
       "300                                   billing assistant   \n",
       "311        business intelligence and analytics graduate   \n",
       "386            market intelligence specialist associate   \n",
       "392   business intelligence and analytics industrial...   \n",
       "425                        lead global mobility partner   \n",
       "554   managing consultant  business intelligence  an...   \n",
       "612                      pricing intelligence executive   \n",
       "734                                        bi developer   \n",
       "868            feasibility intern starting july  months   \n",
       "986                                  power bi developer   \n",
       "1068          techno functional consultant bi analytics   \n",
       "1075                                    msbi consultant   \n",
       "1147                                       bi developer   \n",
       "1187                            msbi solution architect   \n",
       "1232  full stack developer  nodejs elasticsearch api...   \n",
       "1271                                  bi developer  sql   \n",
       "1290                   business intelligence internship   \n",
       "1291                    business intelligence developer   \n",
       "1293                    business intelligence developer   \n",
       "1294                    intelligence associatebilingual   \n",
       "1296                    business intelligence developer   \n",
       "1299  business intelligence consultant with qliktableau   \n",
       "1300                    business intelligence developer   \n",
       "1304                   business intelligence specialist   \n",
       "...                                                 ...   \n",
       "5621  business intelligence developer sql server or ...   \n",
       "5657                                    head of bidding   \n",
       "5661                    marketing intelligence director   \n",
       "5685                                       bi developer   \n",
       "5688                      exhibition sales professional   \n",
       "5701                             graduate bi consultant   \n",
       "5713                                   bi developer sql   \n",
       "5715                                    bi developer br   \n",
       "5722             bid architect  artificial intelligence   \n",
       "5744  business intelligence developer  sql server  m...   \n",
       "5745                                bi developer havant   \n",
       "5807                                       bi developer   \n",
       "5813                                       bi developer   \n",
       "5817                   power bi consultant  london  gbp   \n",
       "5820                                senior bi developer   \n",
       "5849                                    sqlbi developer   \n",
       "5867                               bi reports developer   \n",
       "5868                etl  ssis  bi developer  maidenhead   \n",
       "5875                                       bi developer   \n",
       "5883  bi consultant  ssis  ssrs  ssas  gbpk  se england   \n",
       "5898                                   sql bi developer   \n",
       "5905  enterprise account director artificial intelli...   \n",
       "5909         bi consultant  londonsouth of england  gbp   \n",
       "5917              bi developer  investment bank  london   \n",
       "7155  student placement  ecmc combinations alliance ...   \n",
       "7259  programme leader track  cell biology  dr sean ...   \n",
       "7412  senior biochemistprotein production  character...   \n",
       "7417  mk  healthcare associate practitioner biorepos...   \n",
       "7468                             head of bioinformatics   \n",
       "7477                             head of bioinformatics   \n",
       "\n",
       "                                 company            location  \\\n",
       "47                          airbus group           leicester   \n",
       "130                             elsevier      united kingdom   \n",
       "139             thermo fisher scientific     hemel hempstead   \n",
       "211                                  ibm              london   \n",
       "269                          time warner              london   \n",
       "273                      glaxosmithkline              london   \n",
       "300   freshfields bruckhaus deringer llp          manchester   \n",
       "311                  pa consulting group              london   \n",
       "386                            blackrock              london   \n",
       "392                  pa consulting group              london   \n",
       "425                          astrazeneca       cambridge cb2   \n",
       "554                  pa consulting group              london   \n",
       "612                            evo group           normanton   \n",
       "734                            acrotrend              london   \n",
       "868                     hilton corporate             watford   \n",
       "986                ladbrokes coral group           stratford   \n",
       "1068                         vichag ltd.          birmingham   \n",
       "1075                           capgemini      united kingdom   \n",
       "1147                                bjss              london   \n",
       "1187                           capgemini      united kingdom   \n",
       "1232                      cornwaliis elt              london   \n",
       "1271                            mediacom          manchester   \n",
       "1290                     kapeinternships              london   \n",
       "1291                      joules limited               corby   \n",
       "1293                         voyage care           lichfield   \n",
       "1294                                 pwc             belfast   \n",
       "1296                          stericycle               leeds   \n",
       "1299                              ngdata              london   \n",
       "1300                           aldermore             reading   \n",
       "1304                              elekta             crawley   \n",
       "...                                  ...                 ...   \n",
       "5621                     michael page uk             bristol   \n",
       "5657                    fuel recruitment             warwick   \n",
       "5661               ninety thousand hours              london   \n",
       "5685                     mcgregor boyall       west midlands   \n",
       "5688                media iq recruitment              london   \n",
       "5701   nigel frank international limited              slough   \n",
       "5713                  easywebrecruitment  stoke-on-trent st1   \n",
       "5715                    interquest group               leeds   \n",
       "5722                        the jm group           hampshire   \n",
       "5744                     michael page uk             cardiff   \n",
       "5745   nigel frank international limited              havant   \n",
       "5807                  nigel wright group          darlington   \n",
       "5813                    asset resourcing             chester   \n",
       "5817   nigel frank international limited              london   \n",
       "5820                     michael page uk              london   \n",
       "5849                     michael page uk             watford   \n",
       "5867                               modis           wakefield   \n",
       "5868   nigel frank international limited          maidenhead   \n",
       "5875                             harnham              london   \n",
       "5883   nigel frank international limited              london   \n",
       "5898                             harnham              london   \n",
       "5905            dcl search and selection              london   \n",
       "5909   nigel frank international limited              london   \n",
       "5917            twenty recruitment group              london   \n",
       "7155                  cancer research uk              london   \n",
       "7259            medical research council           cambridge   \n",
       "7412                            ck group       hertfordshire   \n",
       "7417            nhs scotland recruitment     grampian region   \n",
       "7468             linkpoint resources ltd          manchester   \n",
       "7477              service care solutions          manchester   \n",
       "\n",
       "                                            job_summary  salary_high_tier  \n",
       "47    this role will sit in the energy, infrastructu...                 0  \n",
       "130   elsevier is part of relx group, a global provi...                 1  \n",
       "139   collaborative approach to developing and shari...                 1  \n",
       "211   our goal in our sioc practice for our consulta...                 0  \n",
       "269   balance progression and difficulty curves base...                 1  \n",
       "273   experience of performing online investigations...                 1  \n",
       "300   in addition, the team provides support and gui...                 0  \n",
       "311   your role in business intelligence & analytics...                 0  \n",
       "386   excellent analytic and creative problem solvin...                 0  \n",
       "392   business intelligence & analytics industrial p...                 0  \n",
       "425   provide analytics for key performance metric r...                 1  \n",
       "554   our bi & analytics service offerings include:....                 0  \n",
       "612   if you have had previous involvement within th...                 1  \n",
       "734   maintain and support data analytics platforms....                 0  \n",
       "868   ( job number: eur013gi ) work locations : hilt...                 0  \n",
       "986   experience in designing and developing advance...                 0  \n",
       "1068  to implement, configure and test the enterpris...                 0  \n",
       "1075  if you are keen to join a team of highly skill...                 0  \n",
       "1147  the bjss data team covers a range of data rela...                 0  \n",
       "1187  experience of designing and creating data anal...                 0  \n",
       "1232  full stack developer – node.js, elasticsearch,...                 1  \n",
       "1271  knowledge of web analytics platforms such as g...                 1  \n",
       "1290  distributing these templated business intellig...                 1  \n",
       "1291  supporting the day to day running of joules bu...                 1  \n",
       "1293  we are looking to recruit an enthusiastic busi...                 1  \n",
       "1294  our deals business is an exciting, fast-paced ...                 0  \n",
       "1296  we are looking for a business intelligence dev...                 1  \n",
       "1299  we’re seeking a creative, driven professional ...                 1  \n",
       "1300  today, we’re an award-winning bank that has he...                 0  \n",
       "1304  business intelligence specialist. this role is...                 1  \n",
       "...                                                 ...               ...  \n",
       "5621  deliver the mi / business intelligence solutio...                 1  \n",
       "5657  business operations skills – experience:. a hi...                 1  \n",
       "5661  you are a confident self starter, with a blend...                 1  \n",
       "5685  bi sql server developer – northampton bi / bus...                 1  \n",
       "5688  their brands are market-leaders and span print...                 0  \n",
       "5701  graduate bi consultant role based in slough - ...                 0  \n",
       "5713  support the business intelligence and data man...                 0  \n",
       "5715  reporting to the business intelligence (bi) ma...                 1  \n",
       "5722  bid architect - artificial intelligence - sc c...                 1  \n",
       "5744  previous experience in business intelligence t...                 0  \n",
       "5745  havant- hampshire- portsmouth- ms sql server- ...                 1  \n",
       "5807  business intelligence tools. develop spreadshe...                 0  \n",
       "5813  my client’s business intelligence team is resp...                 0  \n",
       "5817  nigel frank international is the leading micro...                 1  \n",
       "5820  as a senior bi team leader you will lead a tea...                 1  \n",
       "5849  as a business intelligence developer you will ...                 1  \n",
       "5867  business intelligence developer - data warehou...                 0  \n",
       "5868  business intelligence, bi, developer, sql serv...                 1  \n",
       "5875  liaise with third parties and clients regardin...                 1  \n",
       "5883  nigel frank international is the leading micro...                 1  \n",
       "5898  liaise with third parties and clients regardin...                 1  \n",
       "5905  knowledge of artificial intelligence. i am wor...                 1  \n",
       "5909  business intelligence consultant. business int...                 1  \n",
       "5917  business objects platform knowledge v4.1 or la...                 1  \n",
       "7155  are you an organised individual looking to dev...                 0  \n",
       "7259  to develop and lead a programme of research ad...                 1  \n",
       "7412  you will express, purify and characterise prot...                 0  \n",
       "7417  we are a small department offering a research ...                 0  \n",
       "7468  design research projects from scratch. we have...                 1  \n",
       "7477  head of bioinformatics opportunity based in gr...                 1  \n",
       "\n",
       "[217 rows x 5 columns]"
      ]
     },
     "execution_count": 34,
     "metadata": {},
     "output_type": "execute_result"
    }
   ],
   "source": [
    "bi_job"
   ]
  },
  {
   "cell_type": "code",
   "execution_count": 35,
   "metadata": {},
   "outputs": [
    {
     "name": "stderr",
     "output_type": "stream",
     "text": [
      "C:\\Users\\zhixi\\Anaconda3\\lib\\site-packages\\pandas\\core\\generic.py:4405: SettingWithCopyWarning: \n",
      "A value is trying to be set on a copy of a slice from a DataFrame.\n",
      "Try using .loc[row_indexer,col_indexer] = value instead\n",
      "\n",
      "See the caveats in the documentation: http://pandas.pydata.org/pandas-docs/stable/indexing.html#indexing-view-versus-copy\n",
      "  self[name] = value\n"
     ]
    }
   ],
   "source": [
    "df = pd.DataFrame()\n",
    "data_jobs.job_title = data_jobs.job_title.map(lambda x: 'data_jobs')\n",
    "analyst_job.job_title = analyst_job.job_title.map(lambda x: 'analyst_jobs')\n",
    "engineer_job.job_title = engineer_job.job_title.map(lambda x: 'engineer_jobs')\n",
    "manager_job.job_title = manager_job.job_title.map(lambda x: 'manager_jobs')\n",
    "scientist.job_title = scientist.job_title.map(lambda x: 'scientist')\n",
    "research_job.job_title = research_job.job_title.map(lambda x: 'research_jobs' )\n",
    "bi_job.job_title = bi_job.job_title.map(lambda x: 'bi_jobs')\n",
    "non_bi_job.job_title = non_bi_job.job_title.map(lambda x:'others' )"
   ]
  },
  {
   "cell_type": "code",
   "execution_count": 36,
   "metadata": {},
   "outputs": [],
   "source": [
    "df['job_titles'] = pd.concat([data_jobs.job_title,analyst_job.job_title,\n",
    "                       engineer_job.job_title,manager_job.job_title,\n",
    "                        scientist.job_title,research_job.job_title,\n",
    "                              bi_job.job_title,non_bi_job.job_title], ignore_index=True)"
   ]
  },
  {
   "cell_type": "code",
   "execution_count": 37,
   "metadata": {},
   "outputs": [
    {
     "data": {
      "text/plain": [
       "Index(['job_title', 'company', 'location', 'job_summary', 'salary_high_tier'], dtype='object')"
      ]
     },
     "execution_count": 37,
     "metadata": {},
     "output_type": "execute_result"
    }
   ],
   "source": [
    "q2_df.columns"
   ]
  },
  {
   "cell_type": "code",
   "execution_count": 38,
   "metadata": {},
   "outputs": [],
   "source": [
    "q2_final_df = pd.concat([q2_df[['company','job_summary','salary_high_tier']], df.job_titles], axis=1)"
   ]
  },
  {
   "cell_type": "code",
   "execution_count": 39,
   "metadata": {},
   "outputs": [],
   "source": [
    "# convert job_title into numbers\n",
    "q2_final_df.job_titles = q2_final_df.job_titles.map(lambda x: 1 if x == 'data_jobs' else\n",
    "                                             2 if x == 'analyst_jobs' else\n",
    "                                             3 if x == 'engineer_jobs' else\n",
    "                                             4 if x == 'manager_jobs' else \n",
    "                                             5 if x =='scientist' else\n",
    "                                             6 if x =='research_jobs' else\n",
    "                                             7 if x =='bi_jobs' else 8 )"
   ]
  },
  {
   "cell_type": "code",
   "execution_count": 40,
   "metadata": {},
   "outputs": [
    {
     "name": "stdout",
     "output_type": "stream",
     "text": [
      "<class 'pandas.core.frame.DataFrame'>\n",
      "RangeIndex: 7579 entries, 0 to 7578\n",
      "Data columns (total 4 columns):\n",
      "company             7579 non-null object\n",
      "job_summary         7579 non-null object\n",
      "salary_high_tier    7579 non-null int64\n",
      "job_titles          7579 non-null int64\n",
      "dtypes: int64(2), object(2)\n",
      "memory usage: 236.9+ KB\n"
     ]
    }
   ],
   "source": [
    "q2_final_df.info()"
   ]
  },
  {
   "cell_type": "code",
   "execution_count": 41,
   "metadata": {},
   "outputs": [
    {
     "data": {
      "text/plain": [
       "8    2108\n",
       "3    1397\n",
       "1    1347\n",
       "2    1313\n",
       "4     677\n",
       "5     363\n",
       "7     217\n",
       "6     157\n",
       "Name: job_titles, dtype: int64"
      ]
     },
     "execution_count": 41,
     "metadata": {},
     "output_type": "execute_result"
    }
   ],
   "source": [
    "q2_final_df['job_titles'].value_counts()"
   ]
  },
  {
   "cell_type": "code",
   "execution_count": 42,
   "metadata": {},
   "outputs": [
    {
     "data": {
      "text/plain": [
       "Index(['company', 'job_summary', 'salary_high_tier', 'job_titles'], dtype='object')"
      ]
     },
     "execution_count": 42,
     "metadata": {},
     "output_type": "execute_result"
    }
   ],
   "source": [
    "q2_final_df.columns"
   ]
  },
  {
   "cell_type": "code",
   "execution_count": 43,
   "metadata": {},
   "outputs": [],
   "source": [
    "from sklearn.feature_extraction.text import TfidfVectorizer\n",
    "from sklearn.model_selection import train_test_split, cross_val_predict, GridSearchCV\n",
    "from sklearn.linear_model import LogisticRegression, LogisticRegressionCV\n",
    "from sklearn import metrics\n",
    "from sklearn.metrics import classification_report\n",
    "from sklearn.preprocessing import StandardScaler"
   ]
  },
  {
   "cell_type": "code",
   "execution_count": 44,
   "metadata": {},
   "outputs": [],
   "source": [
    "# Get TFIDF for company name\n",
    "job_company_tvec = TfidfVectorizer(ngram_range=(1,3), stop_words='english', min_df=2, max_df=0.5, max_features=25)\n",
    "job_company_tvec.fit(q2_final_df['company'])\n",
    "job_company_tvec_df = pd.DataFrame(job_company_tvec.transform(q2_final_df['company']).todense(),\n",
    "                       columns=['company_[' + f + ']' for f in job_company_tvec.get_feature_names()])"
   ]
  },
  {
   "cell_type": "code",
   "execution_count": 45,
   "metadata": {},
   "outputs": [],
   "source": [
    "# Get TFIDF for job summary\n",
    "job_summary_tvec = TfidfVectorizer(ngram_range=(1,3), stop_words='english', min_df=2, max_df=0.5, max_features=25)\n",
    "job_summary_tvec.fit(q2_final_df['job_summary'])\n",
    "job_summary_tvec_df = pd.DataFrame(job_summary_tvec.transform(q2_final_df['job_summary']).todense(),\n",
    "                       columns=['summary_[' + f + ']' for f in job_summary_tvec.get_feature_names()])"
   ]
  },
  {
   "cell_type": "code",
   "execution_count": 46,
   "metadata": {},
   "outputs": [],
   "source": [
    "X = pd.concat([q2_final_df[['salary_high_tier']], job_company_tvec_df, job_summary_tvec_df], axis=1)\n",
    "y = q2_final_df['job_titles'].values.ravel()"
   ]
  },
  {
   "cell_type": "code",
   "execution_count": 47,
   "metadata": {},
   "outputs": [],
   "source": [
    "# Get training and testing set\n",
    "X_train, X_test, y_train, y_test = train_test_split(X, y, test_size=0.3, random_state=42)"
   ]
  },
  {
   "cell_type": "code",
   "execution_count": 48,
   "metadata": {},
   "outputs": [
    {
     "name": "stderr",
     "output_type": "stream",
     "text": [
      "C:\\Users\\zhixi\\Anaconda3\\lib\\site-packages\\sklearn\\preprocessing\\data.py:617: DataConversionWarning: Data with input dtype int64, float64 were all converted to float64 by StandardScaler.\n",
      "  return self.partial_fit(X, y)\n",
      "C:\\Users\\zhixi\\Anaconda3\\lib\\site-packages\\sklearn\\base.py:462: DataConversionWarning: Data with input dtype int64, float64 were all converted to float64 by StandardScaler.\n",
      "  return self.fit(X, **fit_params).transform(X)\n",
      "C:\\Users\\zhixi\\Anaconda3\\lib\\site-packages\\sklearn\\preprocessing\\data.py:617: DataConversionWarning: Data with input dtype int64, float64 were all converted to float64 by StandardScaler.\n",
      "  return self.partial_fit(X, y)\n",
      "C:\\Users\\zhixi\\Anaconda3\\lib\\site-packages\\sklearn\\base.py:462: DataConversionWarning: Data with input dtype int64, float64 were all converted to float64 by StandardScaler.\n",
      "  return self.fit(X, **fit_params).transform(X)\n"
     ]
    }
   ],
   "source": [
    "# Standardize predictors\n",
    "X_train_ss = StandardScaler().fit_transform(X_train)\n",
    "X_test_ss = StandardScaler().fit_transform(X_test)"
   ]
  },
  {
   "cell_type": "code",
   "execution_count": 49,
   "metadata": {},
   "outputs": [],
   "source": [
    "X_train_ss = pd.DataFrame(X_train_ss, columns=X_train.columns)\n",
    "X_test_ss = pd.DataFrame(X_test_ss, columns=X_train.columns)"
   ]
  },
  {
   "cell_type": "code",
   "execution_count": 50,
   "metadata": {},
   "outputs": [],
   "source": [
    "from sklearn.tree import DecisionTreeClassifier"
   ]
  },
  {
   "cell_type": "code",
   "execution_count": 51,
   "metadata": {},
   "outputs": [],
   "source": [
    "# gridsearch params\n",
    "dtc_params = {\n",
    "    'max_depth':[None,1,2,3,4],\n",
    "    'max_features':[None,'log2','sqrt',2,3,4,5],\n",
    "    'min_samples_split':[2,3,4,5,10,15,20,25,30,40,50]\n",
    "}\n",
    "\n",
    "# set the gridsearch\n",
    "dtc_gs = GridSearchCV(DecisionTreeClassifier(), dtc_params, cv=5, verbose=1)"
   ]
  },
  {
   "cell_type": "code",
   "execution_count": 52,
   "metadata": {},
   "outputs": [
    {
     "name": "stdout",
     "output_type": "stream",
     "text": [
      "Fitting 5 folds for each of 385 candidates, totalling 1925 fits\n"
     ]
    },
    {
     "name": "stderr",
     "output_type": "stream",
     "text": [
      "[Parallel(n_jobs=1)]: Using backend SequentialBackend with 1 concurrent workers.\n",
      "[Parallel(n_jobs=1)]: Done 1925 out of 1925 | elapsed:   14.5s finished\n",
      "C:\\Users\\zhixi\\Anaconda3\\lib\\site-packages\\sklearn\\model_selection\\_search.py:841: DeprecationWarning: The default of the `iid` parameter will change from True to False in version 0.22 and will be removed in 0.24. This will change numeric results when test-set sizes are unequal.\n",
      "  DeprecationWarning)\n"
     ]
    },
    {
     "data": {
      "text/plain": [
       "GridSearchCV(cv=5, error_score='raise-deprecating',\n",
       "       estimator=DecisionTreeClassifier(class_weight=None, criterion='gini', max_depth=None,\n",
       "            max_features=None, max_leaf_nodes=None,\n",
       "            min_impurity_decrease=0.0, min_impurity_split=None,\n",
       "            min_samples_leaf=1, min_samples_split=2,\n",
       "            min_weight_fraction_leaf=0.0, presort=False, random_state=None,\n",
       "            splitter='best'),\n",
       "       fit_params=None, iid='warn', n_jobs=None,\n",
       "       param_grid={'max_depth': [None, 1, 2, 3, 4], 'max_features': [None, 'log2', 'sqrt', 2, 3, 4, 5], 'min_samples_split': [2, 3, 4, 5, 10, 15, 20, 25, 30, 40, 50]},\n",
       "       pre_dispatch='2*n_jobs', refit=True, return_train_score='warn',\n",
       "       scoring=None, verbose=1)"
      ]
     },
     "execution_count": 52,
     "metadata": {},
     "output_type": "execute_result"
    }
   ],
   "source": [
    "# use the gridsearch C model to fit the data\n",
    "dtc_gs.fit(X_train_ss, y_train)"
   ]
  },
  {
   "cell_type": "code",
   "execution_count": 53,
   "metadata": {},
   "outputs": [
    {
     "name": "stdout",
     "output_type": "stream",
     "text": [
      "{'max_depth': None, 'max_features': None, 'min_samples_split': 15}\n",
      "0.5805843543826579\n"
     ]
    }
   ],
   "source": [
    "# Best Estimator\n",
    "dtc_best = dtc_gs.best_estimator_\n",
    "print(dtc_gs.best_params_)\n",
    "print(dtc_gs.best_score_)"
   ]
  },
  {
   "cell_type": "code",
   "execution_count": 54,
   "metadata": {},
   "outputs": [
    {
     "name": "stdout",
     "output_type": "stream",
     "text": [
      "                precision    recall  f1-score   support\n",
      "\n",
      "     data jobs       0.72      0.77      0.74       419\n",
      "  analyst jobs       0.56      0.60      0.58       407\n",
      " engineer jobs       0.54      0.63      0.58       405\n",
      "  manager jobs       0.70      0.61      0.65       218\n",
      "scientist jobs       0.39      0.28      0.33       107\n",
      " research jobs       0.23      0.15      0.18        46\n",
      "       bi jobs       0.17      0.08      0.11        65\n",
      "    other jobs       0.55      0.53      0.54       607\n",
      "\n",
      "     micro avg       0.58      0.58      0.58      2274\n",
      "     macro avg       0.48      0.46      0.46      2274\n",
      "  weighted avg       0.57      0.58      0.57      2274\n",
      "\n"
     ]
    }
   ],
   "source": [
    "pred = dtc_best.predict(X_test_ss)\n",
    "print(metrics.classification_report(y_test, pred, labels=[1,2,3,4,5,6,7,8], target_names=['data jobs','analyst jobs','engineer jobs','manager jobs','scientist jobs','research jobs','bi jobs','other jobs']))"
   ]
  },
  {
   "cell_type": "code",
   "execution_count": 55,
   "metadata": {},
   "outputs": [
    {
     "data": {
      "text/html": [
       "<div>\n",
       "<style scoped>\n",
       "    .dataframe tbody tr th:only-of-type {\n",
       "        vertical-align: middle;\n",
       "    }\n",
       "\n",
       "    .dataframe tbody tr th {\n",
       "        vertical-align: top;\n",
       "    }\n",
       "\n",
       "    .dataframe thead th {\n",
       "        text-align: right;\n",
       "    }\n",
       "</style>\n",
       "<table border=\"1\" class=\"dataframe\">\n",
       "  <thead>\n",
       "    <tr style=\"text-align: right;\">\n",
       "      <th></th>\n",
       "      <th>feature</th>\n",
       "      <th>importance</th>\n",
       "    </tr>\n",
       "  </thead>\n",
       "  <tbody>\n",
       "    <tr>\n",
       "      <th>28</th>\n",
       "      <td>summary_[analytics]</td>\n",
       "      <td>0.203660</td>\n",
       "    </tr>\n",
       "    <tr>\n",
       "      <th>29</th>\n",
       "      <td>summary_[business]</td>\n",
       "      <td>0.085341</td>\n",
       "    </tr>\n",
       "    <tr>\n",
       "      <th>43</th>\n",
       "      <td>summary_[research]</td>\n",
       "      <td>0.082668</td>\n",
       "    </tr>\n",
       "    <tr>\n",
       "      <th>31</th>\n",
       "      <td>summary_[data]</td>\n",
       "      <td>0.059754</td>\n",
       "    </tr>\n",
       "    <tr>\n",
       "      <th>0</th>\n",
       "      <td>salary_high_tier</td>\n",
       "      <td>0.046484</td>\n",
       "    </tr>\n",
       "    <tr>\n",
       "      <th>27</th>\n",
       "      <td>summary_[analyst]</td>\n",
       "      <td>0.040716</td>\n",
       "    </tr>\n",
       "    <tr>\n",
       "      <th>34</th>\n",
       "      <td>summary_[engineer]</td>\n",
       "      <td>0.037574</td>\n",
       "    </tr>\n",
       "    <tr>\n",
       "      <th>6</th>\n",
       "      <td>company_[harnham]</td>\n",
       "      <td>0.035030</td>\n",
       "    </tr>\n",
       "    <tr>\n",
       "      <th>20</th>\n",
       "      <td>company_[recruitment]</td>\n",
       "      <td>0.028980</td>\n",
       "    </tr>\n",
       "    <tr>\n",
       "      <th>38</th>\n",
       "      <td>summary_[intelligence]</td>\n",
       "      <td>0.026246</td>\n",
       "    </tr>\n",
       "  </tbody>\n",
       "</table>\n",
       "</div>"
      ],
      "text/plain": [
       "                   feature  importance\n",
       "28     summary_[analytics]    0.203660\n",
       "29      summary_[business]    0.085341\n",
       "43      summary_[research]    0.082668\n",
       "31          summary_[data]    0.059754\n",
       "0         salary_high_tier    0.046484\n",
       "27       summary_[analyst]    0.040716\n",
       "34      summary_[engineer]    0.037574\n",
       "6        company_[harnham]    0.035030\n",
       "20   company_[recruitment]    0.028980\n",
       "38  summary_[intelligence]    0.026246"
      ]
     },
     "execution_count": 55,
     "metadata": {},
     "output_type": "execute_result"
    }
   ],
   "source": [
    "fi = pd.DataFrame({\n",
    "        'feature':X_train_ss.columns,\n",
    "        'importance':dtc_best.feature_importances_\n",
    "    })\n",
    "\n",
    "fi.sort_values('importance', ascending=False, inplace=True)\n",
    "fi.head(10)"
   ]
  },
  {
   "cell_type": "code",
   "execution_count": null,
   "metadata": {},
   "outputs": [],
   "source": [
    "import warnings\n",
    "warnings.filterwarnings(\"ignore\", category=FutureWarning)"
   ]
  },
  {
   "cell_type": "code",
   "execution_count": null,
   "metadata": {},
   "outputs": [
    {
     "name": "stdout",
     "output_type": "stream",
     "text": [
      "GRID SEARCH:\n"
     ]
    }
   ],
   "source": [
    "parameters = {\n",
    "    'penalty':['l1','l2'],\n",
    "    'solver':['liblinear'],\n",
    "    'C':np.logspace(-5,0,100)\n",
    "}\n",
    "\n",
    "print (\"GRID SEARCH:\")\n",
    "lr_grid_search = GridSearchCV(LogisticRegression(), parameters, cv=10, verbose=0)\n",
    "lr_grid_search.fit(X_train_ss, y_train)\n",
    "print (\"Best parameters set:\")\n",
    "lr_best_parameters = lr_grid_search.best_estimator_.get_params()\n",
    "for param_name in sorted(parameters.keys()):\n",
    "    print (\"\\t%s: %r\" % (param_name, lr_best_parameters[param_name]))"
   ]
  },
  {
   "cell_type": "code",
   "execution_count": 61,
   "metadata": {},
   "outputs": [
    {
     "ename": "NameError",
     "evalue": "name 'lr_grid_search' is not defined",
     "output_type": "error",
     "traceback": [
      "\u001b[1;31m---------------------------------------------------------------------------\u001b[0m",
      "\u001b[1;31mNameError\u001b[0m                                 Traceback (most recent call last)",
      "\u001b[1;32m<ipython-input-61-6719e93af583>\u001b[0m in \u001b[0;36m<module>\u001b[1;34m\u001b[0m\n\u001b[1;32m----> 1\u001b[1;33m \u001b[0mcoef\u001b[0m \u001b[1;33m=\u001b[0m \u001b[0mlr_grid_search\u001b[0m\u001b[1;33m.\u001b[0m\u001b[0mbest_estimator_\u001b[0m\u001b[1;33m.\u001b[0m\u001b[0mcoef_\u001b[0m\u001b[1;33m\u001b[0m\u001b[1;33m\u001b[0m\u001b[0m\n\u001b[0m\u001b[0;32m      2\u001b[0m \u001b[1;33m\u001b[0m\u001b[0m\n\u001b[0;32m      3\u001b[0m lr_coef_data = pd.DataFrame({'coef':coef[0],\n\u001b[0;32m      4\u001b[0m                     \u001b[1;34m'mag'\u001b[0m\u001b[1;33m:\u001b[0m\u001b[0mnp\u001b[0m\u001b[1;33m.\u001b[0m\u001b[0mabs\u001b[0m\u001b[1;33m(\u001b[0m\u001b[0mcoef\u001b[0m\u001b[1;33m[\u001b[0m\u001b[1;36m0\u001b[0m\u001b[1;33m]\u001b[0m\u001b[1;33m)\u001b[0m\u001b[1;33m,\u001b[0m\u001b[1;33m\u001b[0m\u001b[1;33m\u001b[0m\u001b[0m\n\u001b[0;32m      5\u001b[0m                     'pred':X_test.columns})\n",
      "\u001b[1;31mNameError\u001b[0m: name 'lr_grid_search' is not defined"
     ]
    }
   ],
   "source": [
    "coef = lr_grid_search.best_estimator_.coef_\n",
    "\n",
    "lr_coef_data = pd.DataFrame({'coef':coef[0],\n",
    "                    'mag':np.abs(coef[0]),\n",
    "                    'pred':X_test.columns})\n",
    "\n",
    "lr_coef_analyst = pd.DataFrame({'coef':coef[1],\n",
    "                    'mag':np.abs(coef[1]),\n",
    "                    'pred':X_test.columns})\n",
    "\n",
    "lr_coef_engineer = pd.DataFrame({'coef':coef[2],\n",
    "                    'mag':np.abs(coef[2]),\n",
    "                    'pred':X_test.columns})\n",
    "\n",
    "lr_coef_manager = pd.DataFrame({'coef':coef[3],\n",
    "                    'mag':np.abs(coef[3]),\n",
    "                    'pred':X_test.columns})\n",
    "\n",
    "lr_coef_scientist=pd.DataFrame({'coef':coef[4],\n",
    "                    'mag':np.abs(coef[4]),\n",
    "                    'pred':X_test.columns})\n",
    "\n",
    "lr_coef_researcher=pd.DataFrame({'coef':coef[5],\n",
    "                    'mag':np.abs(coef[5]),\n",
    "                    'pred':X_test.columns})\n",
    "\n",
    "\n",
    "lr_coef_bi=pd.DataFrame({'coef':coef[6],\n",
    "                    'mag':np.abs(coef[6]),\n",
    "                    'pred':X_test.columns})\n",
    "\n",
    "\n",
    "\n",
    "lr_coef_other = pd.DataFrame({'coef':coef[7],\n",
    "                    'mag':np.abs(coef[7]),\n",
    "                    'pred':X_test.columns})\n",
    "\n",
    "lr_coef_data.sort_values('mag', ascending=False, inplace=True)\n",
    "lr_coef_analyst.sort_values('mag', ascending=False, inplace=True)\n",
    "lr_coef_engineer.sort_values('mag', ascending=False, inplace=True)\n",
    "lr_coef_manager.sort_values('mag', ascending=False, inplace=True)\n",
    "lr_coef_scientist.sort_values('mag', ascending=False, inplace=True)\n",
    "lr_coef_researcher.sort_values('mag', ascending=False, inplace=True)\n",
    "lr_coef_bi.sort_values('mag', ascending=False, inplace=True)\n",
    "lr_coef_other.sort_values('mag', ascending=False, inplace=True)"
   ]
  },
  {
   "cell_type": "markdown",
   "metadata": {},
   "source": [
    "## Future plan\n",
    "Cannot supress the warning and could not run grid search. I also did scraping in a more detailed way, and went to each individual job post to extract more information. However, due to consistent error, and it's extremely slow to retrieve the information,it needs around 6 min to obtain data from one search page. The dataframe is loaded as follows:though it's not complete yet, it provides a much wider view as I scrape individual job post to extract data career specific information which would contain much more information comapred to the summary."
   ]
  },
  {
   "cell_type": "code",
   "execution_count": 1,
   "metadata": {},
   "outputs": [],
   "source": [
    "import pandas as pd"
   ]
  },
  {
   "cell_type": "code",
   "execution_count": 2,
   "metadata": {},
   "outputs": [],
   "source": [
    "df3=pd.read_csv('outcome.csv')"
   ]
  },
  {
   "cell_type": "code",
   "execution_count": 3,
   "metadata": {},
   "outputs": [
    {
     "data": {
      "text/html": [
       "<div>\n",
       "<style scoped>\n",
       "    .dataframe tbody tr th:only-of-type {\n",
       "        vertical-align: middle;\n",
       "    }\n",
       "\n",
       "    .dataframe tbody tr th {\n",
       "        vertical-align: top;\n",
       "    }\n",
       "\n",
       "    .dataframe thead th {\n",
       "        text-align: right;\n",
       "    }\n",
       "</style>\n",
       "<table border=\"1\" class=\"dataframe\">\n",
       "  <thead>\n",
       "    <tr style=\"text-align: right;\">\n",
       "      <th></th>\n",
       "      <th>Unnamed: 0</th>\n",
       "      <th>0</th>\n",
       "      <th>1</th>\n",
       "      <th>2</th>\n",
       "      <th>3</th>\n",
       "      <th>4</th>\n",
       "      <th>5</th>\n",
       "      <th>6</th>\n",
       "      <th>7</th>\n",
       "      <th>8</th>\n",
       "      <th>9</th>\n",
       "      <th>10</th>\n",
       "      <th>11</th>\n",
       "      <th>12</th>\n",
       "      <th>13</th>\n",
       "    </tr>\n",
       "  </thead>\n",
       "  <tbody>\n",
       "    <tr>\n",
       "      <th>0</th>\n",
       "      <td>0</td>\n",
       "      <td>jl_3becc778f10b2727</td>\n",
       "      <td>permanent</td>\n",
       "      <td>data+scientist</td>\n",
       "      <td>&lt;span class=\"date\"&gt;2 hours ago&lt;/span&gt;</td>\n",
       "      <td>Data Scientist</td>\n",
       "      <td>Barclays</td>\n",
       "      <td>NaN</td>\n",
       "      <td>Glasgow</td>\n",
       "      <td>4,332 reviews</td>\n",
       "      <td>4 out of 5</td>\n",
       "      <td>nosql,hive,r,java,sql,python,scala</td>\n",
       "      <td>intelligence,programming,modelling,statistical...</td>\n",
       "      <td>mathematics,statistics</td>\n",
       "      <td>Data Scientist - 90210626. Job Title – Data Sc...</td>\n",
       "    </tr>\n",
       "    <tr>\n",
       "      <th>1</th>\n",
       "      <td>1</td>\n",
       "      <td>jl_311f8c87f377fec1</td>\n",
       "      <td>permanent</td>\n",
       "      <td>data+scientist</td>\n",
       "      <td>&lt;span class=\"date\"&gt;9 days ago&lt;/span&gt;</td>\n",
       "      <td>Graduate Data Scientist</td>\n",
       "      <td>N Brown</td>\n",
       "      <td>£25,000 a year</td>\n",
       "      <td>Manchester M60</td>\n",
       "      <td>NaN</td>\n",
       "      <td>NaN</td>\n",
       "      <td>sql,python,r,sas</td>\n",
       "      <td>ai,research,machine,ml</td>\n",
       "      <td>mathematics,statistics</td>\n",
       "      <td>What a Data Scientist will be responsible for:...</td>\n",
       "    </tr>\n",
       "    <tr>\n",
       "      <th>2</th>\n",
       "      <td>2</td>\n",
       "      <td>jl_950a6428afc8792c</td>\n",
       "      <td>permanent</td>\n",
       "      <td>data+scientist</td>\n",
       "      <td>&lt;span class=\"date\"&gt;10 days ago&lt;/span&gt;</td>\n",
       "      <td>Data Scientist</td>\n",
       "      <td>Office for National Statistics</td>\n",
       "      <td>£35,200 a year</td>\n",
       "      <td>Newport NP10</td>\n",
       "      <td>43 reviews</td>\n",
       "      <td>4.2 out of 5</td>\n",
       "      <td>None</td>\n",
       "      <td>intelligence,statistical,analysis,artificial,r...</td>\n",
       "      <td>mathematics,statistics,degree</td>\n",
       "      <td>We are recruiting a Data Scientist to fill a v...</td>\n",
       "    </tr>\n",
       "    <tr>\n",
       "      <th>3</th>\n",
       "      <td>3</td>\n",
       "      <td>jl_8e7a2074815a0521</td>\n",
       "      <td>permanent</td>\n",
       "      <td>data+scientist</td>\n",
       "      <td>&lt;span class=\"date\"&gt;2 days ago&lt;/span&gt;</td>\n",
       "      <td>Data Scientist</td>\n",
       "      <td>Innovative Technology Ltd</td>\n",
       "      <td>NaN</td>\n",
       "      <td>Oldham</td>\n",
       "      <td>11 reviews</td>\n",
       "      <td>NaN</td>\n",
       "      <td>python,c++,r</td>\n",
       "      <td>artificial,research,machine,programming</td>\n",
       "      <td>phd,mathematics,degree</td>\n",
       "      <td>Are you an experienced Data Scientist, who’s l...</td>\n",
       "    </tr>\n",
       "    <tr>\n",
       "      <th>4</th>\n",
       "      <td>4</td>\n",
       "      <td>jl_a48d2101a8c79123</td>\n",
       "      <td>permanent</td>\n",
       "      <td>data+scientist</td>\n",
       "      <td>&lt;span class=\"date\"&gt;8 days ago&lt;/span&gt;</td>\n",
       "      <td>Senior Data Scientist</td>\n",
       "      <td>Office for National Statistics</td>\n",
       "      <td>£47,400 a year</td>\n",
       "      <td>Newport NP10</td>\n",
       "      <td>43 reviews</td>\n",
       "      <td>4.2 out of 5</td>\n",
       "      <td>sql,nosql,python,r</td>\n",
       "      <td>mining,intelligence,programming,modelling,stat...</td>\n",
       "      <td>statistics,degree</td>\n",
       "      <td>As a Senior Data Scientist within the Data Sci...</td>\n",
       "    </tr>\n",
       "  </tbody>\n",
       "</table>\n",
       "</div>"
      ],
      "text/plain": [
       "   Unnamed: 0                    0          1               2  \\\n",
       "0           0  jl_3becc778f10b2727  permanent  data+scientist   \n",
       "1           1  jl_311f8c87f377fec1  permanent  data+scientist   \n",
       "2           2  jl_950a6428afc8792c  permanent  data+scientist   \n",
       "3           3  jl_8e7a2074815a0521  permanent  data+scientist   \n",
       "4           4  jl_a48d2101a8c79123  permanent  data+scientist   \n",
       "\n",
       "                                       3                        4  \\\n",
       "0  <span class=\"date\">2 hours ago</span>           Data Scientist   \n",
       "1   <span class=\"date\">9 days ago</span>  Graduate Data Scientist   \n",
       "2  <span class=\"date\">10 days ago</span>           Data Scientist   \n",
       "3   <span class=\"date\">2 days ago</span>           Data Scientist   \n",
       "4   <span class=\"date\">8 days ago</span>    Senior Data Scientist   \n",
       "\n",
       "                                5               6               7  \\\n",
       "0                        Barclays             NaN         Glasgow   \n",
       "1                         N Brown  £25,000 a year  Manchester M60   \n",
       "2  Office for National Statistics  £35,200 a year    Newport NP10   \n",
       "3       Innovative Technology Ltd             NaN          Oldham   \n",
       "4  Office for National Statistics  £47,400 a year    Newport NP10   \n",
       "\n",
       "               8             9                                  10  \\\n",
       "0  4,332 reviews    4 out of 5  nosql,hive,r,java,sql,python,scala   \n",
       "1            NaN           NaN                    sql,python,r,sas   \n",
       "2     43 reviews  4.2 out of 5                                None   \n",
       "3     11 reviews           NaN                        python,c++,r   \n",
       "4     43 reviews  4.2 out of 5                  sql,nosql,python,r   \n",
       "\n",
       "                                                  11  \\\n",
       "0  intelligence,programming,modelling,statistical...   \n",
       "1                             ai,research,machine,ml   \n",
       "2  intelligence,statistical,analysis,artificial,r...   \n",
       "3            artificial,research,machine,programming   \n",
       "4  mining,intelligence,programming,modelling,stat...   \n",
       "\n",
       "                              12  \\\n",
       "0         mathematics,statistics   \n",
       "1         mathematics,statistics   \n",
       "2  mathematics,statistics,degree   \n",
       "3         phd,mathematics,degree   \n",
       "4              statistics,degree   \n",
       "\n",
       "                                                  13  \n",
       "0  Data Scientist - 90210626. Job Title – Data Sc...  \n",
       "1  What a Data Scientist will be responsible for:...  \n",
       "2  We are recruiting a Data Scientist to fill a v...  \n",
       "3  Are you an experienced Data Scientist, who’s l...  \n",
       "4  As a Senior Data Scientist within the Data Sci...  "
      ]
     },
     "execution_count": 3,
     "metadata": {},
     "output_type": "execute_result"
    }
   ],
   "source": [
    "df3.head()"
   ]
  },
  {
   "cell_type": "code",
   "execution_count": null,
   "metadata": {},
   "outputs": [],
   "source": []
  }
 ],
 "metadata": {
  "kernelspec": {
   "display_name": "Python 3",
   "language": "python",
   "name": "python3"
  },
  "language_info": {
   "codemirror_mode": {
    "name": "ipython",
    "version": 3
   },
   "file_extension": ".py",
   "mimetype": "text/x-python",
   "name": "python",
   "nbconvert_exporter": "python",
   "pygments_lexer": "ipython3",
   "version": "3.7.1"
  }
 },
 "nbformat": 4,
 "nbformat_minor": 2
}
